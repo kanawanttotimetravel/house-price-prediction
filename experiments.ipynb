{
 "cells": [
  {
   "cell_type": "code",
   "execution_count": 1,
   "outputs": [],
   "source": [
    "import numpy as np\n",
    "import pandas as pd\n",
    "\n",
    "import matplotlib.pyplot as plt\n",
    "import seaborn as sns"
   ],
   "metadata": {
    "collapsed": false,
    "ExecuteTime": {
     "end_time": "2024-05-28T06:28:50.150175400Z",
     "start_time": "2024-05-28T06:28:50.104340600Z"
    }
   }
  },
  {
   "cell_type": "markdown",
   "source": [
    "# Reading data"
   ],
   "metadata": {
    "collapsed": false
   }
  },
  {
   "cell_type": "code",
   "execution_count": 2,
   "outputs": [],
   "source": [
    "train_valid = pd.read_csv('datadata/train.csv')\n",
    "test = pd.read_csv('datadata/test.csv')"
   ],
   "metadata": {
    "collapsed": false,
    "ExecuteTime": {
     "end_time": "2024-05-28T06:28:50.238305600Z",
     "start_time": "2024-05-28T06:28:50.113712800Z"
    }
   }
  },
  {
   "cell_type": "code",
   "execution_count": 3,
   "outputs": [
    {
     "data": {
      "text/plain": "        price  bedrooms  bathrooms      living          lot  floors  \\\n0      325000         3          1  165.366035  1216.555184       1   \n1      257000         2          1   92.902267   343.738387       1   \n2      228500         3          1  100.334448   695.466369       1   \n3      288000         3          2  194.165738   696.767001       1   \n4      479000         2          2  161.742847   133.686362       2   \n...       ...       ...        ...         ...          ...     ...   \n17285  378000         3          1   92.902267   642.326273       1   \n17286  399950         3          2  286.789298   464.697139       2   \n17287  575000         3          2  196.952806   444.072835       2   \n17288  245000         1          0   35.302861  1393.534002       1   \n17289  315000         4          2  290.784095   557.320699       2   \n\n       waterfront  view  grade       above   basement  yr_built  yr_renovated  \\\n0               0     0      9  165.366035   0.000000      1983             0   \n1               0     0      6   74.321813  18.580453      1929             0   \n2               0     0      6   91.973244   8.361204      1942             0   \n3               0     0      7  118.914902  75.250836      1977             0   \n4               0     0      8  134.336678  27.406169      2007             0   \n...           ...   ...    ...         ...        ...       ...           ...   \n17285           0     0      7   92.902267   0.000000      1947             0   \n17286           0     0      8  286.789298   0.000000      2014             0   \n17287           0     0      7  196.952806   0.000000      2004             0   \n17288           0     0      5   35.302861   0.000000      1963             0   \n17289           0     0      7  290.784095   0.000000      2006             0   \n\n       zipcode      lat    living15        lot15  \n0        98042  47.3670  255.481234  1216.555184  \n1        98118  47.5520  117.985879   464.511334  \n2        98146  47.4838  108.695652   724.637681  \n3        98031  47.3951  167.224080   682.831661  \n4        98034  47.7043  194.165738   971.200297  \n...        ...      ...         ...          ...  \n17285    98125  47.7144   92.902267   645.392048  \n17286    98023  47.2974  271.924935   481.512449  \n17287    98053  47.6810  157.004831   246.191007  \n17288    98168  47.4810  108.695652  1393.534002  \n17289    98042  47.3837  280.564846   557.134894  \n\n[17290 rows x 17 columns]",
      "text/html": "<div>\n<style scoped>\n    .dataframe tbody tr th:only-of-type {\n        vertical-align: middle;\n    }\n\n    .dataframe tbody tr th {\n        vertical-align: top;\n    }\n\n    .dataframe thead th {\n        text-align: right;\n    }\n</style>\n<table border=\"1\" class=\"dataframe\">\n  <thead>\n    <tr style=\"text-align: right;\">\n      <th></th>\n      <th>price</th>\n      <th>bedrooms</th>\n      <th>bathrooms</th>\n      <th>living</th>\n      <th>lot</th>\n      <th>floors</th>\n      <th>waterfront</th>\n      <th>view</th>\n      <th>grade</th>\n      <th>above</th>\n      <th>basement</th>\n      <th>yr_built</th>\n      <th>yr_renovated</th>\n      <th>zipcode</th>\n      <th>lat</th>\n      <th>living15</th>\n      <th>lot15</th>\n    </tr>\n  </thead>\n  <tbody>\n    <tr>\n      <th>0</th>\n      <td>325000</td>\n      <td>3</td>\n      <td>1</td>\n      <td>165.366035</td>\n      <td>1216.555184</td>\n      <td>1</td>\n      <td>0</td>\n      <td>0</td>\n      <td>9</td>\n      <td>165.366035</td>\n      <td>0.000000</td>\n      <td>1983</td>\n      <td>0</td>\n      <td>98042</td>\n      <td>47.3670</td>\n      <td>255.481234</td>\n      <td>1216.555184</td>\n    </tr>\n    <tr>\n      <th>1</th>\n      <td>257000</td>\n      <td>2</td>\n      <td>1</td>\n      <td>92.902267</td>\n      <td>343.738387</td>\n      <td>1</td>\n      <td>0</td>\n      <td>0</td>\n      <td>6</td>\n      <td>74.321813</td>\n      <td>18.580453</td>\n      <td>1929</td>\n      <td>0</td>\n      <td>98118</td>\n      <td>47.5520</td>\n      <td>117.985879</td>\n      <td>464.511334</td>\n    </tr>\n    <tr>\n      <th>2</th>\n      <td>228500</td>\n      <td>3</td>\n      <td>1</td>\n      <td>100.334448</td>\n      <td>695.466369</td>\n      <td>1</td>\n      <td>0</td>\n      <td>0</td>\n      <td>6</td>\n      <td>91.973244</td>\n      <td>8.361204</td>\n      <td>1942</td>\n      <td>0</td>\n      <td>98146</td>\n      <td>47.4838</td>\n      <td>108.695652</td>\n      <td>724.637681</td>\n    </tr>\n    <tr>\n      <th>3</th>\n      <td>288000</td>\n      <td>3</td>\n      <td>2</td>\n      <td>194.165738</td>\n      <td>696.767001</td>\n      <td>1</td>\n      <td>0</td>\n      <td>0</td>\n      <td>7</td>\n      <td>118.914902</td>\n      <td>75.250836</td>\n      <td>1977</td>\n      <td>0</td>\n      <td>98031</td>\n      <td>47.3951</td>\n      <td>167.224080</td>\n      <td>682.831661</td>\n    </tr>\n    <tr>\n      <th>4</th>\n      <td>479000</td>\n      <td>2</td>\n      <td>2</td>\n      <td>161.742847</td>\n      <td>133.686362</td>\n      <td>2</td>\n      <td>0</td>\n      <td>0</td>\n      <td>8</td>\n      <td>134.336678</td>\n      <td>27.406169</td>\n      <td>2007</td>\n      <td>0</td>\n      <td>98034</td>\n      <td>47.7043</td>\n      <td>194.165738</td>\n      <td>971.200297</td>\n    </tr>\n    <tr>\n      <th>...</th>\n      <td>...</td>\n      <td>...</td>\n      <td>...</td>\n      <td>...</td>\n      <td>...</td>\n      <td>...</td>\n      <td>...</td>\n      <td>...</td>\n      <td>...</td>\n      <td>...</td>\n      <td>...</td>\n      <td>...</td>\n      <td>...</td>\n      <td>...</td>\n      <td>...</td>\n      <td>...</td>\n      <td>...</td>\n    </tr>\n    <tr>\n      <th>17285</th>\n      <td>378000</td>\n      <td>3</td>\n      <td>1</td>\n      <td>92.902267</td>\n      <td>642.326273</td>\n      <td>1</td>\n      <td>0</td>\n      <td>0</td>\n      <td>7</td>\n      <td>92.902267</td>\n      <td>0.000000</td>\n      <td>1947</td>\n      <td>0</td>\n      <td>98125</td>\n      <td>47.7144</td>\n      <td>92.902267</td>\n      <td>645.392048</td>\n    </tr>\n    <tr>\n      <th>17286</th>\n      <td>399950</td>\n      <td>3</td>\n      <td>2</td>\n      <td>286.789298</td>\n      <td>464.697139</td>\n      <td>2</td>\n      <td>0</td>\n      <td>0</td>\n      <td>8</td>\n      <td>286.789298</td>\n      <td>0.000000</td>\n      <td>2014</td>\n      <td>0</td>\n      <td>98023</td>\n      <td>47.2974</td>\n      <td>271.924935</td>\n      <td>481.512449</td>\n    </tr>\n    <tr>\n      <th>17287</th>\n      <td>575000</td>\n      <td>3</td>\n      <td>2</td>\n      <td>196.952806</td>\n      <td>444.072835</td>\n      <td>2</td>\n      <td>0</td>\n      <td>0</td>\n      <td>7</td>\n      <td>196.952806</td>\n      <td>0.000000</td>\n      <td>2004</td>\n      <td>0</td>\n      <td>98053</td>\n      <td>47.6810</td>\n      <td>157.004831</td>\n      <td>246.191007</td>\n    </tr>\n    <tr>\n      <th>17288</th>\n      <td>245000</td>\n      <td>1</td>\n      <td>0</td>\n      <td>35.302861</td>\n      <td>1393.534002</td>\n      <td>1</td>\n      <td>0</td>\n      <td>0</td>\n      <td>5</td>\n      <td>35.302861</td>\n      <td>0.000000</td>\n      <td>1963</td>\n      <td>0</td>\n      <td>98168</td>\n      <td>47.4810</td>\n      <td>108.695652</td>\n      <td>1393.534002</td>\n    </tr>\n    <tr>\n      <th>17289</th>\n      <td>315000</td>\n      <td>4</td>\n      <td>2</td>\n      <td>290.784095</td>\n      <td>557.320699</td>\n      <td>2</td>\n      <td>0</td>\n      <td>0</td>\n      <td>7</td>\n      <td>290.784095</td>\n      <td>0.000000</td>\n      <td>2006</td>\n      <td>0</td>\n      <td>98042</td>\n      <td>47.3837</td>\n      <td>280.564846</td>\n      <td>557.134894</td>\n    </tr>\n  </tbody>\n</table>\n<p>17290 rows × 17 columns</p>\n</div>"
     },
     "execution_count": 3,
     "metadata": {},
     "output_type": "execute_result"
    }
   ],
   "source": [
    "train_valid"
   ],
   "metadata": {
    "collapsed": false,
    "ExecuteTime": {
     "end_time": "2024-05-28T06:28:50.241987600Z",
     "start_time": "2024-05-28T06:28:50.206810Z"
    }
   }
  },
  {
   "cell_type": "markdown",
   "source": [
    "# Train/valid splitting"
   ],
   "metadata": {
    "collapsed": false
   }
  },
  {
   "cell_type": "code",
   "execution_count": 4,
   "outputs": [],
   "source": [
    "from sklearn.model_selection import train_test_split\n",
    "train, valid = train_test_split(train_valid, test_size=0.2, random_state=42)\n",
    "\n",
    "X_train = train.drop(columns=['price'])\n",
    "y_train = train['price']\n",
    "X_valid = valid.drop(columns=['price'])\n",
    "y_valid = valid['price']"
   ],
   "metadata": {
    "collapsed": false,
    "ExecuteTime": {
     "end_time": "2024-05-28T06:28:50.591277800Z",
     "start_time": "2024-05-28T06:28:50.243762900Z"
    }
   }
  },
  {
   "cell_type": "markdown",
   "source": [
    "# Define objective function"
   ],
   "metadata": {
    "collapsed": false
   }
  },
  {
   "cell_type": "code",
   "execution_count": 5,
   "outputs": [],
   "source": [
    "from sklearn.svm import SVR, LinearSVR\n",
    "from sklearn.tree import DecisionTreeRegressor\n",
    "from sklearn.linear_model import LinearRegression\n",
    "from sklearn.metrics import mean_squared_error, mean_absolute_error, r2_score\n",
    "from sklearn.ensemble import RandomForestRegressor"
   ],
   "metadata": {
    "collapsed": false,
    "ExecuteTime": {
     "end_time": "2024-05-28T06:28:51.467478600Z",
     "start_time": "2024-05-28T06:28:50.591277800Z"
    }
   }
  },
  {
   "cell_type": "code",
   "execution_count": 6,
   "outputs": [],
   "source": [
    "def objective(model, loss_func):\n",
    "    model.fit(X_train, y_train)\n",
    "    predict = model.predict(X_valid)\n",
    "    return loss_func(y_valid, predict)\n"
   ],
   "metadata": {
    "collapsed": false,
    "ExecuteTime": {
     "end_time": "2024-05-28T06:28:51.474159300Z",
     "start_time": "2024-05-28T06:28:51.469487400Z"
    }
   }
  },
  {
   "cell_type": "markdown",
   "source": [
    "# Baseline: Linear Regression"
   ],
   "metadata": {
    "collapsed": false
   }
  },
  {
   "cell_type": "code",
   "execution_count": 7,
   "outputs": [
    {
     "data": {
      "text/plain": "35895389415.54213"
     },
     "execution_count": 7,
     "metadata": {},
     "output_type": "execute_result"
    }
   ],
   "source": [
    "objective(LinearRegression(), mean_squared_error)"
   ],
   "metadata": {
    "collapsed": false,
    "ExecuteTime": {
     "end_time": "2024-05-28T06:28:51.765949800Z",
     "start_time": "2024-05-28T06:28:51.480008800Z"
    }
   }
  },
  {
   "cell_type": "code",
   "execution_count": 8,
   "outputs": [
    {
     "data": {
      "text/plain": "124126.53695622204"
     },
     "execution_count": 8,
     "metadata": {},
     "output_type": "execute_result"
    }
   ],
   "source": [
    "objective(LinearRegression(), mean_absolute_error)"
   ],
   "metadata": {
    "collapsed": false,
    "ExecuteTime": {
     "end_time": "2024-05-28T06:28:51.786380Z",
     "start_time": "2024-05-28T06:28:51.761991700Z"
    }
   }
  },
  {
   "cell_type": "code",
   "execution_count": 9,
   "outputs": [
    {
     "data": {
      "text/plain": "0.6983886029832058"
     },
     "execution_count": 9,
     "metadata": {},
     "output_type": "execute_result"
    }
   ],
   "source": [
    "objective(LinearRegression(), r2_score)"
   ],
   "metadata": {
    "collapsed": false,
    "ExecuteTime": {
     "end_time": "2024-05-28T06:28:51.913266300Z",
     "start_time": "2024-05-28T06:28:51.786380Z"
    }
   }
  },
  {
   "cell_type": "markdown",
   "source": [
    "# Support Vector Machine\n",
    "## Linear SVM"
   ],
   "metadata": {
    "collapsed": false
   }
  },
  {
   "cell_type": "code",
   "execution_count": 10,
   "outputs": [
    {
     "name": "stderr",
     "output_type": "stream",
     "text": [
      "F:\\miniconda\\envs\\kana\\Lib\\site-packages\\sklearn\\svm\\_classes.py:31: FutureWarning: The default value of `dual` will change from `True` to `'auto'` in 1.5. Set the value of `dual` explicitly to suppress the warning.\n",
      "  warnings.warn(\n",
      "F:\\miniconda\\envs\\kana\\Lib\\site-packages\\sklearn\\svm\\_base.py:1237: ConvergenceWarning: Liblinear failed to converge, increase the number of iterations.\n",
      "  warnings.warn(\n"
     ]
    },
    {
     "data": {
      "text/plain": "73690365616.30244"
     },
     "execution_count": 10,
     "metadata": {},
     "output_type": "execute_result"
    }
   ],
   "source": [
    "objective(LinearSVR(max_iter=10000), mean_squared_error)"
   ],
   "metadata": {
    "collapsed": false,
    "ExecuteTime": {
     "end_time": "2024-05-28T06:29:09.088723Z",
     "start_time": "2024-05-28T06:28:51.819342700Z"
    }
   }
  },
  {
   "cell_type": "markdown",
   "source": [
    "### Hyperparameter finetuning"
   ],
   "metadata": {
    "collapsed": false
   }
  },
  {
   "cell_type": "code",
   "execution_count": 11,
   "outputs": [],
   "source": [
    "import optuna"
   ],
   "metadata": {
    "collapsed": false,
    "ExecuteTime": {
     "end_time": "2024-05-28T06:29:09.276037700Z",
     "start_time": "2024-05-28T06:29:08.964723700Z"
    }
   }
  },
  {
   "cell_type": "code",
   "execution_count": 12,
   "outputs": [],
   "source": [
    "def optuna_linear_svm(trial):\n",
    "    svr_c = trial.suggest_float('svr_c', 1e-10, 1e10, log=True)\n",
    "    regressor_obj = LinearSVR(C=svr_c, max_iter=10000)\n",
    "    regressor_obj.fit(X_train, y_train)\n",
    "    pred = regressor_obj.predict(X_valid)\n",
    "    error = mean_squared_error(y_valid, pred)\n",
    "    return error"
   ],
   "metadata": {
    "collapsed": false,
    "ExecuteTime": {
     "end_time": "2024-05-28T06:29:09.276037700Z",
     "start_time": "2024-05-28T06:29:09.223001400Z"
    }
   }
  },
  {
   "cell_type": "code",
   "execution_count": 13,
   "outputs": [
    {
     "name": "stderr",
     "output_type": "stream",
     "text": [
      "[I 2024-05-28 13:29:09,233] A new study created in memory with name: no-name-8af08fcc-f2cb-4068-8eee-75bb165a2247\n",
      "F:\\miniconda\\envs\\kana\\Lib\\site-packages\\sklearn\\svm\\_classes.py:31: FutureWarning: The default value of `dual` will change from `True` to `'auto'` in 1.5. Set the value of `dual` explicitly to suppress the warning.\n",
      "  warnings.warn(\n",
      "F:\\miniconda\\envs\\kana\\Lib\\site-packages\\sklearn\\svm\\_base.py:1237: ConvergenceWarning: Liblinear failed to converge, increase the number of iterations.\n",
      "  warnings.warn(\n",
      "[I 2024-05-28 13:29:29,858] Trial 0 finished with value: 205003483804.67062 and parameters: {'svr_c': 1752477.0402667248}. Best is trial 0 with value: 205003483804.67062.\n",
      "F:\\miniconda\\envs\\kana\\Lib\\site-packages\\sklearn\\svm\\_classes.py:31: FutureWarning: The default value of `dual` will change from `True` to `'auto'` in 1.5. Set the value of `dual` explicitly to suppress the warning.\n",
      "  warnings.warn(\n",
      "[I 2024-05-28 13:29:29,880] Trial 1 finished with value: 371794454367.4659 and parameters: {'svr_c': 2.548225800123644e-10}. Best is trial 0 with value: 205003483804.67062.\n",
      "F:\\miniconda\\envs\\kana\\Lib\\site-packages\\sklearn\\svm\\_classes.py:31: FutureWarning: The default value of `dual` will change from `True` to `'auto'` in 1.5. Set the value of `dual` explicitly to suppress the warning.\n",
      "  warnings.warn(\n",
      "[I 2024-05-28 13:29:29,903] Trial 2 finished with value: 261326636145.30807 and parameters: {'svr_c': 1.2269810701253667e-09}. Best is trial 0 with value: 205003483804.67062.\n",
      "F:\\miniconda\\envs\\kana\\Lib\\site-packages\\sklearn\\svm\\_classes.py:31: FutureWarning: The default value of `dual` will change from `True` to `'auto'` in 1.5. Set the value of `dual` explicitly to suppress the warning.\n",
      "  warnings.warn(\n",
      "F:\\miniconda\\envs\\kana\\Lib\\site-packages\\sklearn\\svm\\_base.py:1237: ConvergenceWarning: Liblinear failed to converge, increase the number of iterations.\n",
      "  warnings.warn(\n",
      "[I 2024-05-28 13:29:42,308] Trial 3 finished with value: 80161001501.04617 and parameters: {'svr_c': 69.0428100829682}. Best is trial 3 with value: 80161001501.04617.\n",
      "F:\\miniconda\\envs\\kana\\Lib\\site-packages\\sklearn\\svm\\_classes.py:31: FutureWarning: The default value of `dual` will change from `True` to `'auto'` in 1.5. Set the value of `dual` explicitly to suppress the warning.\n",
      "  warnings.warn(\n",
      "F:\\miniconda\\envs\\kana\\Lib\\site-packages\\sklearn\\svm\\_base.py:1237: ConvergenceWarning: Liblinear failed to converge, increase the number of iterations.\n",
      "  warnings.warn(\n",
      "[I 2024-05-28 13:29:44,561] Trial 4 finished with value: 65903841927.220955 and parameters: {'svr_c': 0.010917323679713974}. Best is trial 4 with value: 65903841927.220955.\n",
      "F:\\miniconda\\envs\\kana\\Lib\\site-packages\\sklearn\\svm\\_classes.py:31: FutureWarning: The default value of `dual` will change from `True` to `'auto'` in 1.5. Set the value of `dual` explicitly to suppress the warning.\n",
      "  warnings.warn(\n",
      "F:\\miniconda\\envs\\kana\\Lib\\site-packages\\sklearn\\svm\\_base.py:1237: ConvergenceWarning: Liblinear failed to converge, increase the number of iterations.\n",
      "  warnings.warn(\n",
      "[I 2024-05-28 13:29:56,060] Trial 5 finished with value: 119304130874.26189 and parameters: {'svr_c': 20.366359355235538}. Best is trial 4 with value: 65903841927.220955.\n",
      "F:\\miniconda\\envs\\kana\\Lib\\site-packages\\sklearn\\svm\\_classes.py:31: FutureWarning: The default value of `dual` will change from `True` to `'auto'` in 1.5. Set the value of `dual` explicitly to suppress the warning.\n",
      "  warnings.warn(\n",
      "F:\\miniconda\\envs\\kana\\Lib\\site-packages\\sklearn\\svm\\_base.py:1237: ConvergenceWarning: Liblinear failed to converge, increase the number of iterations.\n",
      "  warnings.warn(\n",
      "[I 2024-05-28 13:30:08,670] Trial 6 finished with value: 83412699751.2889 and parameters: {'svr_c': 40.96549522249647}. Best is trial 4 with value: 65903841927.220955.\n",
      "F:\\miniconda\\envs\\kana\\Lib\\site-packages\\sklearn\\svm\\_classes.py:31: FutureWarning: The default value of `dual` will change from `True` to `'auto'` in 1.5. Set the value of `dual` explicitly to suppress the warning.\n",
      "  warnings.warn(\n",
      "F:\\miniconda\\envs\\kana\\Lib\\site-packages\\sklearn\\svm\\_base.py:1237: ConvergenceWarning: Liblinear failed to converge, increase the number of iterations.\n",
      "  warnings.warn(\n",
      "[I 2024-05-28 13:30:20,090] Trial 7 finished with value: 90465891206.48955 and parameters: {'svr_c': 2278.1234923223733}. Best is trial 4 with value: 65903841927.220955.\n",
      "F:\\miniconda\\envs\\kana\\Lib\\site-packages\\sklearn\\svm\\_classes.py:31: FutureWarning: The default value of `dual` will change from `True` to `'auto'` in 1.5. Set the value of `dual` explicitly to suppress the warning.\n",
      "  warnings.warn(\n",
      "[I 2024-05-28 13:30:20,106] Trial 8 finished with value: 161666270916.94513 and parameters: {'svr_c': 5.389906834780755e-09}. Best is trial 4 with value: 65903841927.220955.\n",
      "F:\\miniconda\\envs\\kana\\Lib\\site-packages\\sklearn\\svm\\_classes.py:31: FutureWarning: The default value of `dual` will change from `True` to `'auto'` in 1.5. Set the value of `dual` explicitly to suppress the warning.\n",
      "  warnings.warn(\n",
      "F:\\miniconda\\envs\\kana\\Lib\\site-packages\\sklearn\\svm\\_base.py:1237: ConvergenceWarning: Liblinear failed to converge, increase the number of iterations.\n",
      "  warnings.warn(\n",
      "[I 2024-05-28 13:30:31,458] Trial 9 finished with value: 64722055757.27997 and parameters: {'svr_c': 16503064.213516507}. Best is trial 9 with value: 64722055757.27997.\n",
      "F:\\miniconda\\envs\\kana\\Lib\\site-packages\\sklearn\\svm\\_classes.py:31: FutureWarning: The default value of `dual` will change from `True` to `'auto'` in 1.5. Set the value of `dual` explicitly to suppress the warning.\n",
      "  warnings.warn(\n",
      "F:\\miniconda\\envs\\kana\\Lib\\site-packages\\sklearn\\svm\\_base.py:1237: ConvergenceWarning: Liblinear failed to converge, increase the number of iterations.\n",
      "  warnings.warn(\n",
      "[I 2024-05-28 13:30:43,911] Trial 10 finished with value: 120251560722.89656 and parameters: {'svr_c': 2385112543.7996674}. Best is trial 9 with value: 64722055757.27997.\n",
      "F:\\miniconda\\envs\\kana\\Lib\\site-packages\\sklearn\\svm\\_classes.py:31: FutureWarning: The default value of `dual` will change from `True` to `'auto'` in 1.5. Set the value of `dual` explicitly to suppress the warning.\n",
      "  warnings.warn(\n",
      "[I 2024-05-28 13:30:44,030] Trial 11 finished with value: 115799832852.89888 and parameters: {'svr_c': 0.0002039181443818}. Best is trial 9 with value: 64722055757.27997.\n",
      "F:\\miniconda\\envs\\kana\\Lib\\site-packages\\sklearn\\svm\\_classes.py:31: FutureWarning: The default value of `dual` will change from `True` to `'auto'` in 1.5. Set the value of `dual` explicitly to suppress the warning.\n",
      "  warnings.warn(\n",
      "[I 2024-05-28 13:30:44,328] Trial 12 finished with value: 97228011014.6649 and parameters: {'svr_c': 0.0008013874875726936}. Best is trial 9 with value: 64722055757.27997.\n",
      "F:\\miniconda\\envs\\kana\\Lib\\site-packages\\sklearn\\svm\\_classes.py:31: FutureWarning: The default value of `dual` will change from `True` to `'auto'` in 1.5. Set the value of `dual` explicitly to suppress the warning.\n",
      "  warnings.warn(\n",
      "[I 2024-05-28 13:30:44,775] Trial 13 finished with value: 92216399038.42456 and parameters: {'svr_c': 0.0011041139318556925}. Best is trial 9 with value: 64722055757.27997.\n",
      "F:\\miniconda\\envs\\kana\\Lib\\site-packages\\sklearn\\svm\\_classes.py:31: FutureWarning: The default value of `dual` will change from `True` to `'auto'` in 1.5. Set the value of `dual` explicitly to suppress the warning.\n",
      "  warnings.warn(\n",
      "F:\\miniconda\\envs\\kana\\Lib\\site-packages\\sklearn\\svm\\_base.py:1237: ConvergenceWarning: Liblinear failed to converge, increase the number of iterations.\n",
      "  warnings.warn(\n",
      "[I 2024-05-28 13:30:56,220] Trial 14 finished with value: 56434938741.45709 and parameters: {'svr_c': 403897.4268400133}. Best is trial 14 with value: 56434938741.45709.\n",
      "F:\\miniconda\\envs\\kana\\Lib\\site-packages\\sklearn\\svm\\_classes.py:31: FutureWarning: The default value of `dual` will change from `True` to `'auto'` in 1.5. Set the value of `dual` explicitly to suppress the warning.\n",
      "  warnings.warn(\n",
      "F:\\miniconda\\envs\\kana\\Lib\\site-packages\\sklearn\\svm\\_base.py:1237: ConvergenceWarning: Liblinear failed to converge, increase the number of iterations.\n",
      "  warnings.warn(\n",
      "[I 2024-05-28 13:31:07,871] Trial 15 finished with value: 154462076898.28046 and parameters: {'svr_c': 6509979248.443493}. Best is trial 14 with value: 56434938741.45709.\n",
      "F:\\miniconda\\envs\\kana\\Lib\\site-packages\\sklearn\\svm\\_classes.py:31: FutureWarning: The default value of `dual` will change from `True` to `'auto'` in 1.5. Set the value of `dual` explicitly to suppress the warning.\n",
      "  warnings.warn(\n",
      "F:\\miniconda\\envs\\kana\\Lib\\site-packages\\sklearn\\svm\\_base.py:1237: ConvergenceWarning: Liblinear failed to converge, increase the number of iterations.\n",
      "  warnings.warn(\n",
      "[I 2024-05-28 13:31:20,838] Trial 16 finished with value: 66882687454.02536 and parameters: {'svr_c': 484082.261065146}. Best is trial 14 with value: 56434938741.45709.\n",
      "F:\\miniconda\\envs\\kana\\Lib\\site-packages\\sklearn\\svm\\_classes.py:31: FutureWarning: The default value of `dual` will change from `True` to `'auto'` in 1.5. Set the value of `dual` explicitly to suppress the warning.\n",
      "  warnings.warn(\n",
      "F:\\miniconda\\envs\\kana\\Lib\\site-packages\\sklearn\\svm\\_base.py:1237: ConvergenceWarning: Liblinear failed to converge, increase the number of iterations.\n",
      "  warnings.warn(\n",
      "[I 2024-05-28 13:31:32,576] Trial 17 finished with value: 71867194130.0953 and parameters: {'svr_c': 7746229.8723548995}. Best is trial 14 with value: 56434938741.45709.\n",
      "F:\\miniconda\\envs\\kana\\Lib\\site-packages\\sklearn\\svm\\_classes.py:31: FutureWarning: The default value of `dual` will change from `True` to `'auto'` in 1.5. Set the value of `dual` explicitly to suppress the warning.\n",
      "  warnings.warn(\n",
      "F:\\miniconda\\envs\\kana\\Lib\\site-packages\\sklearn\\svm\\_base.py:1237: ConvergenceWarning: Liblinear failed to converge, increase the number of iterations.\n",
      "  warnings.warn(\n",
      "[I 2024-05-28 13:31:45,729] Trial 18 finished with value: 56022973498.79857 and parameters: {'svr_c': 9108.675036832383}. Best is trial 18 with value: 56022973498.79857.\n",
      "F:\\miniconda\\envs\\kana\\Lib\\site-packages\\sklearn\\svm\\_classes.py:31: FutureWarning: The default value of `dual` will change from `True` to `'auto'` in 1.5. Set the value of `dual` explicitly to suppress the warning.\n",
      "  warnings.warn(\n",
      "F:\\miniconda\\envs\\kana\\Lib\\site-packages\\sklearn\\svm\\_base.py:1237: ConvergenceWarning: Liblinear failed to converge, increase the number of iterations.\n",
      "  warnings.warn(\n",
      "[I 2024-05-28 13:31:58,458] Trial 19 finished with value: 69305087791.79549 and parameters: {'svr_c': 10442.359058141865}. Best is trial 18 with value: 56022973498.79857.\n",
      "F:\\miniconda\\envs\\kana\\Lib\\site-packages\\sklearn\\svm\\_classes.py:31: FutureWarning: The default value of `dual` will change from `True` to `'auto'` in 1.5. Set the value of `dual` explicitly to suppress the warning.\n",
      "  warnings.warn(\n",
      "F:\\miniconda\\envs\\kana\\Lib\\site-packages\\sklearn\\svm\\_base.py:1237: ConvergenceWarning: Liblinear failed to converge, increase the number of iterations.\n",
      "  warnings.warn(\n",
      "[I 2024-05-28 13:32:09,004] Trial 20 finished with value: 58856258499.35917 and parameters: {'svr_c': 0.13713404482214944}. Best is trial 18 with value: 56022973498.79857.\n",
      "F:\\miniconda\\envs\\kana\\Lib\\site-packages\\sklearn\\svm\\_classes.py:31: FutureWarning: The default value of `dual` will change from `True` to `'auto'` in 1.5. Set the value of `dual` explicitly to suppress the warning.\n",
      "  warnings.warn(\n",
      "F:\\miniconda\\envs\\kana\\Lib\\site-packages\\sklearn\\svm\\_base.py:1237: ConvergenceWarning: Liblinear failed to converge, increase the number of iterations.\n",
      "  warnings.warn(\n",
      "[I 2024-05-28 13:32:20,491] Trial 21 finished with value: 116286861567.87558 and parameters: {'svr_c': 0.22655948214374008}. Best is trial 18 with value: 56022973498.79857.\n",
      "F:\\miniconda\\envs\\kana\\Lib\\site-packages\\sklearn\\svm\\_classes.py:31: FutureWarning: The default value of `dual` will change from `True` to `'auto'` in 1.5. Set the value of `dual` explicitly to suppress the warning.\n",
      "  warnings.warn(\n",
      "[I 2024-05-28 13:32:20,510] Trial 22 finished with value: 125951509122.0808 and parameters: {'svr_c': 1.1942436063949686e-06}. Best is trial 18 with value: 56022973498.79857.\n",
      "F:\\miniconda\\envs\\kana\\Lib\\site-packages\\sklearn\\svm\\_classes.py:31: FutureWarning: The default value of `dual` will change from `True` to `'auto'` in 1.5. Set the value of `dual` explicitly to suppress the warning.\n",
      "  warnings.warn(\n",
      "F:\\miniconda\\envs\\kana\\Lib\\site-packages\\sklearn\\svm\\_base.py:1237: ConvergenceWarning: Liblinear failed to converge, increase the number of iterations.\n",
      "  warnings.warn(\n",
      "[I 2024-05-28 13:32:32,442] Trial 23 finished with value: 74537951212.6502 and parameters: {'svr_c': 8705.973849226792}. Best is trial 18 with value: 56022973498.79857.\n",
      "F:\\miniconda\\envs\\kana\\Lib\\site-packages\\sklearn\\svm\\_classes.py:31: FutureWarning: The default value of `dual` will change from `True` to `'auto'` in 1.5. Set the value of `dual` explicitly to suppress the warning.\n",
      "  warnings.warn(\n",
      "F:\\miniconda\\envs\\kana\\Lib\\site-packages\\sklearn\\svm\\_base.py:1237: ConvergenceWarning: Liblinear failed to converge, increase the number of iterations.\n",
      "  warnings.warn(\n",
      "[I 2024-05-28 13:32:43,994] Trial 24 finished with value: 62587998263.91203 and parameters: {'svr_c': 0.960369893397181}. Best is trial 18 with value: 56022973498.79857.\n",
      "F:\\miniconda\\envs\\kana\\Lib\\site-packages\\sklearn\\svm\\_classes.py:31: FutureWarning: The default value of `dual` will change from `True` to `'auto'` in 1.5. Set the value of `dual` explicitly to suppress the warning.\n",
      "  warnings.warn(\n",
      "F:\\miniconda\\envs\\kana\\Lib\\site-packages\\sklearn\\svm\\_base.py:1237: ConvergenceWarning: Liblinear failed to converge, increase the number of iterations.\n",
      "  warnings.warn(\n",
      "[I 2024-05-28 13:32:56,617] Trial 25 finished with value: 75726819925.16905 and parameters: {'svr_c': 181731.5892712715}. Best is trial 18 with value: 56022973498.79857.\n",
      "F:\\miniconda\\envs\\kana\\Lib\\site-packages\\sklearn\\svm\\_classes.py:31: FutureWarning: The default value of `dual` will change from `True` to `'auto'` in 1.5. Set the value of `dual` explicitly to suppress the warning.\n",
      "  warnings.warn(\n",
      "F:\\miniconda\\envs\\kana\\Lib\\site-packages\\sklearn\\svm\\_base.py:1237: ConvergenceWarning: Liblinear failed to converge, increase the number of iterations.\n",
      "  warnings.warn(\n",
      "[I 2024-05-28 13:33:08,118] Trial 26 finished with value: 107330938691.83647 and parameters: {'svr_c': 383948145.19053495}. Best is trial 18 with value: 56022973498.79857.\n",
      "F:\\miniconda\\envs\\kana\\Lib\\site-packages\\sklearn\\svm\\_classes.py:31: FutureWarning: The default value of `dual` will change from `True` to `'auto'` in 1.5. Set the value of `dual` explicitly to suppress the warning.\n",
      "  warnings.warn(\n",
      "F:\\miniconda\\envs\\kana\\Lib\\site-packages\\sklearn\\svm\\_base.py:1237: ConvergenceWarning: Liblinear failed to converge, increase the number of iterations.\n",
      "  warnings.warn(\n",
      "[I 2024-05-28 13:33:19,692] Trial 27 finished with value: 167285375816.09116 and parameters: {'svr_c': 1147.7249253590103}. Best is trial 18 with value: 56022973498.79857.\n",
      "F:\\miniconda\\envs\\kana\\Lib\\site-packages\\sklearn\\svm\\_classes.py:31: FutureWarning: The default value of `dual` will change from `True` to `'auto'` in 1.5. Set the value of `dual` explicitly to suppress the warning.\n",
      "  warnings.warn(\n",
      "F:\\miniconda\\envs\\kana\\Lib\\site-packages\\sklearn\\svm\\_base.py:1237: ConvergenceWarning: Liblinear failed to converge, increase the number of iterations.\n",
      "  warnings.warn(\n",
      "[I 2024-05-28 13:33:27,631] Trial 28 finished with value: 59403107995.74955 and parameters: {'svr_c': 0.06765145934325022}. Best is trial 18 with value: 56022973498.79857.\n",
      "F:\\miniconda\\envs\\kana\\Lib\\site-packages\\sklearn\\svm\\_classes.py:31: FutureWarning: The default value of `dual` will change from `True` to `'auto'` in 1.5. Set the value of `dual` explicitly to suppress the warning.\n",
      "  warnings.warn(\n",
      "[I 2024-05-28 13:33:27,662] Trial 29 finished with value: 124889093545.41696 and parameters: {'svr_c': 1.2908112375937178e-05}. Best is trial 18 with value: 56022973498.79857.\n",
      "F:\\miniconda\\envs\\kana\\Lib\\site-packages\\sklearn\\svm\\_classes.py:31: FutureWarning: The default value of `dual` will change from `True` to `'auto'` in 1.5. Set the value of `dual` explicitly to suppress the warning.\n",
      "  warnings.warn(\n",
      "F:\\miniconda\\envs\\kana\\Lib\\site-packages\\sklearn\\svm\\_base.py:1237: ConvergenceWarning: Liblinear failed to converge, increase the number of iterations.\n",
      "  warnings.warn(\n",
      "[I 2024-05-28 13:33:40,517] Trial 30 finished with value: 57587424276.83683 and parameters: {'svr_c': 77535.28477660812}. Best is trial 18 with value: 56022973498.79857.\n",
      "F:\\miniconda\\envs\\kana\\Lib\\site-packages\\sklearn\\svm\\_classes.py:31: FutureWarning: The default value of `dual` will change from `True` to `'auto'` in 1.5. Set the value of `dual` explicitly to suppress the warning.\n",
      "  warnings.warn(\n",
      "F:\\miniconda\\envs\\kana\\Lib\\site-packages\\sklearn\\svm\\_base.py:1237: ConvergenceWarning: Liblinear failed to converge, increase the number of iterations.\n",
      "  warnings.warn(\n",
      "[I 2024-05-28 13:33:52,036] Trial 31 finished with value: 177216069849.99844 and parameters: {'svr_c': 149400.68671697233}. Best is trial 18 with value: 56022973498.79857.\n",
      "F:\\miniconda\\envs\\kana\\Lib\\site-packages\\sklearn\\svm\\_classes.py:31: FutureWarning: The default value of `dual` will change from `True` to `'auto'` in 1.5. Set the value of `dual` explicitly to suppress the warning.\n",
      "  warnings.warn(\n",
      "F:\\miniconda\\envs\\kana\\Lib\\site-packages\\sklearn\\svm\\_base.py:1237: ConvergenceWarning: Liblinear failed to converge, increase the number of iterations.\n",
      "  warnings.warn(\n",
      "[I 2024-05-28 13:34:04,834] Trial 32 finished with value: 214975146528.9065 and parameters: {'svr_c': 26685048.797202058}. Best is trial 18 with value: 56022973498.79857.\n",
      "F:\\miniconda\\envs\\kana\\Lib\\site-packages\\sklearn\\svm\\_classes.py:31: FutureWarning: The default value of `dual` will change from `True` to `'auto'` in 1.5. Set the value of `dual` explicitly to suppress the warning.\n",
      "  warnings.warn(\n",
      "F:\\miniconda\\envs\\kana\\Lib\\site-packages\\sklearn\\svm\\_base.py:1237: ConvergenceWarning: Liblinear failed to converge, increase the number of iterations.\n",
      "  warnings.warn(\n",
      "[I 2024-05-28 13:34:16,458] Trial 33 finished with value: 68108217898.47224 and parameters: {'svr_c': 254.2118876891442}. Best is trial 18 with value: 56022973498.79857.\n",
      "F:\\miniconda\\envs\\kana\\Lib\\site-packages\\sklearn\\svm\\_classes.py:31: FutureWarning: The default value of `dual` will change from `True` to `'auto'` in 1.5. Set the value of `dual` explicitly to suppress the warning.\n",
      "  warnings.warn(\n",
      "F:\\miniconda\\envs\\kana\\Lib\\site-packages\\sklearn\\svm\\_base.py:1237: ConvergenceWarning: Liblinear failed to converge, increase the number of iterations.\n",
      "  warnings.warn(\n",
      "[I 2024-05-28 13:34:28,272] Trial 34 finished with value: 85294612643.31448 and parameters: {'svr_c': 4.651222419775652}. Best is trial 18 with value: 56022973498.79857.\n",
      "F:\\miniconda\\envs\\kana\\Lib\\site-packages\\sklearn\\svm\\_classes.py:31: FutureWarning: The default value of `dual` will change from `True` to `'auto'` in 1.5. Set the value of `dual` explicitly to suppress the warning.\n",
      "  warnings.warn(\n",
      "F:\\miniconda\\envs\\kana\\Lib\\site-packages\\sklearn\\svm\\_base.py:1237: ConvergenceWarning: Liblinear failed to converge, increase the number of iterations.\n",
      "  warnings.warn(\n",
      "[I 2024-05-28 13:34:44,013] Trial 35 finished with value: 132402462733.05513 and parameters: {'svr_c': 48973.412973617305}. Best is trial 18 with value: 56022973498.79857.\n",
      "F:\\miniconda\\envs\\kana\\Lib\\site-packages\\sklearn\\svm\\_classes.py:31: FutureWarning: The default value of `dual` will change from `True` to `'auto'` in 1.5. Set the value of `dual` explicitly to suppress the warning.\n",
      "  warnings.warn(\n",
      "F:\\miniconda\\envs\\kana\\Lib\\site-packages\\sklearn\\svm\\_base.py:1237: ConvergenceWarning: Liblinear failed to converge, increase the number of iterations.\n",
      "  warnings.warn(\n",
      "[I 2024-05-28 13:34:55,792] Trial 36 finished with value: 68664256949.0265 and parameters: {'svr_c': 743.4595746455572}. Best is trial 18 with value: 56022973498.79857.\n",
      "F:\\miniconda\\envs\\kana\\Lib\\site-packages\\sklearn\\svm\\_classes.py:31: FutureWarning: The default value of `dual` will change from `True` to `'auto'` in 1.5. Set the value of `dual` explicitly to suppress the warning.\n",
      "  warnings.warn(\n",
      "F:\\miniconda\\envs\\kana\\Lib\\site-packages\\sklearn\\svm\\_base.py:1237: ConvergenceWarning: Liblinear failed to converge, increase the number of iterations.\n",
      "  warnings.warn(\n",
      "[I 2024-05-28 13:35:08,123] Trial 37 finished with value: 354174930830.1968 and parameters: {'svr_c': 2552968.9487377624}. Best is trial 18 with value: 56022973498.79857.\n",
      "F:\\miniconda\\envs\\kana\\Lib\\site-packages\\sklearn\\svm\\_classes.py:31: FutureWarning: The default value of `dual` will change from `True` to `'auto'` in 1.5. Set the value of `dual` explicitly to suppress the warning.\n",
      "  warnings.warn(\n",
      "F:\\miniconda\\envs\\kana\\Lib\\site-packages\\sklearn\\svm\\_base.py:1237: ConvergenceWarning: Liblinear failed to converge, increase the number of iterations.\n",
      "  warnings.warn(\n",
      "[I 2024-05-28 13:35:20,356] Trial 38 finished with value: 71401793513.44629 and parameters: {'svr_c': 136464774.28662327}. Best is trial 18 with value: 56022973498.79857.\n",
      "F:\\miniconda\\envs\\kana\\Lib\\site-packages\\sklearn\\svm\\_classes.py:31: FutureWarning: The default value of `dual` will change from `True` to `'auto'` in 1.5. Set the value of `dual` explicitly to suppress the warning.\n",
      "  warnings.warn(\n",
      "F:\\miniconda\\envs\\kana\\Lib\\site-packages\\sklearn\\svm\\_base.py:1237: ConvergenceWarning: Liblinear failed to converge, increase the number of iterations.\n",
      "  warnings.warn(\n",
      "[I 2024-05-28 13:35:31,830] Trial 39 finished with value: 56725977724.32186 and parameters: {'svr_c': 10.064924857339227}. Best is trial 18 with value: 56022973498.79857.\n",
      "F:\\miniconda\\envs\\kana\\Lib\\site-packages\\sklearn\\svm\\_classes.py:31: FutureWarning: The default value of `dual` will change from `True` to `'auto'` in 1.5. Set the value of `dual` explicitly to suppress the warning.\n",
      "  warnings.warn(\n",
      "F:\\miniconda\\envs\\kana\\Lib\\site-packages\\sklearn\\svm\\_base.py:1237: ConvergenceWarning: Liblinear failed to converge, increase the number of iterations.\n",
      "  warnings.warn(\n",
      "[I 2024-05-28 13:35:44,545] Trial 40 finished with value: 66433941825.06959 and parameters: {'svr_c': 14.667043328627113}. Best is trial 18 with value: 56022973498.79857.\n",
      "F:\\miniconda\\envs\\kana\\Lib\\site-packages\\sklearn\\svm\\_classes.py:31: FutureWarning: The default value of `dual` will change from `True` to `'auto'` in 1.5. Set the value of `dual` explicitly to suppress the warning.\n",
      "  warnings.warn(\n",
      "F:\\miniconda\\envs\\kana\\Lib\\site-packages\\sklearn\\svm\\_base.py:1237: ConvergenceWarning: Liblinear failed to converge, increase the number of iterations.\n",
      "  warnings.warn(\n",
      "[I 2024-05-28 13:35:47,473] Trial 41 finished with value: 63149739429.19285 and parameters: {'svr_c': 0.016255063639747512}. Best is trial 18 with value: 56022973498.79857.\n",
      "F:\\miniconda\\envs\\kana\\Lib\\site-packages\\sklearn\\svm\\_classes.py:31: FutureWarning: The default value of `dual` will change from `True` to `'auto'` in 1.5. Set the value of `dual` explicitly to suppress the warning.\n",
      "  warnings.warn(\n",
      "F:\\miniconda\\envs\\kana\\Lib\\site-packages\\sklearn\\svm\\_base.py:1237: ConvergenceWarning: Liblinear failed to converge, increase the number of iterations.\n",
      "  warnings.warn(\n",
      "[I 2024-05-28 13:36:00,396] Trial 42 finished with value: 63811301188.771904 and parameters: {'svr_c': 109.79678384525575}. Best is trial 18 with value: 56022973498.79857.\n",
      "F:\\miniconda\\envs\\kana\\Lib\\site-packages\\sklearn\\svm\\_classes.py:31: FutureWarning: The default value of `dual` will change from `True` to `'auto'` in 1.5. Set the value of `dual` explicitly to suppress the warning.\n",
      "  warnings.warn(\n",
      "F:\\miniconda\\envs\\kana\\Lib\\site-packages\\sklearn\\svm\\_base.py:1237: ConvergenceWarning: Liblinear failed to converge, increase the number of iterations.\n",
      "  warnings.warn(\n",
      "[I 2024-05-28 13:36:13,101] Trial 43 finished with value: 79097948804.88306 and parameters: {'svr_c': 3.6076652159531717}. Best is trial 18 with value: 56022973498.79857.\n",
      "F:\\miniconda\\envs\\kana\\Lib\\site-packages\\sklearn\\svm\\_classes.py:31: FutureWarning: The default value of `dual` will change from `True` to `'auto'` in 1.5. Set the value of `dual` explicitly to suppress the warning.\n",
      "  warnings.warn(\n",
      "F:\\miniconda\\envs\\kana\\Lib\\site-packages\\sklearn\\svm\\_base.py:1237: ConvergenceWarning: Liblinear failed to converge, increase the number of iterations.\n",
      "  warnings.warn(\n",
      "[I 2024-05-28 13:36:24,934] Trial 44 finished with value: 97938955081.1391 and parameters: {'svr_c': 26983.834493432063}. Best is trial 18 with value: 56022973498.79857.\n",
      "F:\\miniconda\\envs\\kana\\Lib\\site-packages\\sklearn\\svm\\_classes.py:31: FutureWarning: The default value of `dual` will change from `True` to `'auto'` in 1.5. Set the value of `dual` explicitly to suppress the warning.\n",
      "  warnings.warn(\n",
      "F:\\miniconda\\envs\\kana\\Lib\\site-packages\\sklearn\\svm\\_base.py:1237: ConvergenceWarning: Liblinear failed to converge, increase the number of iterations.\n",
      "  warnings.warn(\n",
      "[I 2024-05-28 13:36:39,076] Trial 45 finished with value: 81574757997.86903 and parameters: {'svr_c': 733479.549019746}. Best is trial 18 with value: 56022973498.79857.\n",
      "F:\\miniconda\\envs\\kana\\Lib\\site-packages\\sklearn\\svm\\_classes.py:31: FutureWarning: The default value of `dual` will change from `True` to `'auto'` in 1.5. Set the value of `dual` explicitly to suppress the warning.\n",
      "  warnings.warn(\n",
      "F:\\miniconda\\envs\\kana\\Lib\\site-packages\\sklearn\\svm\\_base.py:1237: ConvergenceWarning: Liblinear failed to converge, increase the number of iterations.\n",
      "  warnings.warn(\n",
      "[I 2024-05-28 13:36:53,427] Trial 46 finished with value: 61625611454.82311 and parameters: {'svr_c': 2659.6027972847246}. Best is trial 18 with value: 56022973498.79857.\n",
      "F:\\miniconda\\envs\\kana\\Lib\\site-packages\\sklearn\\svm\\_classes.py:31: FutureWarning: The default value of `dual` will change from `True` to `'auto'` in 1.5. Set the value of `dual` explicitly to suppress the warning.\n",
      "  warnings.warn(\n",
      "F:\\miniconda\\envs\\kana\\Lib\\site-packages\\sklearn\\svm\\_base.py:1237: ConvergenceWarning: Liblinear failed to converge, increase the number of iterations.\n",
      "  warnings.warn(\n",
      "[I 2024-05-28 13:37:09,890] Trial 47 finished with value: 117977153970.92667 and parameters: {'svr_c': 85.88390554208587}. Best is trial 18 with value: 56022973498.79857.\n",
      "F:\\miniconda\\envs\\kana\\Lib\\site-packages\\sklearn\\svm\\_classes.py:31: FutureWarning: The default value of `dual` will change from `True` to `'auto'` in 1.5. Set the value of `dual` explicitly to suppress the warning.\n",
      "  warnings.warn(\n",
      "F:\\miniconda\\envs\\kana\\Lib\\site-packages\\sklearn\\svm\\_base.py:1237: ConvergenceWarning: Liblinear failed to converge, increase the number of iterations.\n",
      "  warnings.warn(\n",
      "[I 2024-05-28 13:37:21,569] Trial 48 finished with value: 72284279450.58426 and parameters: {'svr_c': 0.18831639522600394}. Best is trial 18 with value: 56022973498.79857.\n",
      "F:\\miniconda\\envs\\kana\\Lib\\site-packages\\sklearn\\svm\\_classes.py:31: FutureWarning: The default value of `dual` will change from `True` to `'auto'` in 1.5. Set the value of `dual` explicitly to suppress the warning.\n",
      "  warnings.warn(\n",
      "F:\\miniconda\\envs\\kana\\Lib\\site-packages\\sklearn\\svm\\_base.py:1237: ConvergenceWarning: Liblinear failed to converge, increase the number of iterations.\n",
      "  warnings.warn(\n",
      "[I 2024-05-28 13:37:34,428] Trial 49 finished with value: 58184949278.274765 and parameters: {'svr_c': 1.461502472641697}. Best is trial 18 with value: 56022973498.79857.\n",
      "F:\\miniconda\\envs\\kana\\Lib\\site-packages\\sklearn\\svm\\_classes.py:31: FutureWarning: The default value of `dual` will change from `True` to `'auto'` in 1.5. Set the value of `dual` explicitly to suppress the warning.\n",
      "  warnings.warn(\n",
      "F:\\miniconda\\envs\\kana\\Lib\\site-packages\\sklearn\\svm\\_base.py:1237: ConvergenceWarning: Liblinear failed to converge, increase the number of iterations.\n",
      "  warnings.warn(\n",
      "[I 2024-05-28 13:37:49,136] Trial 50 finished with value: 84966788999.87627 and parameters: {'svr_c': 12.295302944465659}. Best is trial 18 with value: 56022973498.79857.\n",
      "F:\\miniconda\\envs\\kana\\Lib\\site-packages\\sklearn\\svm\\_classes.py:31: FutureWarning: The default value of `dual` will change from `True` to `'auto'` in 1.5. Set the value of `dual` explicitly to suppress the warning.\n",
      "  warnings.warn(\n",
      "F:\\miniconda\\envs\\kana\\Lib\\site-packages\\sklearn\\svm\\_base.py:1237: ConvergenceWarning: Liblinear failed to converge, increase the number of iterations.\n",
      "  warnings.warn(\n",
      "[I 2024-05-28 13:37:50,237] Trial 51 finished with value: 73552046891.2763 and parameters: {'svr_c': 0.003611946570110792}. Best is trial 18 with value: 56022973498.79857.\n",
      "F:\\miniconda\\envs\\kana\\Lib\\site-packages\\sklearn\\svm\\_classes.py:31: FutureWarning: The default value of `dual` will change from `True` to `'auto'` in 1.5. Set the value of `dual` explicitly to suppress the warning.\n",
      "  warnings.warn(\n",
      "F:\\miniconda\\envs\\kana\\Lib\\site-packages\\sklearn\\svm\\_base.py:1237: ConvergenceWarning: Liblinear failed to converge, increase the number of iterations.\n",
      "  warnings.warn(\n",
      "[I 2024-05-28 13:37:54,897] Trial 52 finished with value: 61541463082.22419 and parameters: {'svr_c': 0.027451234999934813}. Best is trial 18 with value: 56022973498.79857.\n",
      "F:\\miniconda\\envs\\kana\\Lib\\site-packages\\sklearn\\svm\\_classes.py:31: FutureWarning: The default value of `dual` will change from `True` to `'auto'` in 1.5. Set the value of `dual` explicitly to suppress the warning.\n",
      "  warnings.warn(\n",
      "F:\\miniconda\\envs\\kana\\Lib\\site-packages\\sklearn\\svm\\_base.py:1237: ConvergenceWarning: Liblinear failed to converge, increase the number of iterations.\n",
      "  warnings.warn(\n",
      "[I 2024-05-28 13:38:08,482] Trial 53 finished with value: 59527204885.200836 and parameters: {'svr_c': 1.0579475991242877}. Best is trial 18 with value: 56022973498.79857.\n",
      "F:\\miniconda\\envs\\kana\\Lib\\site-packages\\sklearn\\svm\\_classes.py:31: FutureWarning: The default value of `dual` will change from `True` to `'auto'` in 1.5. Set the value of `dual` explicitly to suppress the warning.\n",
      "  warnings.warn(\n",
      "[I 2024-05-28 13:38:08,536] Trial 54 finished with value: 122263365161.35562 and parameters: {'svr_c': 5.193859322832433e-05}. Best is trial 18 with value: 56022973498.79857.\n",
      "F:\\miniconda\\envs\\kana\\Lib\\site-packages\\sklearn\\svm\\_classes.py:31: FutureWarning: The default value of `dual` will change from `True` to `'auto'` in 1.5. Set the value of `dual` explicitly to suppress the warning.\n",
      "  warnings.warn(\n",
      "F:\\miniconda\\envs\\kana\\Lib\\site-packages\\sklearn\\svm\\_base.py:1237: ConvergenceWarning: Liblinear failed to converge, increase the number of iterations.\n",
      "  warnings.warn(\n",
      "[I 2024-05-28 13:38:21,006] Trial 55 finished with value: 60917435312.835815 and parameters: {'svr_c': 3479983.48268212}. Best is trial 18 with value: 56022973498.79857.\n",
      "F:\\miniconda\\envs\\kana\\Lib\\site-packages\\sklearn\\svm\\_classes.py:31: FutureWarning: The default value of `dual` will change from `True` to `'auto'` in 1.5. Set the value of `dual` explicitly to suppress the warning.\n",
      "  warnings.warn(\n",
      "F:\\miniconda\\envs\\kana\\Lib\\site-packages\\sklearn\\svm\\_base.py:1237: ConvergenceWarning: Liblinear failed to converge, increase the number of iterations.\n",
      "  warnings.warn(\n",
      "[I 2024-05-28 13:38:32,188] Trial 56 finished with value: 59113785924.52999 and parameters: {'svr_c': 0.6024704315188748}. Best is trial 18 with value: 56022973498.79857.\n",
      "F:\\miniconda\\envs\\kana\\Lib\\site-packages\\sklearn\\svm\\_classes.py:31: FutureWarning: The default value of `dual` will change from `True` to `'auto'` in 1.5. Set the value of `dual` explicitly to suppress the warning.\n",
      "  warnings.warn(\n",
      "F:\\miniconda\\envs\\kana\\Lib\\site-packages\\sklearn\\svm\\_base.py:1237: ConvergenceWarning: Liblinear failed to converge, increase the number of iterations.\n",
      "  warnings.warn(\n",
      "[I 2024-05-28 13:38:43,823] Trial 57 finished with value: 76055141333.32498 and parameters: {'svr_c': 9097.948788664604}. Best is trial 18 with value: 56022973498.79857.\n",
      "F:\\miniconda\\envs\\kana\\Lib\\site-packages\\sklearn\\svm\\_classes.py:31: FutureWarning: The default value of `dual` will change from `True` to `'auto'` in 1.5. Set the value of `dual` explicitly to suppress the warning.\n",
      "  warnings.warn(\n",
      "F:\\miniconda\\envs\\kana\\Lib\\site-packages\\sklearn\\svm\\_base.py:1237: ConvergenceWarning: Liblinear failed to converge, increase the number of iterations.\n",
      "  warnings.warn(\n",
      "[I 2024-05-28 13:38:58,394] Trial 58 finished with value: 59426252479.150505 and parameters: {'svr_c': 322.49750007254283}. Best is trial 18 with value: 56022973498.79857.\n",
      "F:\\miniconda\\envs\\kana\\Lib\\site-packages\\sklearn\\svm\\_classes.py:31: FutureWarning: The default value of `dual` will change from `True` to `'auto'` in 1.5. Set the value of `dual` explicitly to suppress the warning.\n",
      "  warnings.warn(\n",
      "F:\\miniconda\\envs\\kana\\Lib\\site-packages\\sklearn\\svm\\_base.py:1237: ConvergenceWarning: Liblinear failed to converge, increase the number of iterations.\n",
      "  warnings.warn(\n",
      "[I 2024-05-28 13:39:11,660] Trial 59 finished with value: 81988015753.30463 and parameters: {'svr_c': 84808.91509214441}. Best is trial 18 with value: 56022973498.79857.\n",
      "F:\\miniconda\\envs\\kana\\Lib\\site-packages\\sklearn\\svm\\_classes.py:31: FutureWarning: The default value of `dual` will change from `True` to `'auto'` in 1.5. Set the value of `dual` explicitly to suppress the warning.\n",
      "  warnings.warn(\n",
      "[I 2024-05-28 13:39:11,696] Trial 60 finished with value: 126488053627.3805 and parameters: {'svr_c': 2.534990186582969e-07}. Best is trial 18 with value: 56022973498.79857.\n",
      "F:\\miniconda\\envs\\kana\\Lib\\site-packages\\sklearn\\svm\\_classes.py:31: FutureWarning: The default value of `dual` will change from `True` to `'auto'` in 1.5. Set the value of `dual` explicitly to suppress the warning.\n",
      "  warnings.warn(\n",
      "F:\\miniconda\\envs\\kana\\Lib\\site-packages\\sklearn\\svm\\_base.py:1237: ConvergenceWarning: Liblinear failed to converge, increase the number of iterations.\n",
      "  warnings.warn(\n",
      "[I 2024-05-28 13:39:24,086] Trial 61 finished with value: 59530925791.0763 and parameters: {'svr_c': 0.5960306784201442}. Best is trial 18 with value: 56022973498.79857.\n",
      "F:\\miniconda\\envs\\kana\\Lib\\site-packages\\sklearn\\svm\\_classes.py:31: FutureWarning: The default value of `dual` will change from `True` to `'auto'` in 1.5. Set the value of `dual` explicitly to suppress the warning.\n",
      "  warnings.warn(\n",
      "F:\\miniconda\\envs\\kana\\Lib\\site-packages\\sklearn\\svm\\_base.py:1237: ConvergenceWarning: Liblinear failed to converge, increase the number of iterations.\n",
      "  warnings.warn(\n",
      "[I 2024-05-28 13:39:31,572] Trial 62 finished with value: 59226777446.49818 and parameters: {'svr_c': 0.060144091591860786}. Best is trial 18 with value: 56022973498.79857.\n",
      "F:\\miniconda\\envs\\kana\\Lib\\site-packages\\sklearn\\svm\\_classes.py:31: FutureWarning: The default value of `dual` will change from `True` to `'auto'` in 1.5. Set the value of `dual` explicitly to suppress the warning.\n",
      "  warnings.warn(\n",
      "[I 2024-05-28 13:39:32,208] Trial 63 finished with value: 80428869973.15143 and parameters: {'svr_c': 0.0022260946924601093}. Best is trial 18 with value: 56022973498.79857.\n",
      "F:\\miniconda\\envs\\kana\\Lib\\site-packages\\sklearn\\svm\\_classes.py:31: FutureWarning: The default value of `dual` will change from `True` to `'auto'` in 1.5. Set the value of `dual` explicitly to suppress the warning.\n",
      "  warnings.warn(\n",
      "F:\\miniconda\\envs\\kana\\Lib\\site-packages\\sklearn\\svm\\_base.py:1237: ConvergenceWarning: Liblinear failed to converge, increase the number of iterations.\n",
      "  warnings.warn(\n",
      "[I 2024-05-28 13:39:44,095] Trial 64 finished with value: 60443819761.372345 and parameters: {'svr_c': 27.61515905522788}. Best is trial 18 with value: 56022973498.79857.\n",
      "F:\\miniconda\\envs\\kana\\Lib\\site-packages\\sklearn\\svm\\_classes.py:31: FutureWarning: The default value of `dual` will change from `True` to `'auto'` in 1.5. Set the value of `dual` explicitly to suppress the warning.\n",
      "  warnings.warn(\n",
      "F:\\miniconda\\envs\\kana\\Lib\\site-packages\\sklearn\\svm\\_base.py:1237: ConvergenceWarning: Liblinear failed to converge, increase the number of iterations.\n",
      "  warnings.warn(\n",
      "[I 2024-05-28 13:39:56,087] Trial 65 finished with value: 89128289262.10762 and parameters: {'svr_c': 4.350541335854324}. Best is trial 18 with value: 56022973498.79857.\n",
      "F:\\miniconda\\envs\\kana\\Lib\\site-packages\\sklearn\\svm\\_classes.py:31: FutureWarning: The default value of `dual` will change from `True` to `'auto'` in 1.5. Set the value of `dual` explicitly to suppress the warning.\n",
      "  warnings.warn(\n",
      "F:\\miniconda\\envs\\kana\\Lib\\site-packages\\sklearn\\svm\\_base.py:1237: ConvergenceWarning: Liblinear failed to converge, increase the number of iterations.\n",
      "  warnings.warn(\n",
      "[I 2024-05-28 13:40:09,054] Trial 66 finished with value: 79929079715.99611 and parameters: {'svr_c': 2505.6795939054628}. Best is trial 18 with value: 56022973498.79857.\n",
      "F:\\miniconda\\envs\\kana\\Lib\\site-packages\\sklearn\\svm\\_classes.py:31: FutureWarning: The default value of `dual` will change from `True` to `'auto'` in 1.5. Set the value of `dual` explicitly to suppress the warning.\n",
      "  warnings.warn(\n",
      "[I 2024-05-28 13:40:09,250] Trial 67 finished with value: 109518327708.46565 and parameters: {'svr_c': 0.0003657319079177078}. Best is trial 18 with value: 56022973498.79857.\n",
      "F:\\miniconda\\envs\\kana\\Lib\\site-packages\\sklearn\\svm\\_classes.py:31: FutureWarning: The default value of `dual` will change from `True` to `'auto'` in 1.5. Set the value of `dual` explicitly to suppress the warning.\n",
      "  warnings.warn(\n",
      "F:\\miniconda\\envs\\kana\\Lib\\site-packages\\sklearn\\svm\\_base.py:1237: ConvergenceWarning: Liblinear failed to converge, increase the number of iterations.\n",
      "  warnings.warn(\n",
      "[I 2024-05-28 13:40:20,904] Trial 68 finished with value: 94871885956.52702 and parameters: {'svr_c': 620999.35195487}. Best is trial 18 with value: 56022973498.79857.\n",
      "F:\\miniconda\\envs\\kana\\Lib\\site-packages\\sklearn\\svm\\_classes.py:31: FutureWarning: The default value of `dual` will change from `True` to `'auto'` in 1.5. Set the value of `dual` explicitly to suppress the warning.\n",
      "  warnings.warn(\n",
      "F:\\miniconda\\envs\\kana\\Lib\\site-packages\\sklearn\\svm\\_base.py:1237: ConvergenceWarning: Liblinear failed to converge, increase the number of iterations.\n",
      "  warnings.warn(\n",
      "[I 2024-05-28 13:40:33,339] Trial 69 finished with value: 101053468932.03864 and parameters: {'svr_c': 0.8665512301979078}. Best is trial 18 with value: 56022973498.79857.\n",
      "F:\\miniconda\\envs\\kana\\Lib\\site-packages\\sklearn\\svm\\_classes.py:31: FutureWarning: The default value of `dual` will change from `True` to `'auto'` in 1.5. Set the value of `dual` explicitly to suppress the warning.\n",
      "  warnings.warn(\n",
      "F:\\miniconda\\envs\\kana\\Lib\\site-packages\\sklearn\\svm\\_base.py:1237: ConvergenceWarning: Liblinear failed to converge, increase the number of iterations.\n",
      "  warnings.warn(\n",
      "[I 2024-05-28 13:40:45,216] Trial 70 finished with value: 135450461167.09601 and parameters: {'svr_c': 21933866.29220187}. Best is trial 18 with value: 56022973498.79857.\n",
      "F:\\miniconda\\envs\\kana\\Lib\\site-packages\\sklearn\\svm\\_classes.py:31: FutureWarning: The default value of `dual` will change from `True` to `'auto'` in 1.5. Set the value of `dual` explicitly to suppress the warning.\n",
      "  warnings.warn(\n",
      "F:\\miniconda\\envs\\kana\\Lib\\site-packages\\sklearn\\svm\\_base.py:1237: ConvergenceWarning: Liblinear failed to converge, increase the number of iterations.\n",
      "  warnings.warn(\n",
      "[I 2024-05-28 13:40:53,970] Trial 71 finished with value: 68585613930.899254 and parameters: {'svr_c': 0.09657392675688661}. Best is trial 18 with value: 56022973498.79857.\n",
      "F:\\miniconda\\envs\\kana\\Lib\\site-packages\\sklearn\\svm\\_classes.py:31: FutureWarning: The default value of `dual` will change from `True` to `'auto'` in 1.5. Set the value of `dual` explicitly to suppress the warning.\n",
      "  warnings.warn(\n",
      "F:\\miniconda\\envs\\kana\\Lib\\site-packages\\sklearn\\svm\\_base.py:1237: ConvergenceWarning: Liblinear failed to converge, increase the number of iterations.\n",
      "  warnings.warn(\n",
      "[I 2024-05-28 13:40:55,488] Trial 72 finished with value: 69293589548.79242 and parameters: {'svr_c': 0.006172741226863814}. Best is trial 18 with value: 56022973498.79857.\n",
      "F:\\miniconda\\envs\\kana\\Lib\\site-packages\\sklearn\\svm\\_classes.py:31: FutureWarning: The default value of `dual` will change from `True` to `'auto'` in 1.5. Set the value of `dual` explicitly to suppress the warning.\n",
      "  warnings.warn(\n",
      "F:\\miniconda\\envs\\kana\\Lib\\site-packages\\sklearn\\svm\\_base.py:1237: ConvergenceWarning: Liblinear failed to converge, increase the number of iterations.\n",
      "  warnings.warn(\n",
      "[I 2024-05-28 13:40:59,794] Trial 73 finished with value: 61023635494.83753 and parameters: {'svr_c': 0.028332531479899472}. Best is trial 18 with value: 56022973498.79857.\n",
      "F:\\miniconda\\envs\\kana\\Lib\\site-packages\\sklearn\\svm\\_classes.py:31: FutureWarning: The default value of `dual` will change from `True` to `'auto'` in 1.5. Set the value of `dual` explicitly to suppress the warning.\n",
      "  warnings.warn(\n",
      "F:\\miniconda\\envs\\kana\\Lib\\site-packages\\sklearn\\svm\\_base.py:1237: ConvergenceWarning: Liblinear failed to converge, increase the number of iterations.\n",
      "  warnings.warn(\n",
      "[I 2024-05-28 13:41:08,888] Trial 74 finished with value: 69271774081.3505 and parameters: {'svr_c': 0.08338049747478826}. Best is trial 18 with value: 56022973498.79857.\n",
      "F:\\miniconda\\envs\\kana\\Lib\\site-packages\\sklearn\\svm\\_classes.py:31: FutureWarning: The default value of `dual` will change from `True` to `'auto'` in 1.5. Set the value of `dual` explicitly to suppress the warning.\n",
      "  warnings.warn(\n",
      "F:\\miniconda\\envs\\kana\\Lib\\site-packages\\sklearn\\svm\\_base.py:1237: ConvergenceWarning: Liblinear failed to converge, increase the number of iterations.\n",
      "  warnings.warn(\n",
      "[I 2024-05-28 13:41:20,768] Trial 75 finished with value: 78358621999.43916 and parameters: {'svr_c': 1.1027688739566852}. Best is trial 18 with value: 56022973498.79857.\n",
      "F:\\miniconda\\envs\\kana\\Lib\\site-packages\\sklearn\\svm\\_classes.py:31: FutureWarning: The default value of `dual` will change from `True` to `'auto'` in 1.5. Set the value of `dual` explicitly to suppress the warning.\n",
      "  warnings.warn(\n",
      "F:\\miniconda\\envs\\kana\\Lib\\site-packages\\sklearn\\svm\\_base.py:1237: ConvergenceWarning: Liblinear failed to converge, increase the number of iterations.\n",
      "  warnings.warn(\n",
      "[I 2024-05-28 13:41:32,490] Trial 76 finished with value: 113998720240.12291 and parameters: {'svr_c': 108584202.65023163}. Best is trial 18 with value: 56022973498.79857.\n",
      "F:\\miniconda\\envs\\kana\\Lib\\site-packages\\sklearn\\svm\\_classes.py:31: FutureWarning: The default value of `dual` will change from `True` to `'auto'` in 1.5. Set the value of `dual` explicitly to suppress the warning.\n",
      "  warnings.warn(\n",
      "F:\\miniconda\\envs\\kana\\Lib\\site-packages\\sklearn\\svm\\_base.py:1237: ConvergenceWarning: Liblinear failed to converge, increase the number of iterations.\n",
      "  warnings.warn(\n",
      "[I 2024-05-28 13:41:44,209] Trial 77 finished with value: 59718252983.110756 and parameters: {'svr_c': 0.2690403935075492}. Best is trial 18 with value: 56022973498.79857.\n",
      "F:\\miniconda\\envs\\kana\\Lib\\site-packages\\sklearn\\svm\\_classes.py:31: FutureWarning: The default value of `dual` will change from `True` to `'auto'` in 1.5. Set the value of `dual` explicitly to suppress the warning.\n",
      "  warnings.warn(\n",
      "F:\\miniconda\\envs\\kana\\Lib\\site-packages\\sklearn\\svm\\_base.py:1237: ConvergenceWarning: Liblinear failed to converge, increase the number of iterations.\n",
      "  warnings.warn(\n",
      "[I 2024-05-28 13:41:56,284] Trial 78 finished with value: 75842464538.58257 and parameters: {'svr_c': 17536.44692695393}. Best is trial 18 with value: 56022973498.79857.\n",
      "F:\\miniconda\\envs\\kana\\Lib\\site-packages\\sklearn\\svm\\_classes.py:31: FutureWarning: The default value of `dual` will change from `True` to `'auto'` in 1.5. Set the value of `dual` explicitly to suppress the warning.\n",
      "  warnings.warn(\n",
      "[I 2024-05-28 13:41:56,299] Trial 79 finished with value: 352015146460.3945 and parameters: {'svr_c': 4.0555320516149845e-10}. Best is trial 18 with value: 56022973498.79857.\n",
      "F:\\miniconda\\envs\\kana\\Lib\\site-packages\\sklearn\\svm\\_classes.py:31: FutureWarning: The default value of `dual` will change from `True` to `'auto'` in 1.5. Set the value of `dual` explicitly to suppress the warning.\n",
      "  warnings.warn(\n",
      "F:\\miniconda\\envs\\kana\\Lib\\site-packages\\sklearn\\svm\\_base.py:1237: ConvergenceWarning: Liblinear failed to converge, increase the number of iterations.\n",
      "  warnings.warn(\n",
      "[I 2024-05-28 13:42:08,184] Trial 80 finished with value: 84970143634.20526 and parameters: {'svr_c': 6.817107083966806}. Best is trial 18 with value: 56022973498.79857.\n",
      "F:\\miniconda\\envs\\kana\\Lib\\site-packages\\sklearn\\svm\\_classes.py:31: FutureWarning: The default value of `dual` will change from `True` to `'auto'` in 1.5. Set the value of `dual` explicitly to suppress the warning.\n",
      "  warnings.warn(\n",
      "F:\\miniconda\\envs\\kana\\Lib\\site-packages\\sklearn\\svm\\_base.py:1237: ConvergenceWarning: Liblinear failed to converge, increase the number of iterations.\n",
      "  warnings.warn(\n",
      "[I 2024-05-28 13:42:14,377] Trial 81 finished with value: 62772710599.62656 and parameters: {'svr_c': 0.033693917184170974}. Best is trial 18 with value: 56022973498.79857.\n",
      "F:\\miniconda\\envs\\kana\\Lib\\site-packages\\sklearn\\svm\\_classes.py:31: FutureWarning: The default value of `dual` will change from `True` to `'auto'` in 1.5. Set the value of `dual` explicitly to suppress the warning.\n",
      "  warnings.warn(\n",
      "[I 2024-05-28 13:42:14,884] Trial 82 finished with value: 92793024157.16232 and parameters: {'svr_c': 0.0010314202914463563}. Best is trial 18 with value: 56022973498.79857.\n",
      "F:\\miniconda\\envs\\kana\\Lib\\site-packages\\sklearn\\svm\\_classes.py:31: FutureWarning: The default value of `dual` will change from `True` to `'auto'` in 1.5. Set the value of `dual` explicitly to suppress the warning.\n",
      "  warnings.warn(\n",
      "F:\\miniconda\\envs\\kana\\Lib\\site-packages\\sklearn\\svm\\_base.py:1237: ConvergenceWarning: Liblinear failed to converge, increase the number of iterations.\n",
      "  warnings.warn(\n",
      "[I 2024-05-28 13:42:17,038] Trial 83 finished with value: 65711459820.837814 and parameters: {'svr_c': 0.009799396036267395}. Best is trial 18 with value: 56022973498.79857.\n",
      "F:\\miniconda\\envs\\kana\\Lib\\site-packages\\sklearn\\svm\\_classes.py:31: FutureWarning: The default value of `dual` will change from `True` to `'auto'` in 1.5. Set the value of `dual` explicitly to suppress the warning.\n",
      "  warnings.warn(\n",
      "F:\\miniconda\\envs\\kana\\Lib\\site-packages\\sklearn\\svm\\_base.py:1237: ConvergenceWarning: Liblinear failed to converge, increase the number of iterations.\n",
      "  warnings.warn(\n",
      "[I 2024-05-28 13:42:28,855] Trial 84 finished with value: 58224644581.7474 and parameters: {'svr_c': 226769.9653962125}. Best is trial 18 with value: 56022973498.79857.\n",
      "F:\\miniconda\\envs\\kana\\Lib\\site-packages\\sklearn\\svm\\_classes.py:31: FutureWarning: The default value of `dual` will change from `True` to `'auto'` in 1.5. Set the value of `dual` explicitly to suppress the warning.\n",
      "  warnings.warn(\n",
      "F:\\miniconda\\envs\\kana\\Lib\\site-packages\\sklearn\\svm\\_base.py:1237: ConvergenceWarning: Liblinear failed to converge, increase the number of iterations.\n",
      "  warnings.warn(\n",
      "[I 2024-05-28 13:42:41,277] Trial 85 finished with value: 59246449866.50761 and parameters: {'svr_c': 1971998.745212957}. Best is trial 18 with value: 56022973498.79857.\n",
      "F:\\miniconda\\envs\\kana\\Lib\\site-packages\\sklearn\\svm\\_classes.py:31: FutureWarning: The default value of `dual` will change from `True` to `'auto'` in 1.5. Set the value of `dual` explicitly to suppress the warning.\n",
      "  warnings.warn(\n",
      "F:\\miniconda\\envs\\kana\\Lib\\site-packages\\sklearn\\svm\\_base.py:1237: ConvergenceWarning: Liblinear failed to converge, increase the number of iterations.\n",
      "  warnings.warn(\n",
      "[I 2024-05-28 13:42:53,576] Trial 86 finished with value: 59768718739.54405 and parameters: {'svr_c': 384542.5076859481}. Best is trial 18 with value: 56022973498.79857.\n",
      "F:\\miniconda\\envs\\kana\\Lib\\site-packages\\sklearn\\svm\\_classes.py:31: FutureWarning: The default value of `dual` will change from `True` to `'auto'` in 1.5. Set the value of `dual` explicitly to suppress the warning.\n",
      "  warnings.warn(\n",
      "F:\\miniconda\\envs\\kana\\Lib\\site-packages\\sklearn\\svm\\_base.py:1237: ConvergenceWarning: Liblinear failed to converge, increase the number of iterations.\n",
      "  warnings.warn(\n",
      "[I 2024-05-28 13:43:05,719] Trial 87 finished with value: 70529570408.91507 and parameters: {'svr_c': 197203.91020442834}. Best is trial 18 with value: 56022973498.79857.\n",
      "F:\\miniconda\\envs\\kana\\Lib\\site-packages\\sklearn\\svm\\_classes.py:31: FutureWarning: The default value of `dual` will change from `True` to `'auto'` in 1.5. Set the value of `dual` explicitly to suppress the warning.\n",
      "  warnings.warn(\n",
      "F:\\miniconda\\envs\\kana\\Lib\\site-packages\\sklearn\\svm\\_base.py:1237: ConvergenceWarning: Liblinear failed to converge, increase the number of iterations.\n",
      "  warnings.warn(\n",
      "[I 2024-05-28 13:43:17,938] Trial 88 finished with value: 66492445756.52586 and parameters: {'svr_c': 6055154.836003275}. Best is trial 18 with value: 56022973498.79857.\n",
      "F:\\miniconda\\envs\\kana\\Lib\\site-packages\\sklearn\\svm\\_classes.py:31: FutureWarning: The default value of `dual` will change from `True` to `'auto'` in 1.5. Set the value of `dual` explicitly to suppress the warning.\n",
      "  warnings.warn(\n",
      "F:\\miniconda\\envs\\kana\\Lib\\site-packages\\sklearn\\svm\\_base.py:1237: ConvergenceWarning: Liblinear failed to converge, increase the number of iterations.\n",
      "  warnings.warn(\n",
      "[I 2024-05-28 13:43:29,797] Trial 89 finished with value: 87922033181.74374 and parameters: {'svr_c': 220.0012358260735}. Best is trial 18 with value: 56022973498.79857.\n",
      "F:\\miniconda\\envs\\kana\\Lib\\site-packages\\sklearn\\svm\\_classes.py:31: FutureWarning: The default value of `dual` will change from `True` to `'auto'` in 1.5. Set the value of `dual` explicitly to suppress the warning.\n",
      "  warnings.warn(\n",
      "F:\\miniconda\\envs\\kana\\Lib\\site-packages\\sklearn\\svm\\_base.py:1237: ConvergenceWarning: Liblinear failed to converge, increase the number of iterations.\n",
      "  warnings.warn(\n",
      "[I 2024-05-28 13:43:41,483] Trial 90 finished with value: 68847227309.04332 and parameters: {'svr_c': 5215.146878314512}. Best is trial 18 with value: 56022973498.79857.\n",
      "F:\\miniconda\\envs\\kana\\Lib\\site-packages\\sklearn\\svm\\_classes.py:31: FutureWarning: The default value of `dual` will change from `True` to `'auto'` in 1.5. Set the value of `dual` explicitly to suppress the warning.\n",
      "  warnings.warn(\n",
      "F:\\miniconda\\envs\\kana\\Lib\\site-packages\\sklearn\\svm\\_base.py:1237: ConvergenceWarning: Liblinear failed to converge, increase the number of iterations.\n",
      "  warnings.warn(\n",
      "[I 2024-05-28 13:43:53,947] Trial 91 finished with value: 100234014080.27339 and parameters: {'svr_c': 41693.48193238132}. Best is trial 18 with value: 56022973498.79857.\n",
      "F:\\miniconda\\envs\\kana\\Lib\\site-packages\\sklearn\\svm\\_classes.py:31: FutureWarning: The default value of `dual` will change from `True` to `'auto'` in 1.5. Set the value of `dual` explicitly to suppress the warning.\n",
      "  warnings.warn(\n",
      "F:\\miniconda\\envs\\kana\\Lib\\site-packages\\sklearn\\svm\\_base.py:1237: ConvergenceWarning: Liblinear failed to converge, increase the number of iterations.\n",
      "  warnings.warn(\n",
      "[I 2024-05-28 13:44:06,680] Trial 92 finished with value: 61873679738.049675 and parameters: {'svr_c': 1422166.7406626986}. Best is trial 18 with value: 56022973498.79857.\n",
      "F:\\miniconda\\envs\\kana\\Lib\\site-packages\\sklearn\\svm\\_classes.py:31: FutureWarning: The default value of `dual` will change from `True` to `'auto'` in 1.5. Set the value of `dual` explicitly to suppress the warning.\n",
      "  warnings.warn(\n",
      "F:\\miniconda\\envs\\kana\\Lib\\site-packages\\sklearn\\svm\\_base.py:1237: ConvergenceWarning: Liblinear failed to converge, increase the number of iterations.\n",
      "  warnings.warn(\n",
      "[I 2024-05-28 13:44:18,818] Trial 93 finished with value: 136201374537.2161 and parameters: {'svr_c': 793.8418365358866}. Best is trial 18 with value: 56022973498.79857.\n",
      "F:\\miniconda\\envs\\kana\\Lib\\site-packages\\sklearn\\svm\\_classes.py:31: FutureWarning: The default value of `dual` will change from `True` to `'auto'` in 1.5. Set the value of `dual` explicitly to suppress the warning.\n",
      "  warnings.warn(\n",
      "F:\\miniconda\\envs\\kana\\Lib\\site-packages\\sklearn\\svm\\_base.py:1237: ConvergenceWarning: Liblinear failed to converge, increase the number of iterations.\n",
      "  warnings.warn(\n",
      "[I 2024-05-28 13:44:31,570] Trial 94 finished with value: 81214690123.3176 and parameters: {'svr_c': 42555539.73218742}. Best is trial 18 with value: 56022973498.79857.\n",
      "F:\\miniconda\\envs\\kana\\Lib\\site-packages\\sklearn\\svm\\_classes.py:31: FutureWarning: The default value of `dual` will change from `True` to `'auto'` in 1.5. Set the value of `dual` explicitly to suppress the warning.\n",
      "  warnings.warn(\n",
      "F:\\miniconda\\envs\\kana\\Lib\\site-packages\\sklearn\\svm\\_base.py:1237: ConvergenceWarning: Liblinear failed to converge, increase the number of iterations.\n",
      "  warnings.warn(\n",
      "[I 2024-05-28 13:44:43,602] Trial 95 finished with value: 71397506818.82759 and parameters: {'svr_c': 1391625481.1582816}. Best is trial 18 with value: 56022973498.79857.\n",
      "F:\\miniconda\\envs\\kana\\Lib\\site-packages\\sklearn\\svm\\_classes.py:31: FutureWarning: The default value of `dual` will change from `True` to `'auto'` in 1.5. Set the value of `dual` explicitly to suppress the warning.\n",
      "  warnings.warn(\n",
      "F:\\miniconda\\envs\\kana\\Lib\\site-packages\\sklearn\\svm\\_base.py:1237: ConvergenceWarning: Liblinear failed to converge, increase the number of iterations.\n",
      "  warnings.warn(\n",
      "[I 2024-05-28 13:44:56,764] Trial 96 finished with value: 62746246310.60463 and parameters: {'svr_c': 2.461507337538108}. Best is trial 18 with value: 56022973498.79857.\n",
      "F:\\miniconda\\envs\\kana\\Lib\\site-packages\\sklearn\\svm\\_classes.py:31: FutureWarning: The default value of `dual` will change from `True` to `'auto'` in 1.5. Set the value of `dual` explicitly to suppress the warning.\n",
      "  warnings.warn(\n",
      "F:\\miniconda\\envs\\kana\\Lib\\site-packages\\sklearn\\svm\\_base.py:1237: ConvergenceWarning: Liblinear failed to converge, increase the number of iterations.\n",
      "  warnings.warn(\n",
      "[I 2024-05-28 13:45:08,966] Trial 97 finished with value: 55467035031.50063 and parameters: {'svr_c': 107575.1248333997}. Best is trial 97 with value: 55467035031.50063.\n",
      "F:\\miniconda\\envs\\kana\\Lib\\site-packages\\sklearn\\svm\\_classes.py:31: FutureWarning: The default value of `dual` will change from `True` to `'auto'` in 1.5. Set the value of `dual` explicitly to suppress the warning.\n",
      "  warnings.warn(\n",
      "F:\\miniconda\\envs\\kana\\Lib\\site-packages\\sklearn\\svm\\_base.py:1237: ConvergenceWarning: Liblinear failed to converge, increase the number of iterations.\n",
      "  warnings.warn(\n",
      "[I 2024-05-28 13:45:20,872] Trial 98 finished with value: 55887078888.43425 and parameters: {'svr_c': 175085.78362390632}. Best is trial 97 with value: 55467035031.50063.\n",
      "F:\\miniconda\\envs\\kana\\Lib\\site-packages\\sklearn\\svm\\_classes.py:31: FutureWarning: The default value of `dual` will change from `True` to `'auto'` in 1.5. Set the value of `dual` explicitly to suppress the warning.\n",
      "  warnings.warn(\n",
      "F:\\miniconda\\envs\\kana\\Lib\\site-packages\\sklearn\\svm\\_base.py:1237: ConvergenceWarning: Liblinear failed to converge, increase the number of iterations.\n",
      "  warnings.warn(\n",
      "[I 2024-05-28 13:45:33,504] Trial 99 finished with value: 66561837145.54054 and parameters: {'svr_c': 157521.3312135193}. Best is trial 97 with value: 55467035031.50063.\n"
     ]
    }
   ],
   "source": [
    "study = optuna.create_study(direction='minimize')\n",
    "study.optimize(optuna_linear_svm, n_trials=100)"
   ],
   "metadata": {
    "collapsed": false,
    "ExecuteTime": {
     "end_time": "2024-05-28T06:45:33.518134400Z",
     "start_time": "2024-05-28T06:29:09.234764500Z"
    }
   }
  },
  {
   "cell_type": "code",
   "execution_count": 40,
   "outputs": [
    {
     "name": "stdout",
     "output_type": "stream",
     "text": [
      "The best result is 55467035031.50063 with hyperparameter C=107575.1248333997\n"
     ]
    }
   ],
   "source": [
    "param = study.best_trial.params['svr_c']\n",
    "result = study.best_trial.value\n",
    "print(f'The best result is {result} with hyperparameter C={param}')"
   ],
   "metadata": {
    "collapsed": false,
    "ExecuteTime": {
     "end_time": "2024-05-28T10:27:41.522319100Z",
     "start_time": "2024-05-28T10:27:41.506535500Z"
    }
   }
  },
  {
   "cell_type": "markdown",
   "source": [
    "## Non-linear SVM"
   ],
   "metadata": {
    "collapsed": false
   }
  },
  {
   "cell_type": "markdown",
   "source": [],
   "metadata": {
    "collapsed": false
   }
  },
  {
   "cell_type": "code",
   "execution_count": 14,
   "outputs": [
    {
     "data": {
      "text/plain": "126529541859.09338"
     },
     "execution_count": 14,
     "metadata": {},
     "output_type": "execute_result"
    }
   ],
   "source": [
    "objective(SVR(max_iter=10000, kernel='rbf'), mean_squared_error)"
   ],
   "metadata": {
    "collapsed": false,
    "ExecuteTime": {
     "end_time": "2024-05-28T06:45:51.093705400Z",
     "start_time": "2024-05-28T06:45:33.518134400Z"
    }
   }
  },
  {
   "cell_type": "code",
   "execution_count": 15,
   "outputs": [],
   "source": [
    "def optuna_svm(trial):\n",
    "    svr_c = trial.suggest_float('svr_c', 1e-10, 1e10, log=True)\n",
    "    svr_kernel = trial.suggest_categorical('svr_kernel', ['rbf', 'poly'])\n",
    "    regressor_obj = SVR(C=svr_c,kernel=svr_kernel,max_iter=10000)\n",
    "    regressor_obj.fit(X_train, y_train)\n",
    "    pred = regressor_obj.predict(X_valid)\n",
    "    error = mean_squared_error(y_valid, pred)\n",
    "    return error"
   ],
   "metadata": {
    "collapsed": false,
    "ExecuteTime": {
     "end_time": "2024-05-28T06:45:51.099816100Z",
     "start_time": "2024-05-28T06:45:51.093705400Z"
    }
   }
  },
  {
   "cell_type": "code",
   "execution_count": 16,
   "outputs": [
    {
     "name": "stderr",
     "output_type": "stream",
     "text": [
      "[I 2024-05-28 13:45:51,104] A new study created in memory with name: no-name-08f2706c-fa0f-46af-880f-979389c65bc2\n",
      "F:\\miniconda\\envs\\kana\\Lib\\site-packages\\sklearn\\svm\\_base.py:297: ConvergenceWarning: Solver terminated early (max_iter=10000).  Consider pre-processing your data with StandardScaler or MinMaxScaler.\n",
      "  warnings.warn(\n",
      "[I 2024-05-28 13:45:58,497] Trial 0 finished with value: 1319623576811.454 and parameters: {'svr_c': 2350989821.370526, 'svr_kernel': 'poly'}. Best is trial 0 with value: 1319623576811.454.\n",
      "[I 2024-05-28 13:46:16,499] Trial 1 finished with value: 126529941008.08618 and parameters: {'svr_c': 5.751247774463919e-07, 'svr_kernel': 'rbf'}. Best is trial 1 with value: 126529941008.08618.\n",
      "F:\\miniconda\\envs\\kana\\Lib\\site-packages\\sklearn\\svm\\_base.py:297: ConvergenceWarning: Solver terminated early (max_iter=10000).  Consider pre-processing your data with StandardScaler or MinMaxScaler.\n",
      "  warnings.warn(\n",
      "[I 2024-05-28 13:46:26,472] Trial 2 finished with value: 86792549737.49461 and parameters: {'svr_c': 187704362.4924578, 'svr_kernel': 'poly'}. Best is trial 2 with value: 86792549737.49461.\n",
      "[I 2024-05-28 13:46:44,266] Trial 3 finished with value: 126529941008.07092 and parameters: {'svr_c': 2.066987156290725e-10, 'svr_kernel': 'rbf'}. Best is trial 2 with value: 86792549737.49461.\n",
      "[I 2024-05-28 13:46:54,629] Trial 4 finished with value: 126529886735.21855 and parameters: {'svr_c': 0.0874655409950438, 'svr_kernel': 'poly'}. Best is trial 2 with value: 86792549737.49461.\n",
      "[I 2024-05-28 13:47:12,876] Trial 5 finished with value: 109466518304.21638 and parameters: {'svr_c': 1552177.1299984874, 'svr_kernel': 'rbf'}. Best is trial 2 with value: 86792549737.49461.\n",
      "[I 2024-05-28 13:47:30,280] Trial 6 finished with value: 126529941231.24026 and parameters: {'svr_c': 0.008496127612124258, 'svr_kernel': 'rbf'}. Best is trial 2 with value: 86792549737.49461.\n",
      "[I 2024-05-28 13:47:47,988] Trial 7 finished with value: 126529012531.83563 and parameters: {'svr_c': 2.2747142480251985, 'svr_kernel': 'rbf'}. Best is trial 2 with value: 86792549737.49461.\n",
      "[I 2024-05-28 13:47:58,074] Trial 8 finished with value: 126022278295.0001 and parameters: {'svr_c': 849.7754333454842, 'svr_kernel': 'poly'}. Best is trial 2 with value: 86792549737.49461.\n",
      "[I 2024-05-28 13:48:15,741] Trial 9 finished with value: 126529941008.07082 and parameters: {'svr_c': 5.723194755145211e-10, 'svr_kernel': 'rbf'}. Best is trial 2 with value: 86792549737.49461.\n",
      "F:\\miniconda\\envs\\kana\\Lib\\site-packages\\sklearn\\svm\\_base.py:297: ConvergenceWarning: Solver terminated early (max_iter=10000).  Consider pre-processing your data with StandardScaler or MinMaxScaler.\n",
      "  warnings.warn(\n",
      "[I 2024-05-28 13:48:21,310] Trial 10 finished with value: 22755111204476.965 and parameters: {'svr_c': 7780417721.070877, 'svr_kernel': 'poly'}. Best is trial 2 with value: 86792549737.49461.\n",
      "[I 2024-05-28 13:48:31,700] Trial 11 finished with value: 120337614314.49124 and parameters: {'svr_c': 220331.6281345319, 'svr_kernel': 'poly'}. Best is trial 2 with value: 86792549737.49461.\n",
      "[I 2024-05-28 13:48:49,657] Trial 12 finished with value: 122965546875.53603 and parameters: {'svr_c': 152399.30786058833, 'svr_kernel': 'rbf'}. Best is trial 2 with value: 86792549737.49461.\n",
      "F:\\miniconda\\envs\\kana\\Lib\\site-packages\\sklearn\\svm\\_base.py:297: ConvergenceWarning: Solver terminated early (max_iter=10000).  Consider pre-processing your data with StandardScaler or MinMaxScaler.\n",
      "  warnings.warn(\n",
      "[I 2024-05-28 13:49:00,718] Trial 13 finished with value: 85876642409.52603 and parameters: {'svr_c': 4041160.5774894413, 'svr_kernel': 'poly'}. Best is trial 13 with value: 85876642409.52603.\n",
      "F:\\miniconda\\envs\\kana\\Lib\\site-packages\\sklearn\\svm\\_base.py:297: ConvergenceWarning: Solver terminated early (max_iter=10000).  Consider pre-processing your data with StandardScaler or MinMaxScaler.\n",
      "  warnings.warn(\n",
      "[I 2024-05-28 13:49:11,406] Trial 14 finished with value: 140802608066.94705 and parameters: {'svr_c': 44350422.589841, 'svr_kernel': 'poly'}. Best is trial 13 with value: 85876642409.52603.\n",
      "[I 2024-05-28 13:49:22,076] Trial 15 finished with value: 126279578468.34016 and parameters: {'svr_c': 328.8904822612725, 'svr_kernel': 'poly'}. Best is trial 13 with value: 85876642409.52603.\n",
      "[I 2024-05-28 13:49:32,228] Trial 16 finished with value: 126277659187.19661 and parameters: {'svr_c': 336.11041579103403, 'svr_kernel': 'poly'}. Best is trial 13 with value: 85876642409.52603.\n",
      "F:\\miniconda\\envs\\kana\\Lib\\site-packages\\sklearn\\svm\\_base.py:297: ConvergenceWarning: Solver terminated early (max_iter=10000).  Consider pre-processing your data with StandardScaler or MinMaxScaler.\n",
      "  warnings.warn(\n",
      "[I 2024-05-28 13:49:42,648] Trial 17 finished with value: 64350355231.53689 and parameters: {'svr_c': 36949471.988939464, 'svr_kernel': 'poly'}. Best is trial 17 with value: 64350355231.53689.\n",
      "[I 2024-05-28 13:49:53,311] Trial 18 finished with value: 125186541340.81903 and parameters: {'svr_c': 9746.62365637395, 'svr_kernel': 'poly'}. Best is trial 17 with value: 64350355231.53689.\n",
      "[I 2024-05-28 13:50:04,338] Trial 19 finished with value: 126529941008.73547 and parameters: {'svr_c': 2.0475499775545814e-05, 'svr_kernel': 'poly'}. Best is trial 17 with value: 64350355231.53689.\n",
      "F:\\miniconda\\envs\\kana\\Lib\\site-packages\\sklearn\\svm\\_base.py:297: ConvergenceWarning: Solver terminated early (max_iter=10000).  Consider pre-processing your data with StandardScaler or MinMaxScaler.\n",
      "  warnings.warn(\n",
      "[I 2024-05-28 13:50:16,837] Trial 20 finished with value: 81210073239.93436 and parameters: {'svr_c': 5311711.748366227, 'svr_kernel': 'poly'}. Best is trial 17 with value: 64350355231.53689.\n",
      "F:\\miniconda\\envs\\kana\\Lib\\site-packages\\sklearn\\svm\\_base.py:297: ConvergenceWarning: Solver terminated early (max_iter=10000).  Consider pre-processing your data with StandardScaler or MinMaxScaler.\n",
      "  warnings.warn(\n",
      "[I 2024-05-28 13:50:27,786] Trial 21 finished with value: 66942048068.63236 and parameters: {'svr_c': 17392658.925914597, 'svr_kernel': 'poly'}. Best is trial 17 with value: 64350355231.53689.\n",
      "F:\\miniconda\\envs\\kana\\Lib\\site-packages\\sklearn\\svm\\_base.py:297: ConvergenceWarning: Solver terminated early (max_iter=10000).  Consider pre-processing your data with StandardScaler or MinMaxScaler.\n",
      "  warnings.warn(\n",
      "[I 2024-05-28 13:50:38,108] Trial 22 finished with value: 259083517274.2808 and parameters: {'svr_c': 90481364.11504732, 'svr_kernel': 'poly'}. Best is trial 17 with value: 64350355231.53689.\n",
      "[I 2024-05-28 13:50:48,281] Trial 23 finished with value: 126525209444.78073 and parameters: {'svr_c': 5.679954214241742, 'svr_kernel': 'poly'}. Best is trial 17 with value: 64350355231.53689.\n",
      "[I 2024-05-28 13:50:58,988] Trial 24 finished with value: 125110930612.53691 and parameters: {'svr_c': 11651.049416442034, 'svr_kernel': 'poly'}. Best is trial 17 with value: 64350355231.53689.\n",
      "F:\\miniconda\\envs\\kana\\Lib\\site-packages\\sklearn\\svm\\_base.py:297: ConvergenceWarning: Solver terminated early (max_iter=10000).  Consider pre-processing your data with StandardScaler or MinMaxScaler.\n",
      "  warnings.warn(\n",
      "[I 2024-05-28 13:51:09,618] Trial 25 finished with value: 71325436691.76353 and parameters: {'svr_c': 11771401.910902489, 'svr_kernel': 'poly'}. Best is trial 17 with value: 64350355231.53689.\n",
      "F:\\miniconda\\envs\\kana\\Lib\\site-packages\\sklearn\\svm\\_base.py:297: ConvergenceWarning: Solver terminated early (max_iter=10000).  Consider pre-processing your data with StandardScaler or MinMaxScaler.\n",
      "  warnings.warn(\n",
      "[I 2024-05-28 13:51:18,620] Trial 26 finished with value: 71168690390.60835 and parameters: {'svr_c': 604660465.3084892, 'svr_kernel': 'poly'}. Best is trial 17 with value: 64350355231.53689.\n",
      "F:\\miniconda\\envs\\kana\\Lib\\site-packages\\sklearn\\svm\\_base.py:297: ConvergenceWarning: Solver terminated early (max_iter=10000).  Consider pre-processing your data with StandardScaler or MinMaxScaler.\n",
      "  warnings.warn(\n",
      "[I 2024-05-28 13:51:26,747] Trial 27 finished with value: 668751216901.6024 and parameters: {'svr_c': 944836989.0666667, 'svr_kernel': 'poly'}. Best is trial 17 with value: 64350355231.53689.\n",
      "F:\\miniconda\\envs\\kana\\Lib\\site-packages\\sklearn\\svm\\_base.py:297: ConvergenceWarning: Solver terminated early (max_iter=10000).  Consider pre-processing your data with StandardScaler or MinMaxScaler.\n",
      "  warnings.warn(\n",
      "[I 2024-05-28 13:51:33,294] Trial 28 finished with value: 1273534422905.0107 and parameters: {'svr_c': 5460364008.120395, 'svr_kernel': 'poly'}. Best is trial 17 with value: 64350355231.53689.\n",
      "[I 2024-05-28 13:51:43,582] Trial 29 finished with value: 123251861110.8767 and parameters: {'svr_c': 80592.06335646637, 'svr_kernel': 'poly'}. Best is trial 17 with value: 64350355231.53689.\n",
      "F:\\miniconda\\envs\\kana\\Lib\\site-packages\\sklearn\\svm\\_base.py:297: ConvergenceWarning: Solver terminated early (max_iter=10000).  Consider pre-processing your data with StandardScaler or MinMaxScaler.\n",
      "  warnings.warn(\n",
      "[I 2024-05-28 13:51:52,593] Trial 30 finished with value: 194868024776.7555 and parameters: {'svr_c': 611029913.5698469, 'svr_kernel': 'poly'}. Best is trial 17 with value: 64350355231.53689.\n",
      "F:\\miniconda\\envs\\kana\\Lib\\site-packages\\sklearn\\svm\\_base.py:297: ConvergenceWarning: Solver terminated early (max_iter=10000).  Consider pre-processing your data with StandardScaler or MinMaxScaler.\n",
      "  warnings.warn(\n",
      "[I 2024-05-28 13:52:03,238] Trial 31 finished with value: 68946865233.38246 and parameters: {'svr_c': 14688541.024462191, 'svr_kernel': 'poly'}. Best is trial 17 with value: 64350355231.53689.\n",
      "F:\\miniconda\\envs\\kana\\Lib\\site-packages\\sklearn\\svm\\_base.py:297: ConvergenceWarning: Solver terminated early (max_iter=10000).  Consider pre-processing your data with StandardScaler or MinMaxScaler.\n",
      "  warnings.warn(\n",
      "[I 2024-05-28 13:52:13,698] Trial 32 finished with value: 67436729587.0911 and parameters: {'svr_c': 74648113.8073713, 'svr_kernel': 'poly'}. Best is trial 17 with value: 64350355231.53689.\n",
      "F:\\miniconda\\envs\\kana\\Lib\\site-packages\\sklearn\\svm\\_base.py:297: ConvergenceWarning: Solver terminated early (max_iter=10000).  Consider pre-processing your data with StandardScaler or MinMaxScaler.\n",
      "  warnings.warn(\n",
      "[I 2024-05-28 13:52:23,947] Trial 33 finished with value: 102272113078.61475 and parameters: {'svr_c': 1510676.811527427, 'svr_kernel': 'poly'}. Best is trial 17 with value: 64350355231.53689.\n",
      "F:\\miniconda\\envs\\kana\\Lib\\site-packages\\sklearn\\svm\\_base.py:297: ConvergenceWarning: Solver terminated early (max_iter=10000).  Consider pre-processing your data with StandardScaler or MinMaxScaler.\n",
      "  warnings.warn(\n",
      "[I 2024-05-28 13:52:34,513] Trial 34 finished with value: 174625829834.0751 and parameters: {'svr_c': 60559950.64899854, 'svr_kernel': 'poly'}. Best is trial 17 with value: 64350355231.53689.\n",
      "[I 2024-05-28 13:52:45,179] Trial 35 finished with value: 125487917181.93515 and parameters: {'svr_c': 4603.280084564288, 'svr_kernel': 'poly'}. Best is trial 17 with value: 64350355231.53689.\n",
      "F:\\miniconda\\envs\\kana\\Lib\\site-packages\\sklearn\\svm\\_base.py:297: ConvergenceWarning: Solver terminated early (max_iter=10000).  Consider pre-processing your data with StandardScaler or MinMaxScaler.\n",
      "  warnings.warn(\n",
      "[I 2024-05-28 13:52:55,546] Trial 36 finished with value: 116528522865.58064 and parameters: {'svr_c': 429795.16420727514, 'svr_kernel': 'poly'}. Best is trial 17 with value: 64350355231.53689.\n",
      "[I 2024-05-28 13:53:13,251] Trial 37 finished with value: 126529941014.24783 and parameters: {'svr_c': 0.00023516324394233225, 'svr_kernel': 'rbf'}. Best is trial 17 with value: 64350355231.53689.\n",
      "[I 2024-05-28 13:53:23,288] Trial 38 finished with value: 126511537215.36841 and parameters: {'svr_c': 22.055042673606636, 'svr_kernel': 'poly'}. Best is trial 17 with value: 64350355231.53689.\n",
      "F:\\miniconda\\envs\\kana\\Lib\\site-packages\\sklearn\\svm\\_base.py:297: ConvergenceWarning: Solver terminated early (max_iter=10000).  Consider pre-processing your data with StandardScaler or MinMaxScaler.\n",
      "  warnings.warn(\n",
      "[I 2024-05-28 13:53:40,852] Trial 39 finished with value: 70355727834.8309 and parameters: {'svr_c': 21876673.826152477, 'svr_kernel': 'rbf'}. Best is trial 17 with value: 64350355231.53689.\n",
      "F:\\miniconda\\envs\\kana\\Lib\\site-packages\\sklearn\\svm\\_base.py:297: ConvergenceWarning: Solver terminated early (max_iter=10000).  Consider pre-processing your data with StandardScaler or MinMaxScaler.\n",
      "  warnings.warn(\n",
      "[I 2024-05-28 13:53:51,514] Trial 40 finished with value: 353960722808.06793 and parameters: {'svr_c': 303434100.08293974, 'svr_kernel': 'poly'}. Best is trial 17 with value: 64350355231.53689.\n",
      "F:\\miniconda\\envs\\kana\\Lib\\site-packages\\sklearn\\svm\\_base.py:297: ConvergenceWarning: Solver terminated early (max_iter=10000).  Consider pre-processing your data with StandardScaler or MinMaxScaler.\n",
      "  warnings.warn(\n",
      "[I 2024-05-28 13:54:09,314] Trial 41 finished with value: 72362698280.01677 and parameters: {'svr_c': 17548340.168615244, 'svr_kernel': 'rbf'}. Best is trial 17 with value: 64350355231.53689.\n",
      "[I 2024-05-28 13:54:27,151] Trial 42 finished with value: 126529912680.07602 and parameters: {'svr_c': 0.11435516276186397, 'svr_kernel': 'rbf'}. Best is trial 17 with value: 64350355231.53689.\n",
      "[I 2024-05-28 13:54:44,488] Trial 43 finished with value: 124568795929.59482 and parameters: {'svr_c': 41842.1113010394, 'svr_kernel': 'rbf'}. Best is trial 17 with value: 64350355231.53689.\n",
      "F:\\miniconda\\envs\\kana\\Lib\\site-packages\\sklearn\\svm\\_base.py:297: ConvergenceWarning: Solver terminated early (max_iter=10000).  Consider pre-processing your data with StandardScaler or MinMaxScaler.\n",
      "  warnings.warn(\n",
      "[I 2024-05-28 13:54:56,123] Trial 44 finished with value: 4779314103810.422 and parameters: {'svr_c': 8219453081.570947, 'svr_kernel': 'rbf'}. Best is trial 17 with value: 64350355231.53689.\n",
      "[I 2024-05-28 13:55:13,513] Trial 45 finished with value: 108251512409.76047 and parameters: {'svr_c': 1709906.2639953587, 'svr_kernel': 'rbf'}. Best is trial 17 with value: 64350355231.53689.\n",
      "[I 2024-05-28 13:55:31,451] Trial 46 finished with value: 116218674800.26518 and parameters: {'svr_c': 759681.6915873259, 'svr_kernel': 'rbf'}. Best is trial 17 with value: 64350355231.53689.\n",
      "[I 2024-05-28 13:55:48,793] Trial 47 finished with value: 126529941008.07123 and parameters: {'svr_c': 2.825804515981417e-08, 'svr_kernel': 'rbf'}. Best is trial 17 with value: 64350355231.53689.\n",
      "F:\\miniconda\\envs\\kana\\Lib\\site-packages\\sklearn\\svm\\_base.py:297: ConvergenceWarning: Solver terminated early (max_iter=10000).  Consider pre-processing your data with StandardScaler or MinMaxScaler.\n",
      "  warnings.warn(\n",
      "[I 2024-05-28 13:55:59,629] Trial 48 finished with value: 155841885551.122 and parameters: {'svr_c': 111984952.43201533, 'svr_kernel': 'poly'}. Best is trial 17 with value: 64350355231.53689.\n",
      "F:\\miniconda\\envs\\kana\\Lib\\site-packages\\sklearn\\svm\\_base.py:297: ConvergenceWarning: Solver terminated early (max_iter=10000).  Consider pre-processing your data with StandardScaler or MinMaxScaler.\n",
      "  warnings.warn(\n",
      "[I 2024-05-28 13:56:10,401] Trial 49 finished with value: 69914936965.16386 and parameters: {'svr_c': 12599234.934568694, 'svr_kernel': 'poly'}. Best is trial 17 with value: 64350355231.53689.\n",
      "F:\\miniconda\\envs\\kana\\Lib\\site-packages\\sklearn\\svm\\_base.py:297: ConvergenceWarning: Solver terminated early (max_iter=10000).  Consider pre-processing your data with StandardScaler or MinMaxScaler.\n",
      "  warnings.warn(\n",
      "[I 2024-05-28 13:56:17,570] Trial 50 finished with value: 1735918630873.3389 and parameters: {'svr_c': 2132654285.8557334, 'svr_kernel': 'poly'}. Best is trial 17 with value: 64350355231.53689.\n",
      "F:\\miniconda\\envs\\kana\\Lib\\site-packages\\sklearn\\svm\\_base.py:297: ConvergenceWarning: Solver terminated early (max_iter=10000).  Consider pre-processing your data with StandardScaler or MinMaxScaler.\n",
      "  warnings.warn(\n",
      "[I 2024-05-28 13:56:28,456] Trial 51 finished with value: 71728459978.70633 and parameters: {'svr_c': 10777881.246432578, 'svr_kernel': 'poly'}. Best is trial 17 with value: 64350355231.53689.\n",
      "F:\\miniconda\\envs\\kana\\Lib\\site-packages\\sklearn\\svm\\_base.py:297: ConvergenceWarning: Solver terminated early (max_iter=10000).  Consider pre-processing your data with StandardScaler or MinMaxScaler.\n",
      "  warnings.warn(\n",
      "[I 2024-05-28 13:56:38,400] Trial 52 finished with value: 136189273960.69417 and parameters: {'svr_c': 169207520.31963786, 'svr_kernel': 'poly'}. Best is trial 17 with value: 64350355231.53689.\n",
      "F:\\miniconda\\envs\\kana\\Lib\\site-packages\\sklearn\\svm\\_base.py:297: ConvergenceWarning: Solver terminated early (max_iter=10000).  Consider pre-processing your data with StandardScaler or MinMaxScaler.\n",
      "  warnings.warn(\n",
      "[I 2024-05-28 13:56:49,032] Trial 53 finished with value: 69835863526.93639 and parameters: {'svr_c': 22522099.36377645, 'svr_kernel': 'poly'}. Best is trial 17 with value: 64350355231.53689.\n",
      "F:\\miniconda\\envs\\kana\\Lib\\site-packages\\sklearn\\svm\\_base.py:297: ConvergenceWarning: Solver terminated early (max_iter=10000).  Consider pre-processing your data with StandardScaler or MinMaxScaler.\n",
      "  warnings.warn(\n",
      "[I 2024-05-28 13:56:59,717] Trial 54 finished with value: 116619788685.22935 and parameters: {'svr_c': 429039.13778280007, 'svr_kernel': 'poly'}. Best is trial 17 with value: 64350355231.53689.\n",
      "[I 2024-05-28 13:57:10,233] Trial 55 finished with value: 125827924160.34756 and parameters: {'svr_c': 1443.6742270993313, 'svr_kernel': 'poly'}. Best is trial 17 with value: 64350355231.53689.\n",
      "[I 2024-05-28 13:57:21,328] Trial 56 finished with value: 123997343255.55582 and parameters: {'svr_c': 49156.73430866374, 'svr_kernel': 'poly'}. Best is trial 17 with value: 64350355231.53689.\n",
      "F:\\miniconda\\envs\\kana\\Lib\\site-packages\\sklearn\\svm\\_base.py:297: ConvergenceWarning: Solver terminated early (max_iter=10000).  Consider pre-processing your data with StandardScaler or MinMaxScaler.\n",
      "  warnings.warn(\n",
      "[I 2024-05-28 13:57:31,893] Trial 57 finished with value: 73775218540.49864 and parameters: {'svr_c': 8846103.099521548, 'svr_kernel': 'poly'}. Best is trial 17 with value: 64350355231.53689.\n",
      "[I 2024-05-28 13:57:42,367] Trial 58 finished with value: 126477959211.3134 and parameters: {'svr_c': 61.299808957797204, 'svr_kernel': 'poly'}. Best is trial 17 with value: 64350355231.53689.\n",
      "F:\\miniconda\\envs\\kana\\Lib\\site-packages\\sklearn\\svm\\_base.py:297: ConvergenceWarning: Solver terminated early (max_iter=10000).  Consider pre-processing your data with StandardScaler or MinMaxScaler.\n",
      "  warnings.warn(\n",
      "[I 2024-05-28 13:57:52,585] Trial 59 finished with value: 91460696045.47444 and parameters: {'svr_c': 2894391.8944166945, 'svr_kernel': 'poly'}. Best is trial 17 with value: 64350355231.53689.\n",
      "F:\\miniconda\\envs\\kana\\Lib\\site-packages\\sklearn\\svm\\_base.py:297: ConvergenceWarning: Solver terminated early (max_iter=10000).  Consider pre-processing your data with StandardScaler or MinMaxScaler.\n",
      "  warnings.warn(\n",
      "[I 2024-05-28 13:58:00,240] Trial 60 finished with value: 932150617461.2677 and parameters: {'svr_c': 1475647636.4850745, 'svr_kernel': 'poly'}. Best is trial 17 with value: 64350355231.53689.\n",
      "F:\\miniconda\\envs\\kana\\Lib\\site-packages\\sklearn\\svm\\_base.py:297: ConvergenceWarning: Solver terminated early (max_iter=10000).  Consider pre-processing your data with StandardScaler or MinMaxScaler.\n",
      "  warnings.warn(\n",
      "[I 2024-05-28 13:58:11,107] Trial 61 finished with value: 62499135436.629 and parameters: {'svr_c': 40909051.75558807, 'svr_kernel': 'poly'}. Best is trial 61 with value: 62499135436.629.\n",
      "F:\\miniconda\\envs\\kana\\Lib\\site-packages\\sklearn\\svm\\_base.py:297: ConvergenceWarning: Solver terminated early (max_iter=10000).  Consider pre-processing your data with StandardScaler or MinMaxScaler.\n",
      "  warnings.warn(\n",
      "[I 2024-05-28 13:58:21,289] Trial 62 finished with value: 62258517614.79775 and parameters: {'svr_c': 91482361.39960833, 'svr_kernel': 'poly'}. Best is trial 62 with value: 62258517614.79775.\n",
      "F:\\miniconda\\envs\\kana\\Lib\\site-packages\\sklearn\\svm\\_base.py:297: ConvergenceWarning: Solver terminated early (max_iter=10000).  Consider pre-processing your data with StandardScaler or MinMaxScaler.\n",
      "  warnings.warn(\n",
      "[I 2024-05-28 13:58:31,154] Trial 63 finished with value: 427172700255.8003 and parameters: {'svr_c': 153387270.7212671, 'svr_kernel': 'poly'}. Best is trial 62 with value: 62258517614.79775.\n",
      "F:\\miniconda\\envs\\kana\\Lib\\site-packages\\sklearn\\svm\\_base.py:297: ConvergenceWarning: Solver terminated early (max_iter=10000).  Consider pre-processing your data with StandardScaler or MinMaxScaler.\n",
      "  warnings.warn(\n",
      "[I 2024-05-28 13:58:41,988] Trial 64 finished with value: 143489285919.96158 and parameters: {'svr_c': 47905340.48045204, 'svr_kernel': 'poly'}. Best is trial 62 with value: 62258517614.79775.\n",
      "F:\\miniconda\\envs\\kana\\Lib\\site-packages\\sklearn\\svm\\_base.py:297: ConvergenceWarning: Solver terminated early (max_iter=10000).  Consider pre-processing your data with StandardScaler or MinMaxScaler.\n",
      "  warnings.warn(\n",
      "[I 2024-05-28 13:58:50,438] Trial 65 finished with value: 515597912325.7446 and parameters: {'svr_c': 683359795.5343119, 'svr_kernel': 'poly'}. Best is trial 62 with value: 62258517614.79775.\n",
      "[I 2024-05-28 13:59:00,735] Trial 66 finished with value: 120477586354.14749 and parameters: {'svr_c': 211271.1058824656, 'svr_kernel': 'poly'}. Best is trial 62 with value: 62258517614.79775.\n",
      "[I 2024-05-28 13:59:11,301] Trial 67 finished with value: 94341259126.19649 and parameters: {'svr_c': 2458014.811258574, 'svr_kernel': 'poly'}. Best is trial 62 with value: 62258517614.79775.\n",
      "F:\\miniconda\\envs\\kana\\Lib\\site-packages\\sklearn\\svm\\_base.py:297: ConvergenceWarning: Solver terminated early (max_iter=10000).  Consider pre-processing your data with StandardScaler or MinMaxScaler.\n",
      "  warnings.warn(\n",
      "[I 2024-05-28 13:59:18,153] Trial 68 finished with value: 848369252599.2703 and parameters: {'svr_c': 4758793041.655353, 'svr_kernel': 'poly'}. Best is trial 62 with value: 62258517614.79775.\n",
      "F:\\miniconda\\envs\\kana\\Lib\\site-packages\\sklearn\\svm\\_base.py:297: ConvergenceWarning: Solver terminated early (max_iter=10000).  Consider pre-processing your data with StandardScaler or MinMaxScaler.\n",
      "  warnings.warn(\n",
      "[I 2024-05-28 13:59:28,648] Trial 69 finished with value: 75278572504.28967 and parameters: {'svr_c': 40025703.829488605, 'svr_kernel': 'poly'}. Best is trial 62 with value: 62258517614.79775.\n",
      "F:\\miniconda\\envs\\kana\\Lib\\site-packages\\sklearn\\svm\\_base.py:297: ConvergenceWarning: Solver terminated early (max_iter=10000).  Consider pre-processing your data with StandardScaler or MinMaxScaler.\n",
      "  warnings.warn(\n",
      "[I 2024-05-28 13:59:38,653] Trial 70 finished with value: 363612863504.0385 and parameters: {'svr_c': 167233460.36176968, 'svr_kernel': 'poly'}. Best is trial 62 with value: 62258517614.79775.\n",
      "F:\\miniconda\\envs\\kana\\Lib\\site-packages\\sklearn\\svm\\_base.py:297: ConvergenceWarning: Solver terminated early (max_iter=10000).  Consider pre-processing your data with StandardScaler or MinMaxScaler.\n",
      "  warnings.warn(\n",
      "[I 2024-05-28 13:59:49,457] Trial 71 finished with value: 81894891619.37408 and parameters: {'svr_c': 5080153.2731914995, 'svr_kernel': 'poly'}. Best is trial 62 with value: 62258517614.79775.\n",
      "F:\\miniconda\\envs\\kana\\Lib\\site-packages\\sklearn\\svm\\_base.py:297: ConvergenceWarning: Solver terminated early (max_iter=10000).  Consider pre-processing your data with StandardScaler or MinMaxScaler.\n",
      "  warnings.warn(\n",
      "[I 2024-05-28 13:59:59,678] Trial 72 finished with value: 63260287344.18589 and parameters: {'svr_c': 34803569.37882349, 'svr_kernel': 'poly'}. Best is trial 62 with value: 62258517614.79775.\n",
      "F:\\miniconda\\envs\\kana\\Lib\\site-packages\\sklearn\\svm\\_base.py:297: ConvergenceWarning: Solver terminated early (max_iter=10000).  Consider pre-processing your data with StandardScaler or MinMaxScaler.\n",
      "  warnings.warn(\n",
      "[I 2024-05-28 14:00:08,861] Trial 73 finished with value: 141640953660.44568 and parameters: {'svr_c': 469022491.9668792, 'svr_kernel': 'poly'}. Best is trial 62 with value: 62258517614.79775.\n",
      "[I 2024-05-28 14:00:19,559] Trial 74 finished with value: 111842604012.63617 and parameters: {'svr_c': 734198.8870854389, 'svr_kernel': 'poly'}. Best is trial 62 with value: 62258517614.79775.\n",
      "F:\\miniconda\\envs\\kana\\Lib\\site-packages\\sklearn\\svm\\_base.py:297: ConvergenceWarning: Solver terminated early (max_iter=10000).  Consider pre-processing your data with StandardScaler or MinMaxScaler.\n",
      "  warnings.warn(\n",
      "[I 2024-05-28 14:00:29,869] Trial 75 finished with value: 63455455315.25452 and parameters: {'svr_c': 31722723.2901574, 'svr_kernel': 'poly'}. Best is trial 62 with value: 62258517614.79775.\n",
      "F:\\miniconda\\envs\\kana\\Lib\\site-packages\\sklearn\\svm\\_base.py:297: ConvergenceWarning: Solver terminated early (max_iter=10000).  Consider pre-processing your data with StandardScaler or MinMaxScaler.\n",
      "  warnings.warn(\n",
      "[I 2024-05-28 14:00:37,204] Trial 76 finished with value: 448361626647.737 and parameters: {'svr_c': 1936625585.2752929, 'svr_kernel': 'poly'}. Best is trial 62 with value: 62258517614.79775.\n",
      "[I 2024-05-28 14:00:47,280] Trial 77 finished with value: 126529941034.97998 and parameters: {'svr_c': 0.0008290566787081813, 'svr_kernel': 'poly'}. Best is trial 62 with value: 62258517614.79775.\n",
      "[I 2024-05-28 14:00:58,050] Trial 78 finished with value: 122685233679.61668 and parameters: {'svr_c': 105199.75463475524, 'svr_kernel': 'poly'}. Best is trial 62 with value: 62258517614.79775.\n",
      "[I 2024-05-28 14:01:08,301] Trial 79 finished with value: 124986363603.08658 and parameters: {'svr_c': 14933.062825935885, 'svr_kernel': 'poly'}. Best is trial 62 with value: 62258517614.79775.\n",
      "F:\\miniconda\\envs\\kana\\Lib\\site-packages\\sklearn\\svm\\_base.py:297: ConvergenceWarning: Solver terminated early (max_iter=10000).  Consider pre-processing your data with StandardScaler or MinMaxScaler.\n",
      "  warnings.warn(\n",
      "[I 2024-05-28 14:01:18,647] Trial 80 finished with value: 128919333910.09267 and parameters: {'svr_c': 62901373.286564276, 'svr_kernel': 'poly'}. Best is trial 62 with value: 62258517614.79775.\n",
      "F:\\miniconda\\envs\\kana\\Lib\\site-packages\\sklearn\\svm\\_base.py:297: ConvergenceWarning: Solver terminated early (max_iter=10000).  Consider pre-processing your data with StandardScaler or MinMaxScaler.\n",
      "  warnings.warn(\n",
      "[I 2024-05-28 14:01:29,526] Trial 81 finished with value: 86762286636.87978 and parameters: {'svr_c': 27908117.692169644, 'svr_kernel': 'poly'}. Best is trial 62 with value: 62258517614.79775.\n",
      "F:\\miniconda\\envs\\kana\\Lib\\site-packages\\sklearn\\svm\\_base.py:297: ConvergenceWarning: Solver terminated early (max_iter=10000).  Consider pre-processing your data with StandardScaler or MinMaxScaler.\n",
      "  warnings.warn(\n",
      "[I 2024-05-28 14:01:39,393] Trial 82 finished with value: 66547541753.94402 and parameters: {'svr_c': 241690139.42522818, 'svr_kernel': 'poly'}. Best is trial 62 with value: 62258517614.79775.\n",
      "F:\\miniconda\\envs\\kana\\Lib\\site-packages\\sklearn\\svm\\_base.py:297: ConvergenceWarning: Solver terminated early (max_iter=10000).  Consider pre-processing your data with StandardScaler or MinMaxScaler.\n",
      "  warnings.warn(\n",
      "[I 2024-05-28 14:01:48,926] Trial 83 finished with value: 125459861208.82588 and parameters: {'svr_c': 337863211.4418109, 'svr_kernel': 'poly'}. Best is trial 62 with value: 62258517614.79775.\n",
      "F:\\miniconda\\envs\\kana\\Lib\\site-packages\\sklearn\\svm\\_base.py:297: ConvergenceWarning: Solver terminated early (max_iter=10000).  Consider pre-processing your data with StandardScaler or MinMaxScaler.\n",
      "  warnings.warn(\n",
      "[I 2024-05-28 14:01:54,239] Trial 84 finished with value: 869852274750.6278 and parameters: {'svr_c': 9667363817.545845, 'svr_kernel': 'poly'}. Best is trial 62 with value: 62258517614.79775.\n",
      "F:\\miniconda\\envs\\kana\\Lib\\site-packages\\sklearn\\svm\\_base.py:297: ConvergenceWarning: Solver terminated early (max_iter=10000).  Consider pre-processing your data with StandardScaler or MinMaxScaler.\n",
      "  warnings.warn(\n",
      "[I 2024-05-28 14:02:05,010] Trial 85 finished with value: 84659289033.1829 and parameters: {'svr_c': 4356454.546575701, 'svr_kernel': 'poly'}. Best is trial 62 with value: 62258517614.79775.\n",
      "F:\\miniconda\\envs\\kana\\Lib\\site-packages\\sklearn\\svm\\_base.py:297: ConvergenceWarning: Solver terminated early (max_iter=10000).  Consider pre-processing your data with StandardScaler or MinMaxScaler.\n",
      "  warnings.warn(\n",
      "[I 2024-05-28 14:02:12,965] Trial 86 finished with value: 2213938687786.0234 and parameters: {'svr_c': 1104310017.1048348, 'svr_kernel': 'poly'}. Best is trial 62 with value: 62258517614.79775.\n",
      "F:\\miniconda\\envs\\kana\\Lib\\site-packages\\sklearn\\svm\\_base.py:297: ConvergenceWarning: Solver terminated early (max_iter=10000).  Consider pre-processing your data with StandardScaler or MinMaxScaler.\n",
      "  warnings.warn(\n",
      "[I 2024-05-28 14:02:23,174] Trial 87 finished with value: 194573484535.55975 and parameters: {'svr_c': 97430642.34988402, 'svr_kernel': 'poly'}. Best is trial 62 with value: 62258517614.79775.\n",
      "[I 2024-05-28 14:02:33,691] Trial 88 finished with value: 126529751567.21706 and parameters: {'svr_c': 0.24593895257875517, 'svr_kernel': 'poly'}. Best is trial 62 with value: 62258517614.79775.\n",
      "[I 2024-05-28 14:02:43,791] Trial 89 finished with value: 109617619174.56116 and parameters: {'svr_c': 893576.9112534983, 'svr_kernel': 'poly'}. Best is trial 62 with value: 62258517614.79775.\n",
      "F:\\miniconda\\envs\\kana\\Lib\\site-packages\\sklearn\\svm\\_base.py:297: ConvergenceWarning: Solver terminated early (max_iter=10000).  Consider pre-processing your data with StandardScaler or MinMaxScaler.\n",
      "  warnings.warn(\n",
      "[I 2024-05-28 14:02:54,353] Trial 90 finished with value: 72918669537.06497 and parameters: {'svr_c': 9673417.985028226, 'svr_kernel': 'poly'}. Best is trial 62 with value: 62258517614.79775.\n",
      "F:\\miniconda\\envs\\kana\\Lib\\site-packages\\sklearn\\svm\\_base.py:297: ConvergenceWarning: Solver terminated early (max_iter=10000).  Consider pre-processing your data with StandardScaler or MinMaxScaler.\n",
      "  warnings.warn(\n",
      "[I 2024-05-28 14:03:04,422] Trial 91 finished with value: 667905920492.3395 and parameters: {'svr_c': 256223325.00814956, 'svr_kernel': 'poly'}. Best is trial 62 with value: 62258517614.79775.\n",
      "F:\\miniconda\\envs\\kana\\Lib\\site-packages\\sklearn\\svm\\_base.py:297: ConvergenceWarning: Solver terminated early (max_iter=10000).  Consider pre-processing your data with StandardScaler or MinMaxScaler.\n",
      "  warnings.warn(\n",
      "[I 2024-05-28 14:03:16,085] Trial 92 finished with value: 63471723734.863335 and parameters: {'svr_c': 27351183.71380244, 'svr_kernel': 'poly'}. Best is trial 62 with value: 62258517614.79775.\n",
      "F:\\miniconda\\envs\\kana\\Lib\\site-packages\\sklearn\\svm\\_base.py:297: ConvergenceWarning: Solver terminated early (max_iter=10000).  Consider pre-processing your data with StandardScaler or MinMaxScaler.\n",
      "  warnings.warn(\n",
      "[I 2024-05-28 14:03:28,398] Trial 93 finished with value: 63054662040.53576 and parameters: {'svr_c': 33037938.3032368, 'svr_kernel': 'poly'}. Best is trial 62 with value: 62258517614.79775.\n",
      "F:\\miniconda\\envs\\kana\\Lib\\site-packages\\sklearn\\svm\\_base.py:297: ConvergenceWarning: Solver terminated early (max_iter=10000).  Consider pre-processing your data with StandardScaler or MinMaxScaler.\n",
      "  warnings.warn(\n",
      "[I 2024-05-28 14:03:40,017] Trial 94 finished with value: 64591090017.57513 and parameters: {'svr_c': 70505210.38521615, 'svr_kernel': 'poly'}. Best is trial 62 with value: 62258517614.79775.\n",
      "F:\\miniconda\\envs\\kana\\Lib\\site-packages\\sklearn\\svm\\_base.py:297: ConvergenceWarning: Solver terminated early (max_iter=10000).  Consider pre-processing your data with StandardScaler or MinMaxScaler.\n",
      "  warnings.warn(\n",
      "[I 2024-05-28 14:03:46,856] Trial 95 finished with value: 983293762076.7131 and parameters: {'svr_c': 2852730307.9956703, 'svr_kernel': 'poly'}. Best is trial 62 with value: 62258517614.79775.\n",
      "F:\\miniconda\\envs\\kana\\Lib\\site-packages\\sklearn\\svm\\_base.py:297: ConvergenceWarning: Solver terminated early (max_iter=10000).  Consider pre-processing your data with StandardScaler or MinMaxScaler.\n",
      "  warnings.warn(\n",
      "[I 2024-05-28 14:03:57,231] Trial 96 finished with value: 94562523545.18668 and parameters: {'svr_c': 2423795.1427061646, 'svr_kernel': 'poly'}. Best is trial 62 with value: 62258517614.79775.\n",
      "F:\\miniconda\\envs\\kana\\Lib\\site-packages\\sklearn\\svm\\_base.py:297: ConvergenceWarning: Solver terminated early (max_iter=10000).  Consider pre-processing your data with StandardScaler or MinMaxScaler.\n",
      "  warnings.warn(\n",
      "[I 2024-05-28 14:04:08,489] Trial 97 finished with value: 62971822086.79055 and parameters: {'svr_c': 31036761.317559417, 'svr_kernel': 'poly'}. Best is trial 62 with value: 62258517614.79775.\n",
      "F:\\miniconda\\envs\\kana\\Lib\\site-packages\\sklearn\\svm\\_base.py:297: ConvergenceWarning: Solver terminated early (max_iter=10000).  Consider pre-processing your data with StandardScaler or MinMaxScaler.\n",
      "  warnings.warn(\n",
      "[I 2024-05-28 14:04:17,402] Trial 98 finished with value: 1201798561460.105 and parameters: {'svr_c': 496327150.8264182, 'svr_kernel': 'poly'}. Best is trial 62 with value: 62258517614.79775.\n",
      "F:\\miniconda\\envs\\kana\\Lib\\site-packages\\sklearn\\svm\\_base.py:297: ConvergenceWarning: Solver terminated early (max_iter=10000).  Consider pre-processing your data with StandardScaler or MinMaxScaler.\n",
      "  warnings.warn(\n",
      "[I 2024-05-28 14:04:27,786] Trial 99 finished with value: 85337404346.83717 and parameters: {'svr_c': 35774024.986209825, 'svr_kernel': 'poly'}. Best is trial 62 with value: 62258517614.79775.\n"
     ]
    }
   ],
   "source": [
    "svm_study = optuna.create_study(direction='minimize')\n",
    "svm_study.optimize(optuna_svm, n_trials=100)"
   ],
   "metadata": {
    "collapsed": false,
    "ExecuteTime": {
     "end_time": "2024-05-28T07:04:27.803354100Z",
     "start_time": "2024-05-28T06:45:51.099816100Z"
    }
   }
  },
  {
   "cell_type": "code",
   "execution_count": 42,
   "outputs": [
    {
     "name": "stdout",
     "output_type": "stream",
     "text": [
      "The best result is 62258517614.79775 with hyperparameter C=91482361.39960833, kernel=poly\n"
     ]
    }
   ],
   "source": [
    "param = svm_study.best_trial.params['svr_c']\n",
    "kernel = svm_study.best_trial.params['svr_kernel']\n",
    "result = svm_study.best_trial.value\n",
    "print(f'The best result is {result} with hyperparameter C={param}, kernel={kernel}')"
   ],
   "metadata": {
    "collapsed": false,
    "ExecuteTime": {
     "end_time": "2024-05-28T10:28:50.576035200Z",
     "start_time": "2024-05-28T10:28:50.555704600Z"
    }
   }
  },
  {
   "cell_type": "markdown",
   "source": [
    "# Decision Tree"
   ],
   "metadata": {
    "collapsed": false
   }
  },
  {
   "cell_type": "code",
   "execution_count": 17,
   "outputs": [
    {
     "data": {
      "text/plain": "38281533358.379196"
     },
     "execution_count": 17,
     "metadata": {},
     "output_type": "execute_result"
    }
   ],
   "source": [
    "objective(DecisionTreeRegressor(), mean_squared_error)"
   ],
   "metadata": {
    "collapsed": false,
    "ExecuteTime": {
     "end_time": "2024-05-28T07:04:28.046384100Z",
     "start_time": "2024-05-28T07:04:27.807539300Z"
    }
   }
  },
  {
   "cell_type": "code",
   "execution_count": 18,
   "outputs": [
    {
     "data": {
      "text/plain": "0.6887397896070498"
     },
     "execution_count": 18,
     "metadata": {},
     "output_type": "execute_result"
    }
   ],
   "source": [
    "objective(DecisionTreeRegressor(), r2_score)"
   ],
   "metadata": {
    "collapsed": false,
    "ExecuteTime": {
     "end_time": "2024-05-28T07:04:28.278880400Z",
     "start_time": "2024-05-28T07:04:28.050696Z"
    }
   }
  },
  {
   "cell_type": "code",
   "execution_count": 19,
   "outputs": [],
   "source": [
    "def optuna_dt(trial):\n",
    "    depth = trial.suggest_int('dt_max_depth', 1, 100,)\n",
    "    regressor_obj = DecisionTreeRegressor(max_depth=depth)\n",
    "    regressor_obj.fit(X_train, y_train)\n",
    "    pred = regressor_obj.predict(X_valid)\n",
    "    error = mean_squared_error(y_valid, pred)\n",
    "    return error"
   ],
   "metadata": {
    "collapsed": false,
    "ExecuteTime": {
     "end_time": "2024-05-28T07:04:28.288094Z",
     "start_time": "2024-05-28T07:04:28.278880400Z"
    }
   }
  },
  {
   "cell_type": "code",
   "execution_count": 20,
   "outputs": [
    {
     "name": "stderr",
     "output_type": "stream",
     "text": [
      "[I 2024-05-28 14:04:28,291] A new study created in memory with name: no-name-4d3c97fe-ee22-4e1e-ae4b-c1b30716e0c3\n",
      "[I 2024-05-28 14:04:28,511] Trial 0 finished with value: 40664897779.759254 and parameters: {'dt_max_depth': 41}. Best is trial 0 with value: 40664897779.759254.\n",
      "[I 2024-05-28 14:04:28,747] Trial 1 finished with value: 37938322938.75499 and parameters: {'dt_max_depth': 66}. Best is trial 1 with value: 37938322938.75499.\n",
      "[I 2024-05-28 14:04:28,967] Trial 2 finished with value: 38220659185.90638 and parameters: {'dt_max_depth': 19}. Best is trial 1 with value: 37938322938.75499.\n",
      "[I 2024-05-28 14:04:29,183] Trial 3 finished with value: 38951084533.69614 and parameters: {'dt_max_depth': 83}. Best is trial 1 with value: 37938322938.75499.\n",
      "[I 2024-05-28 14:04:29,404] Trial 4 finished with value: 37937994418.718475 and parameters: {'dt_max_depth': 66}. Best is trial 4 with value: 37937994418.718475.\n",
      "[I 2024-05-28 14:04:29,602] Trial 5 finished with value: 40737761007.11191 and parameters: {'dt_max_depth': 23}. Best is trial 4 with value: 37937994418.718475.\n",
      "[I 2024-05-28 14:04:29,824] Trial 6 finished with value: 36706463063.288605 and parameters: {'dt_max_depth': 78}. Best is trial 6 with value: 36706463063.288605.\n",
      "[I 2024-05-28 14:04:30,032] Trial 7 finished with value: 39982681433.36098 and parameters: {'dt_max_depth': 64}. Best is trial 6 with value: 36706463063.288605.\n",
      "[I 2024-05-28 14:04:30,242] Trial 8 finished with value: 40096974074.35353 and parameters: {'dt_max_depth': 84}. Best is trial 6 with value: 36706463063.288605.\n",
      "[I 2024-05-28 14:04:30,479] Trial 9 finished with value: 41745243818.67018 and parameters: {'dt_max_depth': 54}. Best is trial 6 with value: 36706463063.288605.\n",
      "[I 2024-05-28 14:04:30,685] Trial 10 finished with value: 38030663711.32627 and parameters: {'dt_max_depth': 99}. Best is trial 6 with value: 36706463063.288605.\n",
      "[I 2024-05-28 14:04:30,892] Trial 11 finished with value: 40077241818.81861 and parameters: {'dt_max_depth': 78}. Best is trial 6 with value: 36706463063.288605.\n",
      "[I 2024-05-28 14:04:31,100] Trial 12 finished with value: 37331303782.056244 and parameters: {'dt_max_depth': 45}. Best is trial 6 with value: 36706463063.288605.\n",
      "[I 2024-05-28 14:04:31,131] Trial 13 finished with value: 77344969493.37997 and parameters: {'dt_max_depth': 1}. Best is trial 6 with value: 36706463063.288605.\n",
      "[I 2024-05-28 14:04:31,347] Trial 14 finished with value: 39642086604.95185 and parameters: {'dt_max_depth': 41}. Best is trial 6 with value: 36706463063.288605.\n",
      "[I 2024-05-28 14:04:31,557] Trial 15 finished with value: 39597522900.643364 and parameters: {'dt_max_depth': 44}. Best is trial 6 with value: 36706463063.288605.\n",
      "[I 2024-05-28 14:04:31,778] Trial 16 finished with value: 38221312926.67192 and parameters: {'dt_max_depth': 97}. Best is trial 6 with value: 36706463063.288605.\n",
      "[I 2024-05-28 14:04:31,997] Trial 17 finished with value: 39774954174.70274 and parameters: {'dt_max_depth': 32}. Best is trial 6 with value: 36706463063.288605.\n",
      "[I 2024-05-28 14:04:32,204] Trial 18 finished with value: 39581928764.63375 and parameters: {'dt_max_depth': 58}. Best is trial 6 with value: 36706463063.288605.\n",
      "[I 2024-05-28 14:04:32,428] Trial 19 finished with value: 39658741415.155365 and parameters: {'dt_max_depth': 74}. Best is trial 6 with value: 36706463063.288605.\n",
      "[I 2024-05-28 14:04:32,442] Trial 20 finished with value: 57134298723.63877 and parameters: {'dt_max_depth': 2}. Best is trial 6 with value: 36706463063.288605.\n",
      "[I 2024-05-28 14:04:32,680] Trial 21 finished with value: 41007043406.19303 and parameters: {'dt_max_depth': 66}. Best is trial 6 with value: 36706463063.288605.\n",
      "[I 2024-05-28 14:04:32,900] Trial 22 finished with value: 38883591201.431244 and parameters: {'dt_max_depth': 48}. Best is trial 6 with value: 36706463063.288605.\n",
      "[I 2024-05-28 14:04:33,145] Trial 23 finished with value: 41236598107.25846 and parameters: {'dt_max_depth': 90}. Best is trial 6 with value: 36706463063.288605.\n",
      "[I 2024-05-28 14:04:33,365] Trial 24 finished with value: 38654280906.70308 and parameters: {'dt_max_depth': 72}. Best is trial 6 with value: 36706463063.288605.\n",
      "[I 2024-05-28 14:04:33,587] Trial 25 finished with value: 39355215256.852516 and parameters: {'dt_max_depth': 59}. Best is trial 6 with value: 36706463063.288605.\n",
      "[I 2024-05-28 14:04:33,803] Trial 26 finished with value: 42052617150.004555 and parameters: {'dt_max_depth': 33}. Best is trial 6 with value: 36706463063.288605.\n",
      "[I 2024-05-28 14:04:34,039] Trial 27 finished with value: 36439650281.00325 and parameters: {'dt_max_depth': 89}. Best is trial 27 with value: 36439650281.00325.\n",
      "[I 2024-05-28 14:04:34,259] Trial 28 finished with value: 38303141905.51916 and parameters: {'dt_max_depth': 91}. Best is trial 27 with value: 36439650281.00325.\n",
      "[I 2024-05-28 14:04:34,495] Trial 29 finished with value: 41283971733.8823 and parameters: {'dt_max_depth': 90}. Best is trial 27 with value: 36439650281.00325.\n",
      "[I 2024-05-28 14:04:34,699] Trial 30 finished with value: 38636512119.19657 and parameters: {'dt_max_depth': 80}. Best is trial 27 with value: 36439650281.00325.\n",
      "[I 2024-05-28 14:04:34,932] Trial 31 finished with value: 38068155772.11553 and parameters: {'dt_max_depth': 74}. Best is trial 27 with value: 36439650281.00325.\n",
      "[I 2024-05-28 14:04:35,168] Trial 32 finished with value: 38887413294.276024 and parameters: {'dt_max_depth': 67}. Best is trial 27 with value: 36439650281.00325.\n",
      "[I 2024-05-28 14:04:35,388] Trial 33 finished with value: 39916857123.16606 and parameters: {'dt_max_depth': 60}. Best is trial 27 with value: 36439650281.00325.\n",
      "[I 2024-05-28 14:04:35,605] Trial 34 finished with value: 38585512296.366394 and parameters: {'dt_max_depth': 52}. Best is trial 27 with value: 36439650281.00325.\n",
      "[I 2024-05-28 14:04:35,811] Trial 35 finished with value: 38931258692.33769 and parameters: {'dt_max_depth': 85}. Best is trial 27 with value: 36439650281.00325.\n",
      "[I 2024-05-28 14:04:36,029] Trial 36 finished with value: 40677025088.46269 and parameters: {'dt_max_depth': 34}. Best is trial 27 with value: 36439650281.00325.\n",
      "[I 2024-05-28 14:04:36,250] Trial 37 finished with value: 38580361136.22744 and parameters: {'dt_max_depth': 69}. Best is trial 27 with value: 36439650281.00325.\n",
      "[I 2024-05-28 14:04:36,425] Trial 38 finished with value: 39513739053.24076 and parameters: {'dt_max_depth': 17}. Best is trial 27 with value: 36439650281.00325.\n",
      "[I 2024-05-28 14:04:36,643] Trial 39 finished with value: 40004743956.81094 and parameters: {'dt_max_depth': 78}. Best is trial 27 with value: 36439650281.00325.\n",
      "[I 2024-05-28 14:04:36,850] Trial 40 finished with value: 39741364255.44715 and parameters: {'dt_max_depth': 85}. Best is trial 27 with value: 36439650281.00325.\n",
      "[I 2024-05-28 14:04:37,055] Trial 41 finished with value: 38554841922.04143 and parameters: {'dt_max_depth': 64}. Best is trial 27 with value: 36439650281.00325.\n",
      "[I 2024-05-28 14:04:37,274] Trial 42 finished with value: 39490229629.74942 and parameters: {'dt_max_depth': 49}. Best is trial 27 with value: 36439650281.00325.\n",
      "[I 2024-05-28 14:04:37,492] Trial 43 finished with value: 38963465730.985756 and parameters: {'dt_max_depth': 81}. Best is trial 27 with value: 36439650281.00325.\n",
      "[I 2024-05-28 14:04:37,729] Trial 44 finished with value: 39621854300.61726 and parameters: {'dt_max_depth': 95}. Best is trial 27 with value: 36439650281.00325.\n",
      "[I 2024-05-28 14:04:37,948] Trial 45 finished with value: 40184283645.73236 and parameters: {'dt_max_depth': 57}. Best is trial 27 with value: 36439650281.00325.\n",
      "[I 2024-05-28 14:04:38,182] Trial 46 finished with value: 37634423615.55769 and parameters: {'dt_max_depth': 71}. Best is trial 27 with value: 36439650281.00325.\n",
      "[I 2024-05-28 14:04:38,412] Trial 47 finished with value: 40732799748.22918 and parameters: {'dt_max_depth': 75}. Best is trial 27 with value: 36439650281.00325.\n",
      "[I 2024-05-28 14:04:38,665] Trial 48 finished with value: 40081542538.38758 and parameters: {'dt_max_depth': 62}. Best is trial 27 with value: 36439650281.00325.\n",
      "[I 2024-05-28 14:04:38,965] Trial 49 finished with value: 40046401579.92966 and parameters: {'dt_max_depth': 71}. Best is trial 27 with value: 36439650281.00325.\n",
      "[I 2024-05-28 14:04:39,255] Trial 50 finished with value: 39989511577.91592 and parameters: {'dt_max_depth': 100}. Best is trial 27 with value: 36439650281.00325.\n",
      "[I 2024-05-28 14:04:39,525] Trial 51 finished with value: 40242409232.78239 and parameters: {'dt_max_depth': 40}. Best is trial 27 with value: 36439650281.00325.\n",
      "[I 2024-05-28 14:04:39,791] Trial 52 finished with value: 37629340866.64618 and parameters: {'dt_max_depth': 54}. Best is trial 27 with value: 36439650281.00325.\n",
      "[I 2024-05-28 14:04:40,046] Trial 53 finished with value: 38920278508.900665 and parameters: {'dt_max_depth': 46}. Best is trial 27 with value: 36439650281.00325.\n",
      "[I 2024-05-28 14:04:40,329] Trial 54 finished with value: 37618421205.15486 and parameters: {'dt_max_depth': 53}. Best is trial 27 with value: 36439650281.00325.\n",
      "[I 2024-05-28 14:04:40,587] Trial 55 finished with value: 40977835010.26005 and parameters: {'dt_max_depth': 37}. Best is trial 27 with value: 36439650281.00325.\n",
      "[I 2024-05-28 14:04:40,834] Trial 56 finished with value: 38709485210.75188 and parameters: {'dt_max_depth': 53}. Best is trial 27 with value: 36439650281.00325.\n",
      "[I 2024-05-28 14:04:41,089] Trial 57 finished with value: 38603749018.60396 and parameters: {'dt_max_depth': 41}. Best is trial 27 with value: 36439650281.00325.\n",
      "[I 2024-05-28 14:04:41,322] Trial 58 finished with value: 38900639452.13823 and parameters: {'dt_max_depth': 45}. Best is trial 27 with value: 36439650281.00325.\n",
      "[I 2024-05-28 14:04:41,655] Trial 59 finished with value: 38089426690.49156 and parameters: {'dt_max_depth': 27}. Best is trial 27 with value: 36439650281.00325.\n",
      "[I 2024-05-28 14:04:42,005] Trial 60 finished with value: 36711430806.073235 and parameters: {'dt_max_depth': 56}. Best is trial 27 with value: 36439650281.00325.\n",
      "[I 2024-05-28 14:04:42,243] Trial 61 finished with value: 39060772683.8322 and parameters: {'dt_max_depth': 53}. Best is trial 27 with value: 36439650281.00325.\n",
      "[I 2024-05-28 14:04:42,474] Trial 62 finished with value: 40682335626.7787 and parameters: {'dt_max_depth': 58}. Best is trial 27 with value: 36439650281.00325.\n",
      "[I 2024-05-28 14:04:42,726] Trial 63 finished with value: 39519581158.77769 and parameters: {'dt_max_depth': 56}. Best is trial 27 with value: 36439650281.00325.\n",
      "[I 2024-05-28 14:04:42,972] Trial 64 finished with value: 39023611141.44419 and parameters: {'dt_max_depth': 49}. Best is trial 27 with value: 36439650281.00325.\n",
      "[I 2024-05-28 14:04:43,192] Trial 65 finished with value: 39117176252.75759 and parameters: {'dt_max_depth': 62}. Best is trial 27 with value: 36439650281.00325.\n",
      "[I 2024-05-28 14:04:43,413] Trial 66 finished with value: 37434784852.382805 and parameters: {'dt_max_depth': 87}. Best is trial 27 with value: 36439650281.00325.\n",
      "[I 2024-05-28 14:04:43,648] Trial 67 finished with value: 36636149972.19347 and parameters: {'dt_max_depth': 93}. Best is trial 27 with value: 36439650281.00325.\n",
      "[I 2024-05-28 14:04:43,871] Trial 68 finished with value: 40835601784.97267 and parameters: {'dt_max_depth': 93}. Best is trial 27 with value: 36439650281.00325.\n",
      "[I 2024-05-28 14:04:44,087] Trial 69 finished with value: 37661037372.87818 and parameters: {'dt_max_depth': 88}. Best is trial 27 with value: 36439650281.00325.\n",
      "[I 2024-05-28 14:04:44,292] Trial 70 finished with value: 40224399585.48417 and parameters: {'dt_max_depth': 97}. Best is trial 27 with value: 36439650281.00325.\n",
      "[I 2024-05-28 14:04:44,512] Trial 71 finished with value: 39741781191.84116 and parameters: {'dt_max_depth': 87}. Best is trial 27 with value: 36439650281.00325.\n",
      "[I 2024-05-28 14:04:44,741] Trial 72 finished with value: 38715343073.24335 and parameters: {'dt_max_depth': 94}. Best is trial 27 with value: 36439650281.00325.\n",
      "[I 2024-05-28 14:04:45,008] Trial 73 finished with value: 40060438814.81477 and parameters: {'dt_max_depth': 82}. Best is trial 27 with value: 36439650281.00325.\n",
      "[I 2024-05-28 14:04:45,224] Trial 74 finished with value: 39000188931.34457 and parameters: {'dt_max_depth': 88}. Best is trial 27 with value: 36439650281.00325.\n",
      "[I 2024-05-28 14:04:45,428] Trial 75 finished with value: 40469304091.01872 and parameters: {'dt_max_depth': 92}. Best is trial 27 with value: 36439650281.00325.\n",
      "[I 2024-05-28 14:04:45,647] Trial 76 finished with value: 36048190025.2907 and parameters: {'dt_max_depth': 78}. Best is trial 76 with value: 36048190025.2907.\n",
      "[I 2024-05-28 14:04:45,865] Trial 77 finished with value: 40651430830.401024 and parameters: {'dt_max_depth': 86}. Best is trial 76 with value: 36048190025.2907.\n",
      "[I 2024-05-28 14:04:46,075] Trial 78 finished with value: 39772117572.98879 and parameters: {'dt_max_depth': 80}. Best is trial 76 with value: 36048190025.2907.\n",
      "[I 2024-05-28 14:04:46,299] Trial 79 finished with value: 37759147939.90016 and parameters: {'dt_max_depth': 77}. Best is trial 76 with value: 36048190025.2907.\n",
      "[I 2024-05-28 14:04:46,503] Trial 80 finished with value: 38048105911.59008 and parameters: {'dt_max_depth': 97}. Best is trial 76 with value: 36048190025.2907.\n",
      "[I 2024-05-28 14:04:46,726] Trial 81 finished with value: 39037577172.201996 and parameters: {'dt_max_depth': 84}. Best is trial 76 with value: 36048190025.2907.\n",
      "[I 2024-05-28 14:04:46,934] Trial 82 finished with value: 38140861057.14857 and parameters: {'dt_max_depth': 42}. Best is trial 76 with value: 36048190025.2907.\n",
      "[I 2024-05-28 14:04:47,149] Trial 83 finished with value: 40323690545.14517 and parameters: {'dt_max_depth': 55}. Best is trial 76 with value: 36048190025.2907.\n",
      "[I 2024-05-28 14:04:47,369] Trial 84 finished with value: 36730632992.086395 and parameters: {'dt_max_depth': 50}. Best is trial 76 with value: 36048190025.2907.\n",
      "[I 2024-05-28 14:04:47,587] Trial 85 finished with value: 38158404353.16982 and parameters: {'dt_max_depth': 90}. Best is trial 76 with value: 36048190025.2907.\n",
      "[I 2024-05-28 14:04:47,838] Trial 86 finished with value: 39509263685.06709 and parameters: {'dt_max_depth': 47}. Best is trial 76 with value: 36048190025.2907.\n",
      "[I 2024-05-28 14:04:47,964] Trial 87 finished with value: 33020446671.17521 and parameters: {'dt_max_depth': 12}. Best is trial 87 with value: 33020446671.17521.\n",
      "[I 2024-05-28 14:04:48,162] Trial 88 finished with value: 37613373733.5236 and parameters: {'dt_max_depth': 19}. Best is trial 87 with value: 33020446671.17521.\n",
      "[I 2024-05-28 14:04:48,193] Trial 89 finished with value: 57134298723.63877 and parameters: {'dt_max_depth': 2}. Best is trial 87 with value: 33020446671.17521.\n",
      "[I 2024-05-28 14:04:48,416] Trial 90 finished with value: 39254758959.49216 and parameters: {'dt_max_depth': 24}. Best is trial 87 with value: 33020446671.17521.\n",
      "[I 2024-05-28 14:04:48,519] Trial 91 finished with value: 30234311058.989265 and parameters: {'dt_max_depth': 9}. Best is trial 91 with value: 30234311058.989265.\n",
      "[I 2024-05-28 14:04:48,605] Trial 92 finished with value: 30450455678.426456 and parameters: {'dt_max_depth': 8}. Best is trial 91 with value: 30234311058.989265.\n",
      "[I 2024-05-28 14:04:48,670] Trial 93 finished with value: 36538344714.35631 and parameters: {'dt_max_depth': 5}. Best is trial 91 with value: 30234311058.989265.\n",
      "[I 2024-05-28 14:04:48,713] Trial 94 finished with value: 43222019863.53821 and parameters: {'dt_max_depth': 4}. Best is trial 91 with value: 30234311058.989265.\n",
      "[I 2024-05-28 14:04:48,819] Trial 95 finished with value: 29556959657.39041 and parameters: {'dt_max_depth': 8}. Best is trial 95 with value: 29556959657.39041.\n",
      "[I 2024-05-28 14:04:48,929] Trial 96 finished with value: 29312528523.130486 and parameters: {'dt_max_depth': 8}. Best is trial 96 with value: 29312528523.130486.\n",
      "[I 2024-05-28 14:04:49,060] Trial 97 finished with value: 29957183097.184258 and parameters: {'dt_max_depth': 10}. Best is trial 96 with value: 29312528523.130486.\n",
      "[I 2024-05-28 14:04:49,148] Trial 98 finished with value: 29544577537.424057 and parameters: {'dt_max_depth': 8}. Best is trial 96 with value: 29312528523.130486.\n",
      "[I 2024-05-28 14:04:49,236] Trial 99 finished with value: 29534707369.905098 and parameters: {'dt_max_depth': 8}. Best is trial 96 with value: 29312528523.130486.\n"
     ]
    }
   ],
   "source": [
    "dt_study = optuna.create_study(direction='minimize')\n",
    "dt_study.optimize(optuna_dt, n_trials=100)"
   ],
   "metadata": {
    "collapsed": false,
    "ExecuteTime": {
     "end_time": "2024-05-28T07:04:49.240187900Z",
     "start_time": "2024-05-28T07:04:28.291152200Z"
    }
   }
  },
  {
   "cell_type": "code",
   "execution_count": 44,
   "outputs": [
    {
     "name": "stdout",
     "output_type": "stream",
     "text": [
      "The best result is 29312528523.130486 with hyperparameter max_depth=8\n"
     ]
    }
   ],
   "source": [
    "param = dt_study.best_trial.params['dt_max_depth']\n",
    "result = dt_study.best_trial.value\n",
    "print(f'The best result is {result} with hyperparameter max_depth={param}')"
   ],
   "metadata": {
    "collapsed": false,
    "ExecuteTime": {
     "end_time": "2024-05-28T10:29:54.636257700Z",
     "start_time": "2024-05-28T10:29:54.613938700Z"
    }
   }
  },
  {
   "cell_type": "markdown",
   "source": [
    "# Random Forest"
   ],
   "metadata": {
    "collapsed": false
   }
  },
  {
   "cell_type": "code",
   "execution_count": 32,
   "outputs": [
    {
     "data": {
      "text/plain": "17067579367.36958"
     },
     "execution_count": 32,
     "metadata": {},
     "output_type": "execute_result"
    }
   ],
   "source": [
    "objective(RandomForestRegressor(), mean_squared_error)"
   ],
   "metadata": {
    "collapsed": false,
    "ExecuteTime": {
     "end_time": "2024-05-28T10:24:21.341815600Z",
     "start_time": "2024-05-28T10:24:04.415021900Z"
    }
   }
  },
  {
   "cell_type": "code",
   "execution_count": 33,
   "outputs": [
    {
     "data": {
      "text/plain": "0.8558476898360446"
     },
     "execution_count": 33,
     "metadata": {},
     "output_type": "execute_result"
    }
   ],
   "source": [
    "objective(RandomForestRegressor(), r2_score)"
   ],
   "metadata": {
    "collapsed": false,
    "ExecuteTime": {
     "end_time": "2024-05-28T10:24:37.311890Z",
     "start_time": "2024-05-28T10:24:21.324922100Z"
    }
   }
  },
  {
   "cell_type": "code",
   "execution_count": 30,
   "outputs": [],
   "source": [
    "def optuna_rf(trial):\n",
    "    depth = trial.suggest_int('rf_max_depth', 1, 100,)\n",
    "    # n_trees = trial.suggest_int('rf_n_trees', 10, 100)\n",
    "    regressor_obj = RandomForestRegressor(n_estimators=100, max_depth=depth)\n",
    "    regressor_obj.fit(X_train, y_train)\n",
    "    pred = regressor_obj.predict(X_valid)\n",
    "    error = mean_squared_error(y_valid, pred)\n",
    "    return error"
   ],
   "metadata": {
    "collapsed": false,
    "ExecuteTime": {
     "end_time": "2024-05-28T09:11:30.467981600Z",
     "start_time": "2024-05-28T09:11:30.457043900Z"
    }
   }
  },
  {
   "cell_type": "code",
   "execution_count": 31,
   "outputs": [
    {
     "name": "stderr",
     "output_type": "stream",
     "text": [
      "[I 2024-05-28 16:11:32,223] A new study created in memory with name: no-name-301b72f8-7616-404d-b09f-9cab270594cf\n",
      "[I 2024-05-28 16:11:51,615] Trial 0 finished with value: 16869934308.35958 and parameters: {'rf_max_depth': 71}. Best is trial 0 with value: 16869934308.35958.\n",
      "[I 2024-05-28 16:12:10,076] Trial 1 finished with value: 17422036317.265728 and parameters: {'rf_max_depth': 19}. Best is trial 0 with value: 16869934308.35958.\n",
      "[I 2024-05-28 16:12:11,287] Trial 2 finished with value: 68875722148.00703 and parameters: {'rf_max_depth': 1}. Best is trial 0 with value: 16869934308.35958.\n",
      "[I 2024-05-28 16:12:19,920] Trial 3 finished with value: 20399191329.937305 and parameters: {'rf_max_depth': 9}. Best is trial 0 with value: 16869934308.35958.\n",
      "[I 2024-05-28 16:12:37,676] Trial 4 finished with value: 17158196162.858395 and parameters: {'rf_max_depth': 27}. Best is trial 0 with value: 16869934308.35958.\n",
      "[I 2024-05-28 16:12:54,941] Trial 5 finished with value: 16852685314.318909 and parameters: {'rf_max_depth': 99}. Best is trial 5 with value: 16852685314.318909.\n",
      "[I 2024-05-28 16:13:11,992] Trial 6 finished with value: 17346163409.23753 and parameters: {'rf_max_depth': 63}. Best is trial 5 with value: 16852685314.318909.\n",
      "[I 2024-05-28 16:13:19,780] Trial 7 finished with value: 20277136371.1549 and parameters: {'rf_max_depth': 9}. Best is trial 5 with value: 16852685314.318909.\n",
      "[I 2024-05-28 16:13:37,226] Trial 8 finished with value: 16957049159.256746 and parameters: {'rf_max_depth': 72}. Best is trial 5 with value: 16852685314.318909.\n",
      "[I 2024-05-28 16:13:55,527] Trial 9 finished with value: 16888043617.811787 and parameters: {'rf_max_depth': 76}. Best is trial 5 with value: 16852685314.318909.\n",
      "[I 2024-05-28 16:14:13,340] Trial 10 finished with value: 17029751213.608223 and parameters: {'rf_max_depth': 99}. Best is trial 5 with value: 16852685314.318909.\n",
      "[I 2024-05-28 16:14:28,735] Trial 11 finished with value: 17171565010.880928 and parameters: {'rf_max_depth': 96}. Best is trial 5 with value: 16852685314.318909.\n",
      "[I 2024-05-28 16:14:47,609] Trial 12 finished with value: 17084836150.592155 and parameters: {'rf_max_depth': 45}. Best is trial 5 with value: 16852685314.318909.\n",
      "[I 2024-05-28 16:15:10,416] Trial 13 finished with value: 17044195140.492601 and parameters: {'rf_max_depth': 84}. Best is trial 5 with value: 16852685314.318909.\n",
      "[I 2024-05-28 16:15:45,248] Trial 14 finished with value: 16912664392.850872 and parameters: {'rf_max_depth': 51}. Best is trial 5 with value: 16852685314.318909.\n",
      "[I 2024-05-28 16:16:08,119] Trial 15 finished with value: 16986887196.542168 and parameters: {'rf_max_depth': 87}. Best is trial 5 with value: 16852685314.318909.\n",
      "[I 2024-05-28 16:16:29,978] Trial 16 finished with value: 16676657050.14034 and parameters: {'rf_max_depth': 56}. Best is trial 16 with value: 16676657050.14034.\n",
      "[I 2024-05-28 16:16:57,281] Trial 17 finished with value: 17298435500.078857 and parameters: {'rf_max_depth': 43}. Best is trial 16 with value: 16676657050.14034.\n",
      "[I 2024-05-28 16:17:37,803] Trial 18 finished with value: 17547154116.859776 and parameters: {'rf_max_depth': 57}. Best is trial 16 with value: 16676657050.14034.\n",
      "[I 2024-05-28 16:18:14,281] Trial 19 finished with value: 16982638150.260551 and parameters: {'rf_max_depth': 35}. Best is trial 16 with value: 16676657050.14034.\n",
      "[I 2024-05-28 16:18:42,486] Trial 20 finished with value: 16882850078.756662 and parameters: {'rf_max_depth': 87}. Best is trial 16 with value: 16676657050.14034.\n",
      "[I 2024-05-28 16:19:11,548] Trial 21 finished with value: 17024032740.491835 and parameters: {'rf_max_depth': 66}. Best is trial 16 with value: 16676657050.14034.\n",
      "[I 2024-05-28 16:19:33,246] Trial 22 finished with value: 16793286741.770203 and parameters: {'rf_max_depth': 79}. Best is trial 16 with value: 16676657050.14034.\n",
      "[I 2024-05-28 16:19:59,904] Trial 23 finished with value: 16813465510.301146 and parameters: {'rf_max_depth': 82}. Best is trial 16 with value: 16676657050.14034.\n",
      "[I 2024-05-28 16:20:32,816] Trial 24 finished with value: 16968216093.901415 and parameters: {'rf_max_depth': 80}. Best is trial 16 with value: 16676657050.14034.\n",
      "[I 2024-05-28 16:21:03,200] Trial 25 finished with value: 17010391784.851242 and parameters: {'rf_max_depth': 59}. Best is trial 16 with value: 16676657050.14034.\n",
      "[I 2024-05-28 16:21:33,791] Trial 26 finished with value: 16865102870.888926 and parameters: {'rf_max_depth': 52}. Best is trial 16 with value: 16676657050.14034.\n",
      "[I 2024-05-28 16:22:03,388] Trial 27 finished with value: 16964474474.223034 and parameters: {'rf_max_depth': 89}. Best is trial 16 with value: 16676657050.14034.\n",
      "[I 2024-05-28 16:22:37,975] Trial 28 finished with value: 16918324402.147669 and parameters: {'rf_max_depth': 69}. Best is trial 16 with value: 16676657050.14034.\n",
      "[I 2024-05-28 16:23:11,341] Trial 29 finished with value: 16882527085.53579 and parameters: {'rf_max_depth': 80}. Best is trial 16 with value: 16676657050.14034.\n",
      "[I 2024-05-28 16:23:42,205] Trial 30 finished with value: 16879830290.413063 and parameters: {'rf_max_depth': 75}. Best is trial 16 with value: 16676657050.14034.\n",
      "[I 2024-05-28 16:24:15,736] Trial 31 finished with value: 16963305950.964512 and parameters: {'rf_max_depth': 93}. Best is trial 16 with value: 16676657050.14034.\n",
      "[I 2024-05-28 16:24:45,658] Trial 32 finished with value: 16974161867.948418 and parameters: {'rf_max_depth': 92}. Best is trial 16 with value: 16676657050.14034.\n",
      "[I 2024-05-28 16:25:15,435] Trial 33 finished with value: 16972761326.177523 and parameters: {'rf_max_depth': 100}. Best is trial 16 with value: 16676657050.14034.\n",
      "[I 2024-05-28 16:25:43,909] Trial 34 finished with value: 16906384037.80269 and parameters: {'rf_max_depth': 82}. Best is trial 16 with value: 16676657050.14034.\n",
      "[I 2024-05-28 16:26:12,976] Trial 35 finished with value: 17111161736.386166 and parameters: {'rf_max_depth': 62}. Best is trial 16 with value: 16676657050.14034.\n",
      "[I 2024-05-28 16:26:42,008] Trial 36 finished with value: 17023721356.59811 and parameters: {'rf_max_depth': 36}. Best is trial 16 with value: 16676657050.14034.\n",
      "[I 2024-05-28 16:27:11,280] Trial 37 finished with value: 17183161305.880917 and parameters: {'rf_max_depth': 93}. Best is trial 16 with value: 16676657050.14034.\n",
      "[I 2024-05-28 16:27:44,117] Trial 38 finished with value: 16960954531.037264 and parameters: {'rf_max_depth': 71}. Best is trial 16 with value: 16676657050.14034.\n",
      "[I 2024-05-28 16:28:14,720] Trial 39 finished with value: 17051185928.24258 and parameters: {'rf_max_depth': 22}. Best is trial 16 with value: 16676657050.14034.\n",
      "[I 2024-05-28 16:28:42,851] Trial 40 finished with value: 17021033666.68506 and parameters: {'rf_max_depth': 77}. Best is trial 16 with value: 16676657050.14034.\n",
      "[I 2024-05-28 16:29:12,466] Trial 41 finished with value: 17085418978.542402 and parameters: {'rf_max_depth': 53}. Best is trial 16 with value: 16676657050.14034.\n",
      "[I 2024-05-28 16:29:45,128] Trial 42 finished with value: 17014721688.32999 and parameters: {'rf_max_depth': 40}. Best is trial 16 with value: 16676657050.14034.\n",
      "[I 2024-05-28 16:30:17,807] Trial 43 finished with value: 17047140858.556896 and parameters: {'rf_max_depth': 66}. Best is trial 16 with value: 16676657050.14034.\n",
      "[I 2024-05-28 16:30:48,808] Trial 44 finished with value: 17133371118.225353 and parameters: {'rf_max_depth': 48}. Best is trial 16 with value: 16676657050.14034.\n",
      "[I 2024-05-28 16:31:17,860] Trial 45 finished with value: 17049053260.409729 and parameters: {'rf_max_depth': 54}. Best is trial 16 with value: 16676657050.14034.\n",
      "[I 2024-05-28 16:31:53,119] Trial 46 finished with value: 17102204122.954746 and parameters: {'rf_max_depth': 96}. Best is trial 16 with value: 16676657050.14034.\n",
      "[I 2024-05-28 16:32:07,352] Trial 47 finished with value: 19558133070.210175 and parameters: {'rf_max_depth': 10}. Best is trial 16 with value: 16676657050.14034.\n",
      "[I 2024-05-28 16:32:42,075] Trial 48 finished with value: 16925324931.364357 and parameters: {'rf_max_depth': 32}. Best is trial 16 with value: 16676657050.14034.\n",
      "[I 2024-05-28 16:33:02,298] Trial 49 finished with value: 16966322935.687923 and parameters: {'rf_max_depth': 48}. Best is trial 16 with value: 16676657050.14034.\n",
      "[I 2024-05-28 16:33:26,785] Trial 50 finished with value: 17070324810.722052 and parameters: {'rf_max_depth': 58}. Best is trial 16 with value: 16676657050.14034.\n",
      "[I 2024-05-28 16:33:52,989] Trial 51 finished with value: 17303890640.34832 and parameters: {'rf_max_depth': 73}. Best is trial 16 with value: 16676657050.14034.\n",
      "[I 2024-05-28 16:34:17,026] Trial 52 finished with value: 17170473687.505743 and parameters: {'rf_max_depth': 85}. Best is trial 16 with value: 16676657050.14034.\n",
      "[I 2024-05-28 16:34:40,959] Trial 53 finished with value: 16891936532.07883 and parameters: {'rf_max_depth': 63}. Best is trial 16 with value: 16676657050.14034.\n",
      "[I 2024-05-28 16:35:06,176] Trial 54 finished with value: 17057158264.451517 and parameters: {'rf_max_depth': 69}. Best is trial 16 with value: 16676657050.14034.\n",
      "[I 2024-05-28 16:35:32,371] Trial 55 finished with value: 17047559770.353155 and parameters: {'rf_max_depth': 90}. Best is trial 16 with value: 16676657050.14034.\n",
      "[I 2024-05-28 16:35:54,625] Trial 56 finished with value: 17398037758.944336 and parameters: {'rf_max_depth': 77}. Best is trial 16 with value: 16676657050.14034.\n",
      "[I 2024-05-28 16:36:16,976] Trial 57 finished with value: 17023262404.712416 and parameters: {'rf_max_depth': 83}. Best is trial 16 with value: 16676657050.14034.\n",
      "[I 2024-05-28 16:36:47,460] Trial 58 finished with value: 17073425743.475962 and parameters: {'rf_max_depth': 62}. Best is trial 16 with value: 16676657050.14034.\n",
      "[I 2024-05-28 16:37:19,388] Trial 59 finished with value: 16953263492.231548 and parameters: {'rf_max_depth': 55}. Best is trial 16 with value: 16676657050.14034.\n",
      "[I 2024-05-28 16:37:49,073] Trial 60 finished with value: 17233310878.437214 and parameters: {'rf_max_depth': 66}. Best is trial 16 with value: 16676657050.14034.\n",
      "[I 2024-05-28 16:38:22,041] Trial 61 finished with value: 17204617793.3193 and parameters: {'rf_max_depth': 74}. Best is trial 16 with value: 16676657050.14034.\n",
      "[I 2024-05-28 16:38:56,925] Trial 62 finished with value: 17001270579.90534 and parameters: {'rf_max_depth': 76}. Best is trial 16 with value: 16676657050.14034.\n",
      "[I 2024-05-28 16:39:28,984] Trial 63 finished with value: 16804250734.095207 and parameters: {'rf_max_depth': 80}. Best is trial 16 with value: 16676657050.14034.\n",
      "[I 2024-05-28 16:39:58,794] Trial 64 finished with value: 17080730704.107138 and parameters: {'rf_max_depth': 79}. Best is trial 16 with value: 16676657050.14034.\n",
      "[I 2024-05-28 16:40:33,631] Trial 65 finished with value: 17230399581.62289 and parameters: {'rf_max_depth': 87}. Best is trial 16 with value: 16676657050.14034.\n",
      "[I 2024-05-28 16:41:07,344] Trial 66 finished with value: 16791074197.23676 and parameters: {'rf_max_depth': 97}. Best is trial 16 with value: 16676657050.14034.\n",
      "[I 2024-05-28 16:41:36,899] Trial 67 finished with value: 16683418498.75616 and parameters: {'rf_max_depth': 96}. Best is trial 16 with value: 16676657050.14034.\n",
      "[I 2024-05-28 16:42:06,610] Trial 68 finished with value: 17091582987.3936 and parameters: {'rf_max_depth': 97}. Best is trial 16 with value: 16676657050.14034.\n",
      "[I 2024-05-28 16:42:39,903] Trial 69 finished with value: 16897541159.774414 and parameters: {'rf_max_depth': 97}. Best is trial 16 with value: 16676657050.14034.\n",
      "[I 2024-05-28 16:43:09,890] Trial 70 finished with value: 16984543603.526499 and parameters: {'rf_max_depth': 94}. Best is trial 16 with value: 16676657050.14034.\n",
      "[I 2024-05-28 16:43:39,398] Trial 71 finished with value: 17091855532.742786 and parameters: {'rf_max_depth': 89}. Best is trial 16 with value: 16676657050.14034.\n",
      "[I 2024-05-28 16:44:10,632] Trial 72 finished with value: 16736965970.598167 and parameters: {'rf_max_depth': 99}. Best is trial 16 with value: 16676657050.14034.\n",
      "[I 2024-05-28 16:44:40,869] Trial 73 finished with value: 16826377495.504938 and parameters: {'rf_max_depth': 99}. Best is trial 16 with value: 16676657050.14034.\n",
      "[I 2024-05-28 16:45:21,238] Trial 74 finished with value: 17221123601.266582 and parameters: {'rf_max_depth': 91}. Best is trial 16 with value: 16676657050.14034.\n",
      "[I 2024-05-28 16:45:51,104] Trial 75 finished with value: 17080710694.45659 and parameters: {'rf_max_depth': 96}. Best is trial 16 with value: 16676657050.14034.\n",
      "[I 2024-05-28 16:46:24,976] Trial 76 finished with value: 16389835959.229929 and parameters: {'rf_max_depth': 100}. Best is trial 76 with value: 16389835959.229929.\n",
      "[I 2024-05-28 16:46:56,002] Trial 77 finished with value: 16965650809.562471 and parameters: {'rf_max_depth': 100}. Best is trial 76 with value: 16389835959.229929.\n",
      "[I 2024-05-28 16:47:30,089] Trial 78 finished with value: 17232801681.306686 and parameters: {'rf_max_depth': 86}. Best is trial 76 with value: 16389835959.229929.\n",
      "[I 2024-05-28 16:48:03,915] Trial 79 finished with value: 16758941629.234592 and parameters: {'rf_max_depth': 94}. Best is trial 76 with value: 16389835959.229929.\n",
      "[I 2024-05-28 16:48:34,811] Trial 80 finished with value: 16996916884.823818 and parameters: {'rf_max_depth': 94}. Best is trial 76 with value: 16389835959.229929.\n",
      "[I 2024-05-28 16:49:05,812] Trial 81 finished with value: 16809393346.840202 and parameters: {'rf_max_depth': 89}. Best is trial 76 with value: 16389835959.229929.\n",
      "[I 2024-05-28 16:49:36,919] Trial 82 finished with value: 17069476139.378942 and parameters: {'rf_max_depth': 89}. Best is trial 76 with value: 16389835959.229929.\n",
      "[I 2024-05-28 16:50:08,498] Trial 83 finished with value: 16722096418.103245 and parameters: {'rf_max_depth': 95}. Best is trial 76 with value: 16389835959.229929.\n",
      "[I 2024-05-28 16:50:39,135] Trial 84 finished with value: 16927620249.482965 and parameters: {'rf_max_depth': 98}. Best is trial 76 with value: 16389835959.229929.\n",
      "[I 2024-05-28 16:51:06,594] Trial 85 finished with value: 17068615594.811481 and parameters: {'rf_max_depth': 94}. Best is trial 76 with value: 16389835959.229929.\n",
      "[I 2024-05-28 16:51:29,332] Trial 86 finished with value: 16978206550.873884 and parameters: {'rf_max_depth': 100}. Best is trial 76 with value: 16389835959.229929.\n",
      "[I 2024-05-28 16:51:51,239] Trial 87 finished with value: 17371428789.685543 and parameters: {'rf_max_depth': 92}. Best is trial 76 with value: 16389835959.229929.\n",
      "[I 2024-05-28 16:52:14,250] Trial 88 finished with value: 17181638298.002987 and parameters: {'rf_max_depth': 95}. Best is trial 76 with value: 16389835959.229929.\n",
      "[I 2024-05-28 16:52:38,221] Trial 89 finished with value: 16884885130.783808 and parameters: {'rf_max_depth': 87}. Best is trial 76 with value: 16389835959.229929.\n",
      "[I 2024-05-28 16:53:07,463] Trial 90 finished with value: 17357353746.16473 and parameters: {'rf_max_depth': 98}. Best is trial 76 with value: 16389835959.229929.\n",
      "[I 2024-05-28 16:53:33,672] Trial 91 finished with value: 17102151353.07491 and parameters: {'rf_max_depth': 90}. Best is trial 76 with value: 16389835959.229929.\n",
      "[I 2024-05-28 16:54:06,758] Trial 92 finished with value: 17161302377.970074 and parameters: {'rf_max_depth': 82}. Best is trial 76 with value: 16389835959.229929.\n",
      "[I 2024-05-28 16:54:32,508] Trial 93 finished with value: 17182624999.81962 and parameters: {'rf_max_depth': 92}. Best is trial 76 with value: 16389835959.229929.\n",
      "[I 2024-05-28 16:54:53,770] Trial 94 finished with value: 16980263117.889477 and parameters: {'rf_max_depth': 84}. Best is trial 76 with value: 16389835959.229929.\n",
      "[I 2024-05-28 16:55:16,603] Trial 95 finished with value: 16915523284.863365 and parameters: {'rf_max_depth': 96}. Best is trial 76 with value: 16389835959.229929.\n",
      "[I 2024-05-28 16:55:44,372] Trial 96 finished with value: 16842636529.563711 and parameters: {'rf_max_depth': 79}. Best is trial 76 with value: 16389835959.229929.\n",
      "[I 2024-05-28 16:56:21,184] Trial 97 finished with value: 17054044983.716698 and parameters: {'rf_max_depth': 100}. Best is trial 76 with value: 16389835959.229929.\n",
      "[I 2024-05-28 16:56:56,107] Trial 98 finished with value: 16848863362.603144 and parameters: {'rf_max_depth': 88}. Best is trial 76 with value: 16389835959.229929.\n",
      "[I 2024-05-28 16:57:39,627] Trial 99 finished with value: 17254617018.235226 and parameters: {'rf_max_depth': 92}. Best is trial 76 with value: 16389835959.229929.\n"
     ]
    }
   ],
   "source": [
    "rf_study = optuna.create_study(direction='minimize')\n",
    "rf_study.optimize(optuna_rf, n_trials=100)"
   ],
   "metadata": {
    "collapsed": false,
    "ExecuteTime": {
     "end_time": "2024-05-28T09:57:39.732307300Z",
     "start_time": "2024-05-28T09:11:32.223418400Z"
    }
   }
  },
  {
   "cell_type": "code",
   "execution_count": 45,
   "outputs": [
    {
     "name": "stdout",
     "output_type": "stream",
     "text": [
      "The best result is 16389835959.229929 with hyperparameter max_depth=100\n"
     ]
    }
   ],
   "source": [
    "param = rf_study.best_trial.params['rf_max_depth']\n",
    "result = rf_study.best_trial.value\n",
    "print(f'The best result is {result} with hyperparameter max_depth={param}')"
   ],
   "metadata": {
    "collapsed": false,
    "ExecuteTime": {
     "end_time": "2024-05-28T10:31:30.149841900Z",
     "start_time": "2024-05-28T10:31:30.133421400Z"
    }
   }
  },
  {
   "cell_type": "code",
   "execution_count": 24,
   "outputs": [],
   "source": [
    "\n",
    "# X_test = test.drop(columns=['price'])\n",
    "# y_test = test['price']"
   ],
   "metadata": {
    "collapsed": false,
    "ExecuteTime": {
     "end_time": "2024-05-28T07:05:04.227419100Z",
     "start_time": "2024-05-28T07:05:04.223447600Z"
    }
   }
  },
  {
   "cell_type": "code",
   "execution_count": 25,
   "outputs": [],
   "source": [
    "# X = train_valid.drop(columns='price')\n",
    "# y = train_valid['price']"
   ],
   "metadata": {
    "collapsed": false,
    "ExecuteTime": {
     "end_time": "2024-05-28T07:05:04.235192200Z",
     "start_time": "2024-05-28T07:05:04.230061800Z"
    }
   }
  },
  {
   "cell_type": "code",
   "execution_count": 26,
   "outputs": [],
   "source": [
    "# study.best_trial.params"
   ],
   "metadata": {
    "collapsed": false,
    "ExecuteTime": {
     "end_time": "2024-05-28T07:05:04.243242300Z",
     "start_time": "2024-05-28T07:05:04.237220200Z"
    }
   }
  },
  {
   "cell_type": "code",
   "execution_count": 27,
   "outputs": [],
   "source": [
    "# def objective_test(model, loss_func):\n",
    "#     model.fit(X, y)\n",
    "#     predict = model.predict(X_test)\n",
    "#     return loss_func(y_test, predict)"
   ],
   "metadata": {
    "collapsed": false,
    "ExecuteTime": {
     "end_time": "2024-05-28T07:05:04.248335100Z",
     "start_time": "2024-05-28T07:05:04.246162Z"
    }
   }
  },
  {
   "cell_type": "code",
   "execution_count": 28,
   "outputs": [],
   "source": [
    "# res = objective_test(DecisionTreeRegressor(max_depth=11), mean_squared_error)\n",
    "# res"
   ],
   "metadata": {
    "collapsed": false,
    "ExecuteTime": {
     "end_time": "2024-05-28T07:05:04.266730100Z",
     "start_time": "2024-05-28T07:05:04.253098100Z"
    }
   }
  }
 ],
 "metadata": {
  "kernelspec": {
   "display_name": "Python 3",
   "language": "python",
   "name": "python3"
  },
  "language_info": {
   "codemirror_mode": {
    "name": "ipython",
    "version": 2
   },
   "file_extension": ".py",
   "mimetype": "text/x-python",
   "name": "python",
   "nbconvert_exporter": "python",
   "pygments_lexer": "ipython2",
   "version": "2.7.6"
  }
 },
 "nbformat": 4,
 "nbformat_minor": 0
}
