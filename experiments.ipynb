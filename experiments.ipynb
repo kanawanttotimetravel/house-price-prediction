{
 "cells": [
  {
   "cell_type": "code",
   "execution_count": 1,
   "outputs": [],
   "source": [
    "import numpy as np\n",
    "import pandas as pd\n",
    "\n",
    "import matplotlib.pyplot as plt\n",
    "import seaborn as sns"
   ],
   "metadata": {
    "collapsed": false,
    "ExecuteTime": {
     "end_time": "2024-05-29T09:02:41.213256300Z",
     "start_time": "2024-05-29T09:02:41.196309200Z"
    }
   }
  },
  {
   "cell_type": "markdown",
   "source": [
    "# Reading data"
   ],
   "metadata": {
    "collapsed": false
   }
  },
  {
   "cell_type": "code",
   "execution_count": 2,
   "outputs": [],
   "source": [
    "train_valid = pd.read_csv('Data/train.csv')\n",
    "test = pd.read_csv('Data/test.csv')"
   ],
   "metadata": {
    "collapsed": false,
    "ExecuteTime": {
     "end_time": "2024-05-29T09:02:41.374457300Z",
     "start_time": "2024-05-29T09:02:41.205989900Z"
    }
   }
  },
  {
   "cell_type": "code",
   "execution_count": 3,
   "outputs": [
    {
     "data": {
      "text/plain": "         price  bedrooms  bathrooms    living       lot    floors  waterfront  \\\n0       325000 -0.406924  -1.020294 -0.326556 -0.048584 -0.808562           0   \n1       257000 -1.508293  -1.020294 -1.175827 -0.275405 -0.808562           0   \n2       293000 -0.406924   0.340518 -0.097907 -0.181804  1.003409           0   \n3       225000 -0.406924  -1.020294 -0.794744 -0.128303 -0.808562           0   \n4       479000 -1.508293   0.340518 -0.369020 -0.329991  1.003409           0   \n...        ...       ...        ...       ...       ...       ...         ...   \n17284   378000 -0.406924  -1.020294 -1.175827 -0.197810 -0.808562           0   \n17285  3567000  1.795815   3.062142  3.016084 -0.109207  1.003409           1   \n17286   575000 -0.406924   0.340518  0.043638 -0.249331  1.003409           0   \n17287   245000 -2.609662  -2.381106 -1.850888 -0.002593 -0.808562           0   \n17288   315000  0.694446   0.340518  1.143334 -0.219901  1.003409           0   \n\n           view  condition     grade     above  basement  yr_built  \\\n0     -0.305767   0.907771  1.142623 -0.010175 -0.658642  0.408326   \n1     -0.305767  -0.629146 -1.409591 -1.193642 -0.206737 -1.430099   \n2     -0.305767  -0.629146 -0.558853  0.243426 -0.658642  0.646641   \n3     -0.305767   0.907771 -0.558853 -0.529451 -0.658642 -0.102347   \n4     -0.305767  -0.629146  0.291885 -0.413520  0.007918  1.225404   \n...         ...        ...       ...       ...       ...       ...   \n17284 -0.305767  -0.629146 -0.558853 -0.952118 -0.658642 -0.817291   \n17285  4.914012  -0.629146  1.993361  2.115236  2.301337  1.225404   \n17286 -0.305767  -0.629146 -0.558853  0.400416 -0.658642  1.123270   \n17287 -0.305767  -0.629146 -2.260328 -1.700842 -0.658642 -0.272572   \n17288 -0.305767  -0.629146 -0.558853  1.620112 -0.658642  1.191360   \n\n       yr_renovated   zipcode       lat      long  living15     lot15  \n0         -0.210133 -0.671691 -1.393225  0.439485  1.113865  0.011946  \n1         -0.210133  0.748744 -0.058073 -0.540447 -1.045531 -0.284530  \n2         -0.210133 -1.026799 -1.943163 -0.973605 -0.126329 -0.205714  \n3         -0.210133 -1.045489 -2.612183  1.497528 -0.432730 -0.171726  \n4         -0.210133 -0.821210  1.041082  0.034731  0.150891 -0.084779  \n...             ...       ...       ...       ...       ...       ...  \n17284     -0.210133  0.879573  1.113974 -0.746375 -1.439475 -0.213222  \n17285     -0.210133 -1.307148  0.247208  0.737725  2.164382  0.201478  \n17286     -0.210133 -0.466101  0.872925  1.291600 -0.432730 -0.370597  \n17287     -0.210133  1.683240 -0.570482 -0.774778 -1.191436  0.081716  \n17288     -0.210133 -0.671691 -1.272700  0.815836  1.507809 -0.248015  \n\n[17289 rows x 19 columns]",
      "text/html": "<div>\n<style scoped>\n    .dataframe tbody tr th:only-of-type {\n        vertical-align: middle;\n    }\n\n    .dataframe tbody tr th {\n        vertical-align: top;\n    }\n\n    .dataframe thead th {\n        text-align: right;\n    }\n</style>\n<table border=\"1\" class=\"dataframe\">\n  <thead>\n    <tr style=\"text-align: right;\">\n      <th></th>\n      <th>price</th>\n      <th>bedrooms</th>\n      <th>bathrooms</th>\n      <th>living</th>\n      <th>lot</th>\n      <th>floors</th>\n      <th>waterfront</th>\n      <th>view</th>\n      <th>condition</th>\n      <th>grade</th>\n      <th>above</th>\n      <th>basement</th>\n      <th>yr_built</th>\n      <th>yr_renovated</th>\n      <th>zipcode</th>\n      <th>lat</th>\n      <th>long</th>\n      <th>living15</th>\n      <th>lot15</th>\n    </tr>\n  </thead>\n  <tbody>\n    <tr>\n      <th>0</th>\n      <td>325000</td>\n      <td>-0.406924</td>\n      <td>-1.020294</td>\n      <td>-0.326556</td>\n      <td>-0.048584</td>\n      <td>-0.808562</td>\n      <td>0</td>\n      <td>-0.305767</td>\n      <td>0.907771</td>\n      <td>1.142623</td>\n      <td>-0.010175</td>\n      <td>-0.658642</td>\n      <td>0.408326</td>\n      <td>-0.210133</td>\n      <td>-0.671691</td>\n      <td>-1.393225</td>\n      <td>0.439485</td>\n      <td>1.113865</td>\n      <td>0.011946</td>\n    </tr>\n    <tr>\n      <th>1</th>\n      <td>257000</td>\n      <td>-1.508293</td>\n      <td>-1.020294</td>\n      <td>-1.175827</td>\n      <td>-0.275405</td>\n      <td>-0.808562</td>\n      <td>0</td>\n      <td>-0.305767</td>\n      <td>-0.629146</td>\n      <td>-1.409591</td>\n      <td>-1.193642</td>\n      <td>-0.206737</td>\n      <td>-1.430099</td>\n      <td>-0.210133</td>\n      <td>0.748744</td>\n      <td>-0.058073</td>\n      <td>-0.540447</td>\n      <td>-1.045531</td>\n      <td>-0.284530</td>\n    </tr>\n    <tr>\n      <th>2</th>\n      <td>293000</td>\n      <td>-0.406924</td>\n      <td>0.340518</td>\n      <td>-0.097907</td>\n      <td>-0.181804</td>\n      <td>1.003409</td>\n      <td>0</td>\n      <td>-0.305767</td>\n      <td>-0.629146</td>\n      <td>-0.558853</td>\n      <td>0.243426</td>\n      <td>-0.658642</td>\n      <td>0.646641</td>\n      <td>-0.210133</td>\n      <td>-1.026799</td>\n      <td>-1.943163</td>\n      <td>-0.973605</td>\n      <td>-0.126329</td>\n      <td>-0.205714</td>\n    </tr>\n    <tr>\n      <th>3</th>\n      <td>225000</td>\n      <td>-0.406924</td>\n      <td>-1.020294</td>\n      <td>-0.794744</td>\n      <td>-0.128303</td>\n      <td>-0.808562</td>\n      <td>0</td>\n      <td>-0.305767</td>\n      <td>0.907771</td>\n      <td>-0.558853</td>\n      <td>-0.529451</td>\n      <td>-0.658642</td>\n      <td>-0.102347</td>\n      <td>-0.210133</td>\n      <td>-1.045489</td>\n      <td>-2.612183</td>\n      <td>1.497528</td>\n      <td>-0.432730</td>\n      <td>-0.171726</td>\n    </tr>\n    <tr>\n      <th>4</th>\n      <td>479000</td>\n      <td>-1.508293</td>\n      <td>0.340518</td>\n      <td>-0.369020</td>\n      <td>-0.329991</td>\n      <td>1.003409</td>\n      <td>0</td>\n      <td>-0.305767</td>\n      <td>-0.629146</td>\n      <td>0.291885</td>\n      <td>-0.413520</td>\n      <td>0.007918</td>\n      <td>1.225404</td>\n      <td>-0.210133</td>\n      <td>-0.821210</td>\n      <td>1.041082</td>\n      <td>0.034731</td>\n      <td>0.150891</td>\n      <td>-0.084779</td>\n    </tr>\n    <tr>\n      <th>...</th>\n      <td>...</td>\n      <td>...</td>\n      <td>...</td>\n      <td>...</td>\n      <td>...</td>\n      <td>...</td>\n      <td>...</td>\n      <td>...</td>\n      <td>...</td>\n      <td>...</td>\n      <td>...</td>\n      <td>...</td>\n      <td>...</td>\n      <td>...</td>\n      <td>...</td>\n      <td>...</td>\n      <td>...</td>\n      <td>...</td>\n      <td>...</td>\n    </tr>\n    <tr>\n      <th>17284</th>\n      <td>378000</td>\n      <td>-0.406924</td>\n      <td>-1.020294</td>\n      <td>-1.175827</td>\n      <td>-0.197810</td>\n      <td>-0.808562</td>\n      <td>0</td>\n      <td>-0.305767</td>\n      <td>-0.629146</td>\n      <td>-0.558853</td>\n      <td>-0.952118</td>\n      <td>-0.658642</td>\n      <td>-0.817291</td>\n      <td>-0.210133</td>\n      <td>0.879573</td>\n      <td>1.113974</td>\n      <td>-0.746375</td>\n      <td>-1.439475</td>\n      <td>-0.213222</td>\n    </tr>\n    <tr>\n      <th>17285</th>\n      <td>3567000</td>\n      <td>1.795815</td>\n      <td>3.062142</td>\n      <td>3.016084</td>\n      <td>-0.109207</td>\n      <td>1.003409</td>\n      <td>1</td>\n      <td>4.914012</td>\n      <td>-0.629146</td>\n      <td>1.993361</td>\n      <td>2.115236</td>\n      <td>2.301337</td>\n      <td>1.225404</td>\n      <td>-0.210133</td>\n      <td>-1.307148</td>\n      <td>0.247208</td>\n      <td>0.737725</td>\n      <td>2.164382</td>\n      <td>0.201478</td>\n    </tr>\n    <tr>\n      <th>17286</th>\n      <td>575000</td>\n      <td>-0.406924</td>\n      <td>0.340518</td>\n      <td>0.043638</td>\n      <td>-0.249331</td>\n      <td>1.003409</td>\n      <td>0</td>\n      <td>-0.305767</td>\n      <td>-0.629146</td>\n      <td>-0.558853</td>\n      <td>0.400416</td>\n      <td>-0.658642</td>\n      <td>1.123270</td>\n      <td>-0.210133</td>\n      <td>-0.466101</td>\n      <td>0.872925</td>\n      <td>1.291600</td>\n      <td>-0.432730</td>\n      <td>-0.370597</td>\n    </tr>\n    <tr>\n      <th>17287</th>\n      <td>245000</td>\n      <td>-2.609662</td>\n      <td>-2.381106</td>\n      <td>-1.850888</td>\n      <td>-0.002593</td>\n      <td>-0.808562</td>\n      <td>0</td>\n      <td>-0.305767</td>\n      <td>-0.629146</td>\n      <td>-2.260328</td>\n      <td>-1.700842</td>\n      <td>-0.658642</td>\n      <td>-0.272572</td>\n      <td>-0.210133</td>\n      <td>1.683240</td>\n      <td>-0.570482</td>\n      <td>-0.774778</td>\n      <td>-1.191436</td>\n      <td>0.081716</td>\n    </tr>\n    <tr>\n      <th>17288</th>\n      <td>315000</td>\n      <td>0.694446</td>\n      <td>0.340518</td>\n      <td>1.143334</td>\n      <td>-0.219901</td>\n      <td>1.003409</td>\n      <td>0</td>\n      <td>-0.305767</td>\n      <td>-0.629146</td>\n      <td>-0.558853</td>\n      <td>1.620112</td>\n      <td>-0.658642</td>\n      <td>1.191360</td>\n      <td>-0.210133</td>\n      <td>-0.671691</td>\n      <td>-1.272700</td>\n      <td>0.815836</td>\n      <td>1.507809</td>\n      <td>-0.248015</td>\n    </tr>\n  </tbody>\n</table>\n<p>17289 rows × 19 columns</p>\n</div>"
     },
     "execution_count": 3,
     "metadata": {},
     "output_type": "execute_result"
    }
   ],
   "source": [
    "train_valid"
   ],
   "metadata": {
    "collapsed": false,
    "ExecuteTime": {
     "end_time": "2024-05-29T09:02:41.410225900Z",
     "start_time": "2024-05-29T09:02:41.382998800Z"
    }
   }
  },
  {
   "cell_type": "markdown",
   "source": [
    "# Train/valid splitting"
   ],
   "metadata": {
    "collapsed": false
   }
  },
  {
   "cell_type": "code",
   "execution_count": 4,
   "outputs": [],
   "source": [
    "from sklearn.model_selection import train_test_split\n",
    "train, valid = train_test_split(train_valid, test_size=0.2, random_state=42)\n",
    "\n",
    "X_train = train.drop(columns=['price'])\n",
    "y_train = train['price']\n",
    "X_valid = valid.drop(columns=['price'])\n",
    "y_valid = valid['price']"
   ],
   "metadata": {
    "collapsed": false,
    "ExecuteTime": {
     "end_time": "2024-05-29T09:02:42.791558Z",
     "start_time": "2024-05-29T09:02:41.411393900Z"
    }
   }
  },
  {
   "cell_type": "markdown",
   "source": [
    "# Define objective function"
   ],
   "metadata": {
    "collapsed": false
   }
  },
  {
   "cell_type": "code",
   "execution_count": 5,
   "outputs": [],
   "source": [
    "from sklearn.svm import SVR, LinearSVR\n",
    "from sklearn.tree import DecisionTreeRegressor\n",
    "from sklearn.linear_model import LinearRegression\n",
    "from sklearn.metrics import mean_squared_error, mean_absolute_error, r2_score\n",
    "from sklearn.ensemble import RandomForestRegressor"
   ],
   "metadata": {
    "collapsed": false,
    "ExecuteTime": {
     "end_time": "2024-05-29T09:02:43.421701Z",
     "start_time": "2024-05-29T09:02:42.791558Z"
    }
   }
  },
  {
   "cell_type": "code",
   "execution_count": 6,
   "outputs": [],
   "source": [
    "def objective(model, loss_func):\n",
    "    model.fit(X_train, y_train)\n",
    "    predict = model.predict(X_valid)\n",
    "    return loss_func(y_valid, predict)\n"
   ],
   "metadata": {
    "collapsed": false,
    "ExecuteTime": {
     "end_time": "2024-05-29T09:02:43.428319200Z",
     "start_time": "2024-05-29T09:02:43.425212800Z"
    }
   }
  },
  {
   "cell_type": "markdown",
   "source": [
    "# Baseline"
   ],
   "metadata": {
    "collapsed": false
   }
  },
  {
   "cell_type": "code",
   "execution_count": 7,
   "outputs": [
    {
     "data": {
      "text/plain": "134015870278.58614"
     },
     "execution_count": 7,
     "metadata": {},
     "output_type": "execute_result"
    }
   ],
   "source": [
    "((y_train - y_train.mean()) ** 2).mean()"
   ],
   "metadata": {
    "collapsed": false,
    "ExecuteTime": {
     "end_time": "2024-05-29T09:02:43.445283800Z",
     "start_time": "2024-05-29T09:02:43.428319200Z"
    }
   }
  },
  {
   "cell_type": "markdown",
   "source": [
    "# Linear Regression"
   ],
   "metadata": {
    "collapsed": false
   }
  },
  {
   "cell_type": "code",
   "execution_count": 8,
   "outputs": [
    {
     "data": {
      "text/plain": "37004420129.132484"
     },
     "execution_count": 8,
     "metadata": {},
     "output_type": "execute_result"
    }
   ],
   "source": [
    "objective(LinearRegression(), mean_squared_error)"
   ],
   "metadata": {
    "collapsed": false,
    "ExecuteTime": {
     "end_time": "2024-05-29T09:02:43.795097Z",
     "start_time": "2024-05-29T09:02:43.450377100Z"
    }
   }
  },
  {
   "cell_type": "code",
   "execution_count": 9,
   "outputs": [
    {
     "data": {
      "text/plain": "124657.91291045053"
     },
     "execution_count": 9,
     "metadata": {},
     "output_type": "execute_result"
    }
   ],
   "source": [
    "objective(LinearRegression(), mean_absolute_error)"
   ],
   "metadata": {
    "collapsed": false,
    "ExecuteTime": {
     "end_time": "2024-05-29T09:02:43.825100Z",
     "start_time": "2024-05-29T09:02:43.789522700Z"
    }
   }
  },
  {
   "cell_type": "code",
   "execution_count": 10,
   "outputs": [
    {
     "data": {
      "text/plain": "0.6880428738057232"
     },
     "execution_count": 10,
     "metadata": {},
     "output_type": "execute_result"
    }
   ],
   "source": [
    "objective(LinearRegression(), r2_score)"
   ],
   "metadata": {
    "collapsed": false,
    "ExecuteTime": {
     "end_time": "2024-05-29T09:02:43.955110100Z",
     "start_time": "2024-05-29T09:02:43.820086400Z"
    }
   }
  },
  {
   "cell_type": "markdown",
   "source": [
    "# Support Vector Machine\n",
    "## Linear SVM"
   ],
   "metadata": {
    "collapsed": false
   }
  },
  {
   "cell_type": "code",
   "execution_count": 11,
   "outputs": [
    {
     "name": "stderr",
     "output_type": "stream",
     "text": [
      "F:\\miniconda\\envs\\kana\\Lib\\site-packages\\sklearn\\svm\\_classes.py:31: FutureWarning: The default value of `dual` will change from `True` to `'auto'` in 1.5. Set the value of `dual` explicitly to suppress the warning.\n",
      "  warnings.warn(\n"
     ]
    },
    {
     "data": {
      "text/plain": "389351013592.0525"
     },
     "execution_count": 11,
     "metadata": {},
     "output_type": "execute_result"
    }
   ],
   "source": [
    "objective(LinearSVR(max_iter=10000), mean_squared_error)"
   ],
   "metadata": {
    "collapsed": false,
    "ExecuteTime": {
     "end_time": "2024-05-29T09:02:43.960729700Z",
     "start_time": "2024-05-29T09:02:43.851151200Z"
    }
   }
  },
  {
   "cell_type": "markdown",
   "source": [
    "### Hyperparameter finetuning"
   ],
   "metadata": {
    "collapsed": false
   }
  },
  {
   "cell_type": "code",
   "execution_count": 12,
   "outputs": [],
   "source": [
    "import optuna"
   ],
   "metadata": {
    "collapsed": false,
    "ExecuteTime": {
     "end_time": "2024-05-29T09:02:44.213617200Z",
     "start_time": "2024-05-29T09:02:43.920558200Z"
    }
   }
  },
  {
   "cell_type": "code",
   "execution_count": 13,
   "outputs": [],
   "source": [
    "X = train_valid.drop(columns=['price'])\n",
    "y = train_valid['price']"
   ],
   "metadata": {
    "collapsed": false,
    "ExecuteTime": {
     "end_time": "2024-05-29T09:02:44.215129Z",
     "start_time": "2024-05-29T09:02:44.185030600Z"
    }
   }
  },
  {
   "cell_type": "code",
   "execution_count": 14,
   "outputs": [],
   "source": [
    "def optuna_cross_validation(params, model):\n",
    "    optuna_params = params\n",
    "    optuna_search = optuna.integration.OptunaSearchCV(\n",
    "        cv=5,\n",
    "        estimator=model,\n",
    "        param_distributions=optuna_params,\n",
    "        scoring='neg_mean_squared_error',\n",
    "        n_trials=100,\n",
    "    )\n",
    "    optuna_search.fit(X, y)\n",
    "    return optuna_search\n"
   ],
   "metadata": {
    "collapsed": false,
    "ExecuteTime": {
     "end_time": "2024-05-29T09:02:44.216216700Z",
     "start_time": "2024-05-29T09:02:44.213617200Z"
    }
   }
  },
  {
   "cell_type": "code",
   "execution_count": null,
   "outputs": [],
   "source": [
    "linear_svm_cv = optuna_cross_validation(\n",
    "    params={\n",
    "        'C': optuna.distributions.FloatDistribution(1e-10, 1e10)\n",
    "    },\n",
    "    model=LinearSVR(max_iter=10000)\n",
    ")"
   ],
   "metadata": {
    "collapsed": false
   }
  },
  {
   "cell_type": "code",
   "execution_count": 32,
   "outputs": [
    {
     "data": {
      "text/plain": "{'C': 3907246685.23547}"
     },
     "execution_count": 32,
     "metadata": {},
     "output_type": "execute_result"
    }
   ],
   "source": [
    "linear_svm_cv.best_params_"
   ],
   "metadata": {
    "collapsed": false,
    "ExecuteTime": {
     "end_time": "2024-05-29T16:18:24.279032300Z",
     "start_time": "2024-05-29T16:18:24.255289700Z"
    }
   }
  },
  {
   "cell_type": "markdown",
   "source": [
    "## Non-linear SVM"
   ],
   "metadata": {
    "collapsed": false
   }
  },
  {
   "cell_type": "markdown",
   "source": [],
   "metadata": {
    "collapsed": false
   }
  },
  {
   "cell_type": "code",
   "execution_count": 16,
   "outputs": [
    {
     "data": {
      "text/plain": "125372888070.63678"
     },
     "execution_count": 16,
     "metadata": {},
     "output_type": "execute_result"
    }
   ],
   "source": [
    "objective(SVR(max_iter=10000, kernel='rbf'), mean_squared_error)"
   ],
   "metadata": {
    "collapsed": false,
    "ExecuteTime": {
     "end_time": "2024-05-29T12:19:50.921607200Z",
     "start_time": "2024-05-29T12:19:33.072647500Z"
    }
   }
  },
  {
   "cell_type": "code",
   "execution_count": null,
   "outputs": [],
   "source": [
    "svm_cv = optuna_cross_validation(\n",
    "    params={\n",
    "        'C': optuna.distributions.FloatDistribution(1e-10, 1e10),\n",
    "        'kernel': optuna.distributions.CategoricalDistribution(['rbf', 'poly'])\n",
    "    },\n",
    "    model=SVR(max_iter=10000)\n",
    ")"
   ],
   "metadata": {
    "collapsed": false
   }
  },
  {
   "cell_type": "code",
   "execution_count": 31,
   "outputs": [
    {
     "data": {
      "text/plain": "{'C': 4525681.402821764, 'kernel': 'rbf'}"
     },
     "execution_count": 31,
     "metadata": {},
     "output_type": "execute_result"
    }
   ],
   "source": [
    "svm_cv.best_params_"
   ],
   "metadata": {
    "collapsed": false,
    "ExecuteTime": {
     "end_time": "2024-05-29T16:18:09.510703400Z",
     "start_time": "2024-05-29T16:18:09.491495200Z"
    }
   }
  },
  {
   "cell_type": "markdown",
   "source": [
    "# Decision Tree"
   ],
   "metadata": {
    "collapsed": false
   }
  },
  {
   "cell_type": "code",
   "execution_count": 18,
   "outputs": [
    {
     "data": {
      "text/plain": "31961431009.566803"
     },
     "execution_count": 18,
     "metadata": {},
     "output_type": "execute_result"
    }
   ],
   "source": [
    "objective(DecisionTreeRegressor(), mean_squared_error)"
   ],
   "metadata": {
    "collapsed": false,
    "ExecuteTime": {
     "end_time": "2024-05-29T13:22:51.015375500Z",
     "start_time": "2024-05-29T13:22:50.724213600Z"
    }
   }
  },
  {
   "cell_type": "code",
   "execution_count": 19,
   "outputs": [
    {
     "data": {
      "text/plain": "0.7314148994516922"
     },
     "execution_count": 19,
     "metadata": {},
     "output_type": "execute_result"
    }
   ],
   "source": [
    "objective(DecisionTreeRegressor(), r2_score)"
   ],
   "metadata": {
    "collapsed": false,
    "ExecuteTime": {
     "end_time": "2024-05-29T13:22:51.298069700Z",
     "start_time": "2024-05-29T13:22:51.017235Z"
    }
   }
  },
  {
   "cell_type": "code",
   "execution_count": 20,
   "outputs": [
    {
     "name": "stderr",
     "output_type": "stream",
     "text": [
      "C:\\Users\\Admin\\AppData\\Local\\Temp\\ipykernel_18764\\421745612.py:3: ExperimentalWarning: OptunaSearchCV is experimental (supported from v0.17.0). The interface can change in the future.\n",
      "  optuna_search = optuna.integration.OptunaSearchCV(\n",
      "[I 2024-05-29 20:22:51,306] A new study created in memory with name: no-name-23056ef0-dc3e-47d6-8a4a-9fb6423ab4e7\n",
      "[I 2024-05-29 20:22:52,416] Trial 0 finished with value: -34273603671.289803 and parameters: {'max_depth': 67}. Best is trial 0 with value: -34273603671.289803.\n",
      "[I 2024-05-29 20:22:52,654] Trial 1 finished with value: -45341431760.71805 and parameters: {'max_depth': 4}. Best is trial 0 with value: -34273603671.289803.\n",
      "[I 2024-05-29 20:22:53,843] Trial 2 finished with value: -34725045332.55603 and parameters: {'max_depth': 94}. Best is trial 0 with value: -34273603671.289803.\n",
      "[I 2024-05-29 20:22:55,014] Trial 3 finished with value: -35137283852.54122 and parameters: {'max_depth': 27}. Best is trial 0 with value: -34273603671.289803.\n",
      "[I 2024-05-29 20:22:56,224] Trial 4 finished with value: -33621281427.29641 and parameters: {'max_depth': 98}. Best is trial 4 with value: -33621281427.29641.\n",
      "[I 2024-05-29 20:22:56,608] Trial 5 finished with value: -31651922172.744835 and parameters: {'max_depth': 7}. Best is trial 5 with value: -31651922172.744835.\n",
      "[I 2024-05-29 20:22:56,750] Trial 6 finished with value: -66250771929.41659 and parameters: {'max_depth': 2}. Best is trial 5 with value: -31651922172.744835.\n",
      "[I 2024-05-29 20:22:57,862] Trial 7 finished with value: -33695900450.62428 and parameters: {'max_depth': 74}. Best is trial 5 with value: -31651922172.744835.\n",
      "[I 2024-05-29 20:22:59,034] Trial 8 finished with value: -32676582863.562237 and parameters: {'max_depth': 60}. Best is trial 5 with value: -31651922172.744835.\n",
      "[I 2024-05-29 20:23:00,268] Trial 9 finished with value: -35717661118.63692 and parameters: {'max_depth': 31}. Best is trial 5 with value: -31651922172.744835.\n",
      "[I 2024-05-29 20:23:01,416] Trial 10 finished with value: -32832628358.844463 and parameters: {'max_depth': 32}. Best is trial 5 with value: -31651922172.744835.\n",
      "[I 2024-05-29 20:23:02,555] Trial 11 finished with value: -35053366247.53312 and parameters: {'max_depth': 55}. Best is trial 5 with value: -31651922172.744835.\n",
      "[I 2024-05-29 20:23:03,670] Trial 12 finished with value: -35144019196.50129 and parameters: {'max_depth': 48}. Best is trial 5 with value: -31651922172.744835.\n",
      "[I 2024-05-29 20:23:04,530] Trial 13 finished with value: -31551551960.07671 and parameters: {'max_depth': 15}. Best is trial 13 with value: -31551551960.07671.\n",
      "[I 2024-05-29 20:23:05,483] Trial 14 finished with value: -31743769517.045338 and parameters: {'max_depth': 17}. Best is trial 13 with value: -31551551960.07671.\n",
      "[I 2024-05-29 20:23:06,268] Trial 15 finished with value: -31062422295.538757 and parameters: {'max_depth': 14}. Best is trial 15 with value: -31062422295.538757.\n",
      "[I 2024-05-29 20:23:07,405] Trial 16 finished with value: -33136684641.696266 and parameters: {'max_depth': 43}. Best is trial 15 with value: -31062422295.538757.\n",
      "[I 2024-05-29 20:23:08,343] Trial 17 finished with value: -33886090359.772877 and parameters: {'max_depth': 17}. Best is trial 15 with value: -31062422295.538757.\n",
      "[I 2024-05-29 20:23:09,349] Trial 18 finished with value: -32312044753.482117 and parameters: {'max_depth': 17}. Best is trial 15 with value: -31062422295.538757.\n",
      "[I 2024-05-29 20:23:10,570] Trial 19 finished with value: -33520636450.891685 and parameters: {'max_depth': 39}. Best is trial 15 with value: -31062422295.538757.\n",
      "[I 2024-05-29 20:23:11,661] Trial 20 finished with value: -35015560938.82737 and parameters: {'max_depth': 22}. Best is trial 15 with value: -31062422295.538757.\n",
      "[I 2024-05-29 20:23:12,155] Trial 21 finished with value: -28528462309.734577 and parameters: {'max_depth': 9}. Best is trial 21 with value: -28528462309.734577.\n",
      "[I 2024-05-29 20:23:12,764] Trial 22 finished with value: -30849518007.60253 and parameters: {'max_depth': 11}. Best is trial 21 with value: -28528462309.734577.\n",
      "[I 2024-05-29 20:23:13,313] Trial 23 finished with value: -29102622247.306847 and parameters: {'max_depth': 10}. Best is trial 21 with value: -28528462309.734577.\n",
      "[I 2024-05-29 20:23:13,407] Trial 24 finished with value: -88691025407.78946 and parameters: {'max_depth': 1}. Best is trial 21 with value: -28528462309.734577.\n",
      "[I 2024-05-29 20:23:14,036] Trial 25 finished with value: -31445422171.693462 and parameters: {'max_depth': 11}. Best is trial 21 with value: -28528462309.734577.\n",
      "[I 2024-05-29 20:23:15,213] Trial 26 finished with value: -33476139529.871254 and parameters: {'max_depth': 25}. Best is trial 21 with value: -28528462309.734577.\n",
      "[I 2024-05-29 20:23:16,434] Trial 27 finished with value: -34639315446.84544 and parameters: {'max_depth': 36}. Best is trial 21 with value: -28528462309.734577.\n",
      "[I 2024-05-29 20:23:17,558] Trial 28 finished with value: -33771174559.508472 and parameters: {'max_depth': 84}. Best is trial 21 with value: -28528462309.734577.\n",
      "[I 2024-05-29 20:23:18,013] Trial 29 finished with value: -31180160513.51584 and parameters: {'max_depth': 8}. Best is trial 21 with value: -28528462309.734577.\n",
      "[I 2024-05-29 20:23:19,216] Trial 30 finished with value: -34995243092.17992 and parameters: {'max_depth': 22}. Best is trial 21 with value: -28528462309.734577.\n",
      "[I 2024-05-29 20:23:19,839] Trial 31 finished with value: -30101084789.297863 and parameters: {'max_depth': 10}. Best is trial 21 with value: -28528462309.734577.\n",
      "[I 2024-05-29 20:23:20,407] Trial 32 finished with value: -30279000845.33001 and parameters: {'max_depth': 8}. Best is trial 21 with value: -28528462309.734577.\n",
      "[I 2024-05-29 20:23:20,517] Trial 33 finished with value: -88691025407.78946 and parameters: {'max_depth': 1}. Best is trial 21 with value: -28528462309.734577.\n",
      "[I 2024-05-29 20:23:21,040] Trial 34 finished with value: -31601129991.435993 and parameters: {'max_depth': 7}. Best is trial 21 with value: -28528462309.734577.\n",
      "[I 2024-05-29 20:23:22,286] Trial 35 finished with value: -33860113186.947052 and parameters: {'max_depth': 28}. Best is trial 21 with value: -28528462309.734577.\n",
      "[I 2024-05-29 20:23:23,366] Trial 36 finished with value: -33331203801.358406 and parameters: {'max_depth': 21}. Best is trial 21 with value: -28528462309.734577.\n",
      "[I 2024-05-29 20:23:23,695] Trial 37 finished with value: -34628072342.63816 and parameters: {'max_depth': 6}. Best is trial 21 with value: -28528462309.734577.\n",
      "[I 2024-05-29 20:23:24,881] Trial 38 finished with value: -33706073827.20929 and parameters: {'max_depth': 70}. Best is trial 21 with value: -28528462309.734577.\n",
      "[I 2024-05-29 20:23:25,630] Trial 39 finished with value: -33049019789.87121 and parameters: {'max_depth': 13}. Best is trial 21 with value: -28528462309.734577.\n",
      "[I 2024-05-29 20:23:26,005] Trial 40 finished with value: -34465320093.461876 and parameters: {'max_depth': 6}. Best is trial 21 with value: -28528462309.734577.\n",
      "[I 2024-05-29 20:23:26,557] Trial 41 finished with value: -28785834518.49425 and parameters: {'max_depth': 10}. Best is trial 21 with value: -28528462309.734577.\n",
      "[I 2024-05-29 20:23:27,039] Trial 42 finished with value: -29245506718.762962 and parameters: {'max_depth': 9}. Best is trial 21 with value: -28528462309.734577.\n",
      "[I 2024-05-29 20:23:28,196] Trial 43 finished with value: -33881674751.1167 and parameters: {'max_depth': 20}. Best is trial 21 with value: -28528462309.734577.\n",
      "[I 2024-05-29 20:23:29,382] Trial 44 finished with value: -34339361463.698505 and parameters: {'max_depth': 29}. Best is trial 21 with value: -28528462309.734577.\n",
      "[I 2024-05-29 20:23:30,023] Trial 45 finished with value: -31263665468.571953 and parameters: {'max_depth': 11}. Best is trial 21 with value: -28528462309.734577.\n",
      "[I 2024-05-29 20:23:31,238] Trial 46 finished with value: -34307033333.519703 and parameters: {'max_depth': 25}. Best is trial 21 with value: -28528462309.734577.\n",
      "[I 2024-05-29 20:23:31,414] Trial 47 finished with value: -56375254078.67281 and parameters: {'max_depth': 3}. Best is trial 21 with value: -28528462309.734577.\n",
      "[I 2024-05-29 20:23:32,566] Trial 48 finished with value: -32081258193.39614 and parameters: {'max_depth': 33}. Best is trial 21 with value: -28528462309.734577.\n",
      "[I 2024-05-29 20:23:33,800] Trial 49 finished with value: -33311884483.66703 and parameters: {'max_depth': 90}. Best is trial 21 with value: -28528462309.734577.\n",
      "[I 2024-05-29 20:23:34,969] Trial 50 finished with value: -33885682954.11428 and parameters: {'max_depth': 60}. Best is trial 21 with value: -28528462309.734577.\n",
      "[I 2024-05-29 20:23:35,500] Trial 51 finished with value: -28649895897.260506 and parameters: {'max_depth': 9}. Best is trial 21 with value: -28528462309.734577.\n",
      "[I 2024-05-29 20:23:36,398] Trial 52 finished with value: -31778944722.0299 and parameters: {'max_depth': 16}. Best is trial 21 with value: -28528462309.734577.\n",
      "[I 2024-05-29 20:23:37,015] Trial 53 finished with value: -29102804104.961273 and parameters: {'max_depth': 11}. Best is trial 21 with value: -28528462309.734577.\n",
      "[I 2024-05-29 20:23:37,976] Trial 54 finished with value: -34073612578.227924 and parameters: {'max_depth': 18}. Best is trial 21 with value: -28528462309.734577.\n",
      "[I 2024-05-29 20:23:38,839] Trial 55 finished with value: -32852238187.558777 and parameters: {'max_depth': 14}. Best is trial 21 with value: -28528462309.734577.\n",
      "[I 2024-05-29 20:23:39,074] Trial 56 finished with value: -56375254078.67281 and parameters: {'max_depth': 3}. Best is trial 21 with value: -28528462309.734577.\n",
      "[I 2024-05-29 20:23:39,340] Trial 57 finished with value: -45341431760.71805 and parameters: {'max_depth': 4}. Best is trial 21 with value: -28528462309.734577.\n",
      "[I 2024-05-29 20:23:40,160] Trial 58 finished with value: -30644907781.11384 and parameters: {'max_depth': 13}. Best is trial 21 with value: -28528462309.734577.\n",
      "[I 2024-05-29 20:23:41,301] Trial 59 finished with value: -33889829924.042217 and parameters: {'max_depth': 24}. Best is trial 21 with value: -28528462309.734577.\n",
      "[I 2024-05-29 20:23:42,423] Trial 60 finished with value: -33618275990.405895 and parameters: {'max_depth': 45}. Best is trial 21 with value: -28528462309.734577.\n",
      "[I 2024-05-29 20:23:42,925] Trial 61 finished with value: -29695740146.153034 and parameters: {'max_depth': 9}. Best is trial 21 with value: -28528462309.734577.\n",
      "[I 2024-05-29 20:23:43,487] Trial 62 finished with value: -30346326944.098408 and parameters: {'max_depth': 10}. Best is trial 21 with value: -28528462309.734577.\n",
      "[I 2024-05-29 20:23:44,507] Trial 63 finished with value: -31173287068.834126 and parameters: {'max_depth': 18}. Best is trial 21 with value: -28528462309.734577.\n",
      "[I 2024-05-29 20:23:44,862] Trial 64 finished with value: -34466659825.31038 and parameters: {'max_depth': 6}. Best is trial 21 with value: -28528462309.734577.\n",
      "[I 2024-05-29 20:23:44,963] Trial 65 finished with value: -88691025407.78946 and parameters: {'max_depth': 1}. Best is trial 21 with value: -28528462309.734577.\n",
      "[I 2024-05-29 20:23:45,513] Trial 66 finished with value: -29119158232.809166 and parameters: {'max_depth': 9}. Best is trial 21 with value: -28528462309.734577.\n",
      "[I 2024-05-29 20:23:46,328] Trial 67 finished with value: -33025571644.210365 and parameters: {'max_depth': 14}. Best is trial 21 with value: -28528462309.734577.\n",
      "[I 2024-05-29 20:23:47,473] Trial 68 finished with value: -32016537593.423298 and parameters: {'max_depth': 19}. Best is trial 21 with value: -28528462309.734577.\n",
      "[I 2024-05-29 20:23:47,806] Trial 69 finished with value: -39172792928.55317 and parameters: {'max_depth': 5}. Best is trial 21 with value: -28528462309.734577.\n",
      "[I 2024-05-29 20:23:48,620] Trial 70 finished with value: -30480055214.89562 and parameters: {'max_depth': 12}. Best is trial 21 with value: -28528462309.734577.\n",
      "[I 2024-05-29 20:23:49,183] Trial 71 finished with value: -31649305019.802868 and parameters: {'max_depth': 8}. Best is trial 21 with value: -28528462309.734577.\n",
      "[I 2024-05-29 20:23:49,749] Trial 72 finished with value: -30833257658.74282 and parameters: {'max_depth': 8}. Best is trial 21 with value: -28528462309.734577.\n",
      "[I 2024-05-29 20:23:50,408] Trial 73 finished with value: -30079822957.387672 and parameters: {'max_depth': 10}. Best is trial 21 with value: -28528462309.734577.\n",
      "[I 2024-05-29 20:23:51,482] Trial 74 finished with value: -31814830641.012806 and parameters: {'max_depth': 16}. Best is trial 21 with value: -28528462309.734577.\n",
      "[I 2024-05-29 20:23:51,767] Trial 75 finished with value: -45704500351.48985 and parameters: {'max_depth': 4}. Best is trial 21 with value: -28528462309.734577.\n",
      "[I 2024-05-29 20:23:53,589] Trial 76 finished with value: -34505456106.373055 and parameters: {'max_depth': 22}. Best is trial 21 with value: -28528462309.734577.\n",
      "[I 2024-05-29 20:23:54,422] Trial 77 finished with value: -29540298624.984657 and parameters: {'max_depth': 9}. Best is trial 21 with value: -28528462309.734577.\n",
      "[I 2024-05-29 20:23:55,748] Trial 78 finished with value: -31129476259.334217 and parameters: {'max_depth': 14}. Best is trial 21 with value: -28528462309.734577.\n",
      "[I 2024-05-29 20:23:56,598] Trial 79 finished with value: -31176316218.34902 and parameters: {'max_depth': 12}. Best is trial 21 with value: -28528462309.734577.\n",
      "[I 2024-05-29 20:23:57,610] Trial 80 finished with value: -32070073557.564705 and parameters: {'max_depth': 16}. Best is trial 21 with value: -28528462309.734577.\n",
      "[I 2024-05-29 20:23:58,202] Trial 81 finished with value: -30099021405.02874 and parameters: {'max_depth': 9}. Best is trial 21 with value: -28528462309.734577.\n",
      "[I 2024-05-29 20:23:58,641] Trial 82 finished with value: -33848177635.268074 and parameters: {'max_depth': 6}. Best is trial 21 with value: -28528462309.734577.\n",
      "[I 2024-05-29 20:23:58,879] Trial 83 finished with value: -56375254078.67281 and parameters: {'max_depth': 3}. Best is trial 21 with value: -28528462309.734577.\n",
      "[I 2024-05-29 20:23:59,631] Trial 84 finished with value: -30393613992.381836 and parameters: {'max_depth': 10}. Best is trial 21 with value: -28528462309.734577.\n",
      "[I 2024-05-29 20:24:01,133] Trial 85 finished with value: -33257506060.43215 and parameters: {'max_depth': 77}. Best is trial 21 with value: -28528462309.734577.\n",
      "[I 2024-05-29 20:24:02,404] Trial 86 finished with value: -34122810789.43963 and parameters: {'max_depth': 20}. Best is trial 21 with value: -28528462309.734577.\n",
      "[I 2024-05-29 20:24:02,531] Trial 87 finished with value: -88691025407.78946 and parameters: {'max_depth': 1}. Best is trial 21 with value: -28528462309.734577.\n",
      "[I 2024-05-29 20:24:03,027] Trial 88 finished with value: -31946005216.35685 and parameters: {'max_depth': 8}. Best is trial 21 with value: -28528462309.734577.\n",
      "[I 2024-05-29 20:24:03,763] Trial 89 finished with value: -28916853672.394417 and parameters: {'max_depth': 12}. Best is trial 21 with value: -28528462309.734577.\n",
      "[I 2024-05-29 20:24:04,685] Trial 90 finished with value: -31023644990.880493 and parameters: {'max_depth': 15}. Best is trial 21 with value: -28528462309.734577.\n",
      "[I 2024-05-29 20:24:05,375] Trial 91 finished with value: -29491099080.00306 and parameters: {'max_depth': 11}. Best is trial 21 with value: -28528462309.734577.\n",
      "[I 2024-05-29 20:24:05,672] Trial 92 finished with value: -39672637592.606476 and parameters: {'max_depth': 5}. Best is trial 21 with value: -28528462309.734577.\n",
      "[I 2024-05-29 20:24:06,352] Trial 93 finished with value: -28982866717.677715 and parameters: {'max_depth': 12}. Best is trial 21 with value: -28528462309.734577.\n",
      "[I 2024-05-29 20:24:07,333] Trial 94 finished with value: -32143437958.52456 and parameters: {'max_depth': 18}. Best is trial 21 with value: -28528462309.734577.\n",
      "[I 2024-05-29 20:24:08,479] Trial 95 finished with value: -34465722549.616936 and parameters: {'max_depth': 56}. Best is trial 21 with value: -28528462309.734577.\n",
      "[I 2024-05-29 20:24:09,197] Trial 96 finished with value: -30824493844.62965 and parameters: {'max_depth': 13}. Best is trial 21 with value: -28528462309.734577.\n",
      "[I 2024-05-29 20:24:10,431] Trial 97 finished with value: -33589427689.31367 and parameters: {'max_depth': 23}. Best is trial 21 with value: -28528462309.734577.\n",
      "[I 2024-05-29 20:24:11,152] Trial 98 finished with value: -30340014077.573395 and parameters: {'max_depth': 12}. Best is trial 21 with value: -28528462309.734577.\n",
      "[I 2024-05-29 20:24:12,273] Trial 99 finished with value: -33243450942.800102 and parameters: {'max_depth': 26}. Best is trial 21 with value: -28528462309.734577.\n"
     ]
    }
   ],
   "source": [
    "dt_cv = optuna_cross_validation(\n",
    "    params={\n",
    "        'max_depth': optuna.distributions.IntDistribution(1,100)\n",
    "    },\n",
    "    model=DecisionTreeRegressor()\n",
    ")"
   ],
   "metadata": {
    "collapsed": false,
    "ExecuteTime": {
     "end_time": "2024-05-29T13:24:12.389704Z",
     "start_time": "2024-05-29T13:22:51.303805Z"
    }
   }
  },
  {
   "cell_type": "code",
   "execution_count": 21,
   "outputs": [
    {
     "data": {
      "text/plain": "{'max_depth': 9}"
     },
     "execution_count": 21,
     "metadata": {},
     "output_type": "execute_result"
    }
   ],
   "source": [
    "dt_cv.best_params_"
   ],
   "metadata": {
    "collapsed": false,
    "ExecuteTime": {
     "end_time": "2024-05-29T13:24:12.400421200Z",
     "start_time": "2024-05-29T13:24:12.395730900Z"
    }
   }
  },
  {
   "cell_type": "markdown",
   "source": [
    "# Random Forest"
   ],
   "metadata": {
    "collapsed": false
   }
  },
  {
   "cell_type": "code",
   "execution_count": 22,
   "outputs": [
    {
     "data": {
      "text/plain": "15972338036.309834"
     },
     "execution_count": 22,
     "metadata": {},
     "output_type": "execute_result"
    }
   ],
   "source": [
    "objective(RandomForestRegressor(), mean_squared_error)\n"
   ],
   "metadata": {
    "collapsed": false,
    "ExecuteTime": {
     "end_time": "2024-05-29T13:24:28.234493800Z",
     "start_time": "2024-05-29T13:24:12.400941100Z"
    }
   }
  },
  {
   "cell_type": "code",
   "execution_count": 23,
   "outputs": [
    {
     "data": {
      "text/plain": "0.864842636934591"
     },
     "execution_count": 23,
     "metadata": {},
     "output_type": "execute_result"
    }
   ],
   "source": [
    "objective(RandomForestRegressor(), r2_score)"
   ],
   "metadata": {
    "collapsed": false,
    "ExecuteTime": {
     "end_time": "2024-05-29T13:24:44.543250400Z",
     "start_time": "2024-05-29T13:24:28.236298800Z"
    }
   }
  },
  {
   "cell_type": "code",
   "execution_count": 24,
   "outputs": [
    {
     "name": "stderr",
     "output_type": "stream",
     "text": [
      "C:\\Users\\Admin\\AppData\\Local\\Temp\\ipykernel_18764\\421745612.py:3: ExperimentalWarning: OptunaSearchCV is experimental (supported from v0.17.0). The interface can change in the future.\n",
      "  optuna_search = optuna.integration.OptunaSearchCV(\n",
      "[I 2024-05-29 20:24:44,548] A new study created in memory with name: no-name-a1abd91a-b042-4f67-af3a-e9cca662b725\n",
      "[I 2024-05-29 20:26:13,542] Trial 0 finished with value: -16380405628.536234 and parameters: {'max_depth': 74}. Best is trial 0 with value: -16380405628.536234.\n",
      "[I 2024-05-29 20:27:52,727] Trial 1 finished with value: -16548576744.073456 and parameters: {'max_depth': 39}. Best is trial 0 with value: -16380405628.536234.\n",
      "[I 2024-05-29 20:29:15,522] Trial 2 finished with value: -16425845075.126846 and parameters: {'max_depth': 68}. Best is trial 0 with value: -16380405628.536234.\n",
      "[I 2024-05-29 20:30:42,410] Trial 3 finished with value: -16446628706.477352 and parameters: {'max_depth': 32}. Best is trial 0 with value: -16380405628.536234.\n",
      "[I 2024-05-29 20:32:24,368] Trial 4 finished with value: -16276323523.41676 and parameters: {'max_depth': 34}. Best is trial 4 with value: -16276323523.41676.\n",
      "[I 2024-05-29 20:34:07,920] Trial 5 finished with value: -16630054400.051764 and parameters: {'max_depth': 70}. Best is trial 4 with value: -16276323523.41676.\n",
      "[I 2024-05-29 20:35:46,128] Trial 6 finished with value: -16581994102.206219 and parameters: {'max_depth': 81}. Best is trial 4 with value: -16276323523.41676.\n",
      "[I 2024-05-29 20:37:14,140] Trial 7 finished with value: -16337535051.847555 and parameters: {'max_depth': 20}. Best is trial 4 with value: -16276323523.41676.\n",
      "[I 2024-05-29 20:38:52,780] Trial 8 finished with value: -16514673144.49567 and parameters: {'max_depth': 66}. Best is trial 4 with value: -16276323523.41676.\n",
      "[I 2024-05-29 20:40:03,317] Trial 9 finished with value: -16363902992.708729 and parameters: {'max_depth': 15}. Best is trial 4 with value: -16276323523.41676.\n",
      "[I 2024-05-29 20:41:30,746] Trial 10 finished with value: -16305807073.17857 and parameters: {'max_depth': 48}. Best is trial 4 with value: -16276323523.41676.\n",
      "[I 2024-05-29 20:43:07,825] Trial 11 finished with value: -16562302530.19429 and parameters: {'max_depth': 99}. Best is trial 4 with value: -16276323523.41676.\n",
      "[I 2024-05-29 20:44:59,254] Trial 12 finished with value: -16427421704.384653 and parameters: {'max_depth': 46}. Best is trial 4 with value: -16276323523.41676.\n",
      "[I 2024-05-29 20:45:03,668] Trial 13 finished with value: -82971960227.64516 and parameters: {'max_depth': 1}. Best is trial 4 with value: -16276323523.41676.\n",
      "[I 2024-05-29 20:46:37,474] Trial 14 finished with value: -16283868822.59997 and parameters: {'max_depth': 53}. Best is trial 4 with value: -16276323523.41676.\n",
      "[I 2024-05-29 20:48:14,774] Trial 15 finished with value: -16414799336.278528 and parameters: {'max_depth': 56}. Best is trial 4 with value: -16276323523.41676.\n",
      "[I 2024-05-29 20:49:58,868] Trial 16 finished with value: -16376100916.143726 and parameters: {'max_depth': 30}. Best is trial 4 with value: -16276323523.41676.\n",
      "[I 2024-05-29 20:51:31,718] Trial 17 finished with value: -16458550139.985973 and parameters: {'max_depth': 54}. Best is trial 4 with value: -16276323523.41676.\n",
      "[I 2024-05-29 20:53:17,584] Trial 18 finished with value: -16628588200.252796 and parameters: {'max_depth': 90}. Best is trial 4 with value: -16276323523.41676.\n",
      "[I 2024-05-29 20:54:53,101] Trial 19 finished with value: -16410650372.185856 and parameters: {'max_depth': 18}. Best is trial 4 with value: -16276323523.41676.\n",
      "[I 2024-05-29 20:56:35,283] Trial 20 finished with value: -16299817909.852304 and parameters: {'max_depth': 37}. Best is trial 4 with value: -16276323523.41676.\n",
      "[I 2024-05-29 20:58:17,363] Trial 21 finished with value: -16290055297.637396 and parameters: {'max_depth': 35}. Best is trial 4 with value: -16276323523.41676.\n",
      "[I 2024-05-29 21:00:09,950] Trial 22 finished with value: -16598103296.363775 and parameters: {'max_depth': 26}. Best is trial 4 with value: -16276323523.41676.\n",
      "[I 2024-05-29 21:01:43,491] Trial 23 finished with value: -16443180736.891087 and parameters: {'max_depth': 43}. Best is trial 4 with value: -16276323523.41676.\n",
      "[I 2024-05-29 21:03:13,417] Trial 24 finished with value: -16159227981.064463 and parameters: {'max_depth': 59}. Best is trial 24 with value: -16159227981.064463.\n",
      "[I 2024-05-29 21:04:33,732] Trial 25 finished with value: -16488248706.860983 and parameters: {'max_depth': 59}. Best is trial 24 with value: -16159227981.064463.\n",
      "[I 2024-05-29 21:06:03,829] Trial 26 finished with value: -16290260409.88447 and parameters: {'max_depth': 61}. Best is trial 24 with value: -16159227981.064463.\n",
      "[I 2024-05-29 21:07:24,799] Trial 27 finished with value: -16435451034.70779 and parameters: {'max_depth': 78}. Best is trial 24 with value: -16159227981.064463.\n",
      "[I 2024-05-29 21:08:43,864] Trial 28 finished with value: -16659123932.071238 and parameters: {'max_depth': 50}. Best is trial 24 with value: -16159227981.064463.\n",
      "[I 2024-05-29 21:08:55,990] Trial 29 finished with value: -46472539992.48264 and parameters: {'max_depth': 3}. Best is trial 24 with value: -16159227981.064463.\n",
      "[I 2024-05-29 21:10:19,444] Trial 30 finished with value: -16363225663.084082 and parameters: {'max_depth': 61}. Best is trial 24 with value: -16159227981.064463.\n",
      "[I 2024-05-29 21:11:50,112] Trial 31 finished with value: -16453515839.015469 and parameters: {'max_depth': 38}. Best is trial 24 with value: -16159227981.064463.\n",
      "[I 2024-05-29 21:13:24,467] Trial 32 finished with value: -16021914041.728642 and parameters: {'max_depth': 42}. Best is trial 32 with value: -16021914041.728642.\n",
      "[I 2024-05-29 21:15:00,358] Trial 33 finished with value: -16362780141.226269 and parameters: {'max_depth': 42}. Best is trial 32 with value: -16021914041.728642.\n",
      "[I 2024-05-29 21:16:34,153] Trial 34 finished with value: -16558039553.5271 and parameters: {'max_depth': 53}. Best is trial 32 with value: -16021914041.728642.\n",
      "[I 2024-05-29 21:18:12,828] Trial 35 finished with value: -16363722603.656763 and parameters: {'max_depth': 73}. Best is trial 32 with value: -16021914041.728642.\n",
      "[I 2024-05-29 21:19:51,608] Trial 36 finished with value: -16401276459.313175 and parameters: {'max_depth': 25}. Best is trial 32 with value: -16021914041.728642.\n",
      "[I 2024-05-29 21:20:37,175] Trial 37 finished with value: -18982911020.286148 and parameters: {'max_depth': 9}. Best is trial 32 with value: -16021914041.728642.\n",
      "[I 2024-05-29 21:22:23,449] Trial 38 finished with value: -16401884999.123425 and parameters: {'max_depth': 30}. Best is trial 32 with value: -16021914041.728642.\n",
      "[I 2024-05-29 21:24:08,449] Trial 39 finished with value: -16208100195.841064 and parameters: {'max_depth': 64}. Best is trial 32 with value: -16021914041.728642.\n",
      "[I 2024-05-29 21:25:46,433] Trial 40 finished with value: -16386306243.19891 and parameters: {'max_depth': 67}. Best is trial 32 with value: -16021914041.728642.\n",
      "[I 2024-05-29 21:27:30,724] Trial 41 finished with value: -16379266402.226053 and parameters: {'max_depth': 65}. Best is trial 32 with value: -16021914041.728642.\n",
      "[I 2024-05-29 21:29:08,627] Trial 42 finished with value: -16493348370.795197 and parameters: {'max_depth': 46}. Best is trial 32 with value: -16021914041.728642.\n",
      "[I 2024-05-29 21:30:46,302] Trial 43 finished with value: -16368766414.224903 and parameters: {'max_depth': 84}. Best is trial 32 with value: -16021914041.728642.\n",
      "[I 2024-05-29 21:32:21,732] Trial 44 finished with value: -16221968290.328833 and parameters: {'max_depth': 73}. Best is trial 32 with value: -16021914041.728642.\n",
      "[I 2024-05-29 21:33:58,534] Trial 45 finished with value: -16029547051.086838 and parameters: {'max_depth': 72}. Best is trial 32 with value: -16021914041.728642.\n",
      "[I 2024-05-29 21:35:36,184] Trial 46 finished with value: -16222779831.880749 and parameters: {'max_depth': 72}. Best is trial 32 with value: -16021914041.728642.\n",
      "[I 2024-05-29 21:37:14,908] Trial 47 finished with value: -16504979136.14333 and parameters: {'max_depth': 78}. Best is trial 32 with value: -16021914041.728642.\n",
      "[I 2024-05-29 21:38:54,383] Trial 48 finished with value: -16488282804.61147 and parameters: {'max_depth': 90}. Best is trial 32 with value: -16021914041.728642.\n",
      "[I 2024-05-29 21:40:36,838] Trial 49 finished with value: -16464309390.396338 and parameters: {'max_depth': 68}. Best is trial 32 with value: -16021914041.728642.\n",
      "[I 2024-05-29 21:42:08,750] Trial 50 finished with value: -16435524606.662556 and parameters: {'max_depth': 77}. Best is trial 32 with value: -16021914041.728642.\n",
      "[I 2024-05-29 21:43:27,428] Trial 51 finished with value: -16186985082.61847 and parameters: {'max_depth': 72}. Best is trial 32 with value: -16021914041.728642.\n",
      "[I 2024-05-29 21:44:44,696] Trial 52 finished with value: -16453988573.858866 and parameters: {'max_depth': 86}. Best is trial 32 with value: -16021914041.728642.\n",
      "[I 2024-05-29 21:46:01,935] Trial 53 finished with value: -16478396217.659588 and parameters: {'max_depth': 63}. Best is trial 32 with value: -16021914041.728642.\n",
      "[I 2024-05-29 21:47:20,135] Trial 54 finished with value: -16114779451.429455 and parameters: {'max_depth': 70}. Best is trial 32 with value: -16021914041.728642.\n",
      "[I 2024-05-29 21:48:37,046] Trial 55 finished with value: -16239340242.348154 and parameters: {'max_depth': 57}. Best is trial 32 with value: -16021914041.728642.\n",
      "[I 2024-05-29 21:49:53,780] Trial 56 finished with value: -16368699811.101736 and parameters: {'max_depth': 69}. Best is trial 32 with value: -16021914041.728642.\n",
      "[I 2024-05-29 21:51:13,098] Trial 57 finished with value: -16372190121.447979 and parameters: {'max_depth': 82}. Best is trial 32 with value: -16021914041.728642.\n",
      "[I 2024-05-29 21:52:48,113] Trial 58 finished with value: -16700319265.500961 and parameters: {'max_depth': 65}. Best is trial 32 with value: -16021914041.728642.\n",
      "[I 2024-05-29 21:54:26,138] Trial 59 finished with value: -16518028760.89494 and parameters: {'max_depth': 57}. Best is trial 32 with value: -16021914041.728642.\n",
      "[I 2024-05-29 21:56:01,322] Trial 60 finished with value: -16393138555.949743 and parameters: {'max_depth': 75}. Best is trial 32 with value: -16021914041.728642.\n",
      "[I 2024-05-29 21:57:44,079] Trial 61 finished with value: -16162243931.405523 and parameters: {'max_depth': 70}. Best is trial 32 with value: -16021914041.728642.\n",
      "[I 2024-05-29 21:59:05,969] Trial 62 finished with value: -16285519981.63002 and parameters: {'max_depth': 71}. Best is trial 32 with value: -16021914041.728642.\n",
      "[I 2024-05-29 22:00:29,942] Trial 63 finished with value: -16298929167.655523 and parameters: {'max_depth': 61}. Best is trial 32 with value: -16021914041.728642.\n",
      "[I 2024-05-29 22:01:51,206] Trial 64 finished with value: -16400506790.217825 and parameters: {'max_depth': 64}. Best is trial 32 with value: -16021914041.728642.\n",
      "[I 2024-05-29 22:03:21,081] Trial 65 finished with value: -16253080408.685467 and parameters: {'max_depth': 69}. Best is trial 32 with value: -16021914041.728642.\n",
      "[I 2024-05-29 22:04:44,013] Trial 66 finished with value: -16438030429.065546 and parameters: {'max_depth': 80}. Best is trial 32 with value: -16021914041.728642.\n",
      "[I 2024-05-29 22:06:34,851] Trial 67 finished with value: -16080707575.738718 and parameters: {'max_depth': 100}. Best is trial 32 with value: -16021914041.728642.\n",
      "[I 2024-05-29 22:08:44,413] Trial 68 finished with value: -16563740675.802328 and parameters: {'max_depth': 100}. Best is trial 32 with value: -16021914041.728642.\n",
      "[I 2024-05-29 22:11:28,745] Trial 69 finished with value: -16445593903.628464 and parameters: {'max_depth': 91}. Best is trial 32 with value: -16021914041.728642.\n",
      "[I 2024-05-29 22:14:33,395] Trial 70 finished with value: -16541737327.313946 and parameters: {'max_depth': 52}. Best is trial 32 with value: -16021914041.728642.\n",
      "[I 2024-05-29 22:17:36,902] Trial 71 finished with value: -16362250469.008785 and parameters: {'max_depth': 48}. Best is trial 32 with value: -16021914041.728642.\n",
      "[I 2024-05-29 22:20:40,487] Trial 72 finished with value: -16291271683.57334 and parameters: {'max_depth': 94}. Best is trial 32 with value: -16021914041.728642.\n",
      "[I 2024-05-29 22:23:34,591] Trial 73 finished with value: -16457815064.465313 and parameters: {'max_depth': 75}. Best is trial 32 with value: -16021914041.728642.\n",
      "[I 2024-05-29 22:26:17,989] Trial 74 finished with value: -16398678211.444607 and parameters: {'max_depth': 42}. Best is trial 32 with value: -16021914041.728642.\n",
      "[I 2024-05-29 22:29:02,063] Trial 75 finished with value: -16430310448.42594 and parameters: {'max_depth': 59}. Best is trial 32 with value: -16021914041.728642.\n",
      "[I 2024-05-29 22:31:58,750] Trial 76 finished with value: -16610409614.377645 and parameters: {'max_depth': 96}. Best is trial 32 with value: -16021914041.728642.\n",
      "[I 2024-05-29 22:33:32,298] Trial 77 finished with value: -16357671694.603476 and parameters: {'max_depth': 56}. Best is trial 32 with value: -16021914041.728642.\n",
      "[I 2024-05-29 22:34:58,237] Trial 78 finished with value: -16250682563.06986 and parameters: {'max_depth': 84}. Best is trial 32 with value: -16021914041.728642.\n",
      "[I 2024-05-29 22:36:24,486] Trial 79 finished with value: -16216937571.945795 and parameters: {'max_depth': 50}. Best is trial 32 with value: -16021914041.728642.\n",
      "[I 2024-05-29 22:37:54,590] Trial 80 finished with value: -16446717685.42622 and parameters: {'max_depth': 76}. Best is trial 32 with value: -16021914041.728642.\n",
      "[I 2024-05-29 22:39:24,999] Trial 81 finished with value: -16363758911.575342 and parameters: {'max_depth': 44}. Best is trial 32 with value: -16021914041.728642.\n",
      "[I 2024-05-29 22:41:01,353] Trial 82 finished with value: -16376287106.429876 and parameters: {'max_depth': 50}. Best is trial 32 with value: -16021914041.728642.\n",
      "[I 2024-05-29 22:43:01,613] Trial 83 finished with value: -16461065005.82951 and parameters: {'max_depth': 39}. Best is trial 32 with value: -16021914041.728642.\n",
      "[I 2024-05-29 22:44:28,485] Trial 84 finished with value: -16447963825.332062 and parameters: {'max_depth': 54}. Best is trial 32 with value: -16021914041.728642.\n",
      "[I 2024-05-29 22:45:55,430] Trial 85 finished with value: -16493650409.07779 and parameters: {'max_depth': 62}. Best is trial 32 with value: -16021914041.728642.\n",
      "[I 2024-05-29 22:47:16,454] Trial 86 finished with value: -16232853725.047724 and parameters: {'max_depth': 35}. Best is trial 32 with value: -16021914041.728642.\n",
      "[I 2024-05-29 22:48:39,891] Trial 87 finished with value: -16595801856.7789 and parameters: {'max_depth': 67}. Best is trial 32 with value: -16021914041.728642.\n",
      "[I 2024-05-29 22:50:16,176] Trial 88 finished with value: -16394827407.076984 and parameters: {'max_depth': 70}. Best is trial 32 with value: -16021914041.728642.\n",
      "[I 2024-05-29 22:51:54,067] Trial 89 finished with value: -16318574898.99755 and parameters: {'max_depth': 60}. Best is trial 32 with value: -16021914041.728642.\n",
      "[I 2024-05-29 22:53:32,905] Trial 90 finished with value: -16431081459.350918 and parameters: {'max_depth': 87}. Best is trial 32 with value: -16021914041.728642.\n",
      "[I 2024-05-29 22:55:12,280] Trial 91 finished with value: -16388309726.985006 and parameters: {'max_depth': 74}. Best is trial 32 with value: -16021914041.728642.\n",
      "[I 2024-05-29 22:56:52,858] Trial 92 finished with value: -16403945595.483236 and parameters: {'max_depth': 72}. Best is trial 32 with value: -16021914041.728642.\n",
      "[I 2024-05-29 22:58:35,637] Trial 93 finished with value: -16310565697.866077 and parameters: {'max_depth': 79}. Best is trial 32 with value: -16021914041.728642.\n",
      "[I 2024-05-29 23:00:14,833] Trial 94 finished with value: -16401602179.128012 and parameters: {'max_depth': 65}. Best is trial 32 with value: -16021914041.728642.\n",
      "[I 2024-05-29 23:01:55,167] Trial 95 finished with value: -16550553370.769156 and parameters: {'max_depth': 47}. Best is trial 32 with value: -16021914041.728642.\n",
      "[I 2024-05-29 23:03:33,216] Trial 96 finished with value: -16395369029.422192 and parameters: {'max_depth': 67}. Best is trial 32 with value: -16021914041.728642.\n",
      "[I 2024-05-29 23:05:15,561] Trial 97 finished with value: -16462254568.258366 and parameters: {'max_depth': 58}. Best is trial 32 with value: -16021914041.728642.\n",
      "[I 2024-05-29 23:06:56,195] Trial 98 finished with value: -16520132161.762783 and parameters: {'max_depth': 82}. Best is trial 32 with value: -16021914041.728642.\n",
      "[I 2024-05-29 23:08:27,889] Trial 99 finished with value: -16422657286.441519 and parameters: {'max_depth': 73}. Best is trial 32 with value: -16021914041.728642.\n"
     ]
    }
   ],
   "source": [
    "rf_cv = optuna_cross_validation(\n",
    "    params={\n",
    "        'max_depth': optuna.distributions.IntDistribution(1,100)\n",
    "    },\n",
    "    model=RandomForestRegressor()\n",
    ")"
   ],
   "metadata": {
    "collapsed": false,
    "ExecuteTime": {
     "end_time": "2024-05-29T16:08:54.664009200Z",
     "start_time": "2024-05-29T13:24:44.548694800Z"
    }
   }
  },
  {
   "cell_type": "code",
   "execution_count": 30,
   "outputs": [
    {
     "data": {
      "text/plain": "{'max_depth': 42}"
     },
     "execution_count": 30,
     "metadata": {},
     "output_type": "execute_result"
    }
   ],
   "source": [
    "rf_cv.best_params_"
   ],
   "metadata": {
    "collapsed": false,
    "ExecuteTime": {
     "end_time": "2024-05-29T16:12:28.550518900Z",
     "start_time": "2024-05-29T16:12:28.543656800Z"
    }
   }
  }
 ],
 "metadata": {
  "kernelspec": {
   "display_name": "Python 3",
   "language": "python",
   "name": "python3"
  },
  "language_info": {
   "codemirror_mode": {
    "name": "ipython",
    "version": 2
   },
   "file_extension": ".py",
   "mimetype": "text/x-python",
   "name": "python",
   "nbconvert_exporter": "python",
   "pygments_lexer": "ipython2",
   "version": "2.7.6"
  }
 },
 "nbformat": 4,
 "nbformat_minor": 0
}
